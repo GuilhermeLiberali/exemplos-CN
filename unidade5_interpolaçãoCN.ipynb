{
  "nbformat": 4,
  "nbformat_minor": 0,
  "metadata": {
    "colab": {
      "provenance": [],
      "authorship_tag": "ABX9TyPKVMRoHHB+zDG437Vd68cI",
      "include_colab_link": true
    },
    "kernelspec": {
      "name": "python3",
      "display_name": "Python 3"
    },
    "language_info": {
      "name": "python"
    }
  },
  "cells": [
    {
      "cell_type": "markdown",
      "metadata": {
        "id": "view-in-github",
        "colab_type": "text"
      },
      "source": [
        "<a href=\"https://colab.research.google.com/github/pccalegari/exemplos-CN/blob/main/unidade5_interpola%C3%A7%C3%A3oCN.ipynb\" target=\"_parent\"><img src=\"https://colab.research.google.com/assets/colab-badge.svg\" alt=\"Open In Colab\"/></a>"
      ]
    },
    {
      "cell_type": "markdown",
      "source": [
        "#Unidade 5: Aproximação de funções\n",
        "\n",
        "\n",
        "\n",
        "Nesta unidade, vamos estudar métodos para aproximar funções e dados tabelados. Veremos duas maneiras de aproximar funções: a Interpolação e o Método dos Mínimos Quadrados. A seguir, apresentamos alguns exemplos de resolução em Python. Vamos utilizar as bibliotecas numpy e scipy.\n",
        "\n",
        "**Interpolação Polinomial**\n",
        "\n",
        "Considere $n+1$ pontos distintos $x_0,x_1,\\ldots,y_n$ e $f(x_0),f(x_1),\\ldots,f(x_n)$. Interpolar $f(x)$ consiste em obter uma função aproximadora $g(x)$ tal que $g(x_i) = f(x_i)$, para $i=0,1,\\ldots,n.$\n",
        "\n",
        "\n",
        "\n",
        "\n",
        "\n",
        "\n"
      ],
      "metadata": {
        "id": "G8I6mAVy70iU"
      }
    },
    {
      "cell_type": "markdown",
      "source": [
        "Vamos estudar três formas de se obter um polinômio interpolador:\n",
        "\n",
        "1.  Resolvendo um sistema linear.\n",
        "2.  Fórmula de Lagrange.\n",
        "3.  Forma de Newton.\n",
        "\n",
        "**Proposição:**\n",
        "\n",
        "Dados $n+1$ pontos $(x_0,y_0),(x_1,y_1),\\ldots,(x_n,y_n)$, com $x_0,x_1,\\ldots,x_n$ distintos entre si, existe um único polinômio interpolador $p(x)$ de grau menor ou igual a $n$ que passa por esses pontos, ou seja, $p(x_i)=y_i$, para $i=0,1,\\ldots,n$.\n",
        "\n",
        "*demonstração:*\n",
        "\n",
        "Seja $p(x)=a_0+a_1x+a_2x^2+\\ldots+a_nx^n$ um polinômio de grau menor ou igual a $n$. Queremos determinar $a_0,a_1,\\ldots,a_n$ de modo que: $p(x_i)=y_i$. Ou seja,\n",
        "$$\\begin{array}{ccccccccccccc}\n",
        "p(x_0) & = & a_0 & + & a_1x_0 & + \\ldots & + & a_nx_0 = y_0\\\\\n",
        "p(x_1) & = & a_0 & + & a_1x_1 & + \\ldots & + & a_nx_1 = y_1\\\\\n",
        "\\vdots \\\\\n",
        "p(x_n) & = & a_0 & + & a_1x_n & + \\ldots & + & a_nx_n = y_n\\\\\n",
        "\\end{array}$$\n",
        "\n",
        "Na notação matricial,\n",
        "\n",
        "$$\\left(\\begin{array}{ccccc}\n",
        "1 & x_0 & x_0^2 & \\ldots & x_0^n \\\\\n",
        "1 & x_1 & x_1^2 & \\ldots & x_1^n \\\\\n",
        "\\vdots \\\\\n",
        "1 & x_n & x_n^2 & \\ldots & x_n^n\n",
        "\\end{array}\\right)\\left(\\begin{array}{c}\n",
        "a_0\\\\\n",
        "a_1\\\\\n",
        "\\vdots\\\\\n",
        "a_n\n",
        "\\end{array}\\right)=\\left(\\begin{array}{c}\n",
        "y_0\\\\\n",
        "y_1\\\\\n",
        "\\vdots\\\\\n",
        "y_n\n",
        "\\end{array}\\right)$$\n",
        "\n",
        "Para mostrar a existência e unicidade do polinômio interpolador precisamos mostrar que o sistema linear tenha única solução.\n",
        "\n",
        "Vamos considerar $n=1$ então temos o sistema linear:\n",
        "$$\\left(\\begin{array}{cc}\n",
        "1 & x_0 \\\\\n",
        "1 & x_1\n",
        "\\end{array}\\right)\\left(\\begin{array}{c}\n",
        "a_0\\\\\n",
        "a_1\n",
        "\\end{array}\\right)=\\left(\\begin{array}{c}\n",
        "y_0\\\\\n",
        "y_1\n",
        "\\end{array}\\right)$$\n",
        "\n",
        "Como $x_0\\neq x_1$ a matriz possui linhas linearmente independentes  e portanto o determinante é diferente de zero. Logo, a matriz é inversível e o sistema linear possui única solução. De forma análoga, verificamos para o sistema $(n+1)\\times (n+1)$, já que $x_0\\neq x_1\\neq \\ldots\\neq x_n$.\n",
        "\n",
        "*Exemplo 1:*\n",
        "\n",
        "Dada a tabela de valores da função $f(x)=e^x$. Aproxime (interpole) $f(x)$ em $x=1.32$.\n",
        "\n",
        "$$\\begin{array}{c|ccc}\n",
        "x & 1.3 & 1.4 & 1.5 \\\\\n",
        "\\hline\n",
        "f(x) & 3.669 & 4.055 & 4.482 \\\\\n",
        "\\end{array}$$\n"
      ],
      "metadata": {
        "id": "p3f2n2omAays"
      }
    },
    {
      "cell_type": "code",
      "source": [
        "import matplotlib.pyplot as plt\n",
        "import numpy as np\n",
        "from numpy import linalg as LA\n",
        "\n",
        "def polin(x, c):\n",
        "    y = c[0]\n",
        "    n = len(c)\n",
        "    for i in range(1,n):\n",
        "        y += c[i]*x**i\n",
        "    return y\n",
        "\n",
        "x = [1.3, 1.4, 1.5]\n",
        "y = [3.669, 4.055, 4.482]\n",
        "n = len(x)\n",
        "A = np.zeros((n,n))\n",
        "\n",
        "for j in range (n):\n",
        "   for i in range (n):\n",
        "      A[i][j] = x[i]**j\n",
        "\n",
        "c = np.linalg.solve(A, y)\n",
        "\n",
        "xi = 1.32\n",
        "yi = polin(xi, c)\n",
        "\n",
        "print(yi - np.exp(1.32))"
      ],
      "metadata": {
        "id": "0Kuj8E25Ghci"
      },
      "execution_count": null,
      "outputs": []
    },
    {
      "cell_type": "markdown",
      "source": [
        "Exemplo 2:\n",
        "\n",
        "Dada a tabela de valores\n",
        "$$\\begin{array}{c|ccccccc}\n",
        "x & 1 & 2 & 3 & 4 & 5 & 6 & 7 & 8\\\\\n",
        "\\hline\n",
        "f(x) & 0.5 & 0.6 & 0.9 & 0.8 & 1.2 & 1.5 & 1.7 & 2\\\\\n",
        "\\end{array}$$\n",
        "\n",
        "Obtenha o polinômio que interpola os dados da tabela."
      ],
      "metadata": {
        "id": "_tjOzcsZHDUK"
      }
    },
    {
      "cell_type": "code",
      "execution_count": 7,
      "metadata": {
        "id": "lF4cohhR7pAw",
        "colab": {
          "base_uri": "https://localhost:8080/",
          "height": 449
        },
        "outputId": "b6ddee2a-bd28-455d-d415-1d96a6ce005a"
      },
      "outputs": [
        {
          "output_type": "display_data",
          "data": {
            "text/plain": [
              "<Figure size 640x480 with 1 Axes>"
            ],
            "image/png": "[encoded data removed]"
          },
          "metadata": {}
        }
      ],
      "source": [
        "import matplotlib.pyplot as plt\n",
        "import numpy as np\n",
        "from numpy import linalg as LA\n",
        "\n",
        "def polin(x, c):\n",
        "    y = c[0]\n",
        "    n = len(c)\n",
        "    for i in range(1,n):\n",
        "        y += c[i]*x**i\n",
        "    return y\n",
        "\n",
        "x = [1, 2, 3, 4, 5, 6, 7, 8]\n",
        "y = [0.5, 0.6, 0.9, 0.8, 1.2, 1.5, 1.7, 2]\n",
        "n = len(x)\n",
        "A = np.zeros((n,n))\n",
        "\n",
        "for j in range (n):\n",
        "   for i in range (n):\n",
        "      A[i][j] = x[i]**j\n",
        "\n",
        "c = np.linalg.solve(A, y)\n",
        "\n",
        "xx = np.linspace(1,8,101)\n",
        "yy = polin(xx, c)\n",
        "\n",
        "plt.figure(1)\n",
        "plt.plot(x, y, 'o', label='Dados')\n",
        "plt.plot(xx, yy, label='Polinomio')\n",
        "plt.xlabel(\"x\")\n",
        "plt.ylabel(\"y\")\n",
        "plt.legend()\n",
        "plt.show()"
      ]
    }
  ]
}