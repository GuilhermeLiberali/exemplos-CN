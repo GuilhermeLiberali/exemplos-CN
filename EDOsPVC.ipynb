{
  "nbformat": 4,
  "nbformat_minor": 0,
  "metadata": {
    "colab": {
      "provenance": [],
      "authorship_tag": "ABX9TyP6/GFAedrNGjHIGTADLz6p",
      "include_colab_link": true
    },
    "kernelspec": {
      "name": "python3",
      "display_name": "Python 3"
    },
    "language_info": {
      "name": "python"
    }
  },
  "cells": [
    {
      "cell_type": "markdown",
      "metadata": {
        "id": "view-in-github",
        "colab_type": "text"
      },
      "source": [
        "<a href=\"https://colab.research.google.com/github/pccalegari/exemplos-CN/blob/main/EDOsPVC.ipynb\" target=\"_parent\"><img src=\"https://colab.research.google.com/assets/colab-badge.svg\" alt=\"Open In Colab\"/></a>"
      ]
    },
    {
      "cell_type": "markdown",
      "source": [
        "# Métodos Numéricos para a solução de EDOs - Problema de valor de Contorno\n",
        "\n",
        "Vamos continuar o estudo de métodos para Equações Diferenciais Ordinárias. Nos  problemas de valor de contorno (PVC), a equação diferencial deverá ser satisfeita no intervalo $(a,b)$ e são conhecidas informações da solução nos extremos deste intervalo, as condições de contorno. Vamos estudar o método de Diferenças Finitas para resolver este problema.\n",
        "\n",
        "Um exemplo de problema de valor de contorno é:\n",
        "\n",
        "$$\\begin{array}{rll}\n",
        "y''+2y' + y & = x, & x\\in [a,b]\\\\\n",
        "y(a) & = 0, & \\\\\n",
        "y(b) & = -1, &  \\\\\n",
        "\\end{array}$$\n",
        "com $a=0$ e $b=1$, sendo $y(0)$ e $y(1)$ as condições de fronteira.\n",
        "\n",
        "**Método de Diferenças Finitas**\n",
        "\n",
        "Deduzido a partir de expansões da solução em Série de Taylor:\n",
        "\n",
        "$$y(x+\\Delta x) = y(x)+\\Delta x y'(x) + \\dfrac{\\Delta x^2}{2} y''(x) + \\dfrac{\\Delta x^3}{3!} y'''(x)+ O(\\Delta x^4),$$\n",
        "\n",
        "$$y(x-\\Delta x) = y(x)-\\Delta x y'(x) + \\dfrac{\\Delta x^2}{2} y''(x) - \\dfrac{\\Delta x^3}{3!} y'''(x)+ O(\\Delta x^4),$$\n",
        "com $\\Delta x= (b-a)/N$, $x_i=a+i\\Delta x$, com $i=0,1,\\ldots e N$, $N$ o número de subintervalos de $[a,b]$. Somando as duas expressões acima, obtemos uma aproximação para a segunda derivada:\n",
        "\n",
        "$$y''(x) = \\dfrac{y(x-\\Delta x) -2y(x) + y(x+\\Delta x)}{\\Delta x^2} + O(\\Delta x^2).$$\n",
        "Já para a primeira derivada obtemos três aproximações:\n",
        "\n",
        "$$y'(x)=\\dfrac{y(x+\\Delta x) - y(x)}{\\Delta x} + O(\\Delta x)$$\n",
        "$$y'(x)=\\dfrac{y(x) - y(x-\\Delta x)}{\\Delta x} + O(\\Delta x)$$\n",
        "$$y'(x)=\\dfrac{y(x+\\Delta x) - y(x-\\Delta x)}{2\\Delta x} + O(\\Delta x^2)$$\n",
        "\n",
        "Assim para cada $x_i\\in [a,b]$ temos:\n",
        "\n",
        "$$\\dfrac{y_{i-1} -2y_i + y_{i+1}}{\\Delta x^2}+2\\left(\\dfrac{y_i - y_{i-1}}{\\Delta x}\\right)+y_i=x_i, \\mbox{ com } i=1,\\ldots,N-1.$$\n"
      ],
      "metadata": {
        "id": "b0_ebxA5V6uq"
      }
    }
  ]
}