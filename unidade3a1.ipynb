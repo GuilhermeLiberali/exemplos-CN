{
  "nbformat": 4,
  "nbformat_minor": 0,
  "metadata": {
    "colab": {
      "name": "unidade3a1.ipynb",
      "provenance": [],
      "collapsed_sections": [],
      "toc_visible": true,
      "authorship_tag": "ABX9TyOB1T68WLFGD67b6jEjv33E",
      "include_colab_link": true
    },
    "kernelspec": {
      "name": "python3",
      "display_name": "Python 3"
    },
    "language_info": {
      "name": "python"
    }
  },
  "cells": [
    {
      "cell_type": "markdown",
      "metadata": {
        "id": "view-in-github",
        "colab_type": "text"
      },
      "source": [
        "<a href=\"https://colab.research.google.com/github/pccalegari/exemplos-CN/blob/main/unidade3a1.ipynb\" target=\"_parent\"><img src=\"https://colab.research.google.com/assets/colab-badge.svg\" alt=\"Open In Colab\"/></a>"
      ]
    },
    {
      "cell_type": "markdown",
      "metadata": {
        "id": "rRH8GXuTqTjd"
      },
      "source": [
        "\n",
        "\n",
        "\n",
        "\n",
        "# Unidade 3 - Sistemas de equações\n",
        "\n",
        "\n"
      ]
    },
    {
      "cell_type": "markdown",
      "metadata": {
        "id": "SUHnaI9tH795"
      },
      "source": [
        "Nesta unidade, vamos estudar métodos diretos e iterativos para aproximar a solução se sistemas de equações lineares e métodos iterativos para sistemas de equações não lineares. A seguir, apresentamos alguns exemplos de resolução em *Python*. Vamos utilizar as bibliotecas [numpy](https://numpy.org/) e [scipy](https://scipy.github.io/devdocs/index.html)."
      ]
    },
    {
      "cell_type": "markdown",
      "metadata": {
        "id": "UseaF7aVI3NX"
      },
      "source": [
        "# Método direto"
      ]
    },
    {
      "cell_type": "markdown",
      "metadata": {
        "id": "YXR5d7XdrIdb"
      },
      "source": [
        "\n",
        "\n",
        "Resolva os sistemas lineares abaixo usando o método de Eliminação de Gauss e Decomposição LU:    \n",
        "\n",
        "(1) $$\\begin{array}{rcl}\n",
        "7x_1 + 2x_2-5x_3 & = & -18\\\\  \n",
        "x_1 + 5x_2 -3x_3 & = & -40 \\\\  \n",
        "2x_1-x_2-9x_3 & = & -26\n",
        "\\end{array}$$\n",
        "\n",
        "(2) Programe os métodos para resolver $Ax = b$ onde, $$A_{ij}=\\dfrac{1}{i+j-1}, b_i=\\dfrac{1}{i}, i,j=1:n$$\n",
        "Use $n=20,50$ e $100$. Você pode explicar seus resultados? Note que a solução exata é $(1,0,\\ldots, 0)$.\n",
        "\n",
        "(3) Considere o sistema:    \n",
        "$$\\begin{array}{rcl}\n",
        "-2(1+h^2)x_1+x_2 & = & 1\\\\   \n",
        "x_{i-1} - 2(1+h^2)x_i+x_{i+1} &=& 0, \\ i=2:n-1\\\\ \n",
        "x_{n-1} - 2(1+h^2)x_n &= &1\n",
        "\\end{array}$$\n",
        "\n",
        "(a) Use o algoritmo para matrizes tridiagonais e resolva o problema com $n=3$ e $h=0.1$.\n",
        "\n",
        "(b) Programe o algoritmo para matriz triadiagonal e resolva o problema com $n=30$ e $h=0.1$."
      ]
    },
    {
      "cell_type": "code",
      "metadata": {
        "id": "xJuFV9C-qMEE",
        "colab": {
          "base_uri": "https://localhost:8080/"
        },
        "outputId": "5c37d1c2-778e-4156-c564-51817c26a71c"
      },
      "source": [
        "import numpy as np\n",
        "import matplotlib.pyplot as plt\n",
        "from scipy import linalg\n",
        "from time import time\n",
        "\n",
        "A = np.array([[-1, -2.3, 4.7, 12], [-1.1, 2, 3.1,3.9], [-2.1, -2.2, 3.7, 16], [-1.2, 2.1, -1.1, 4]])\n",
        "b = np.array([[4], [3.9], [12.2], [6]])\n",
        "\n",
        "start_time = time()\n",
        "x = linalg.inv(A).dot(b) \n",
        "print(\"tempo inversa: \", time() - start_time)\n",
        "\n",
        "start_time = time()\n",
        "x1 = np.linalg.solve(A, b)  \n",
        "print(\"tempo eliminação Gauss: \", time() - start_time)\n"
      ],
      "execution_count": null,
      "outputs": [
        {
          "output_type": "stream",
          "name": "stdout",
          "text": [
            "tempo inversa:  0.013547420501708984\n",
            "tempo eliminação Gauss:  0.0012373924255371094\n"
          ]
        }
      ]
    },
    {
      "cell_type": "markdown",
      "source": [
        "Decomposição LU, usando a biblioteca *scipy*. A função LU devolve as matrizes $P$ (Permutação), $L$ (triangular inferior) e $U$ (triangular superior). \n",
        "\n",
        "Exemplo: $$A = \\left (\\begin{array}{ccc}\n",
        "1 & 4 & 52 \\\\\n",
        "27 & 110 & -3 \\\\\n",
        "22 & 2 & 14 \\\\\n",
        "\\end{array}\\right )$$"
      ],
      "metadata": {
        "id": "ieDZsIP00WtB"
      }
    },
    {
      "cell_type": "code",
      "source": [
        "import numpy as np\n",
        "from scipy.linalg import lu\n",
        "\n",
        "A = np.array([[1, 4, 52], [27, 110, -3], [22, 2, 14]])\n",
        "\n",
        "p, l, u = lu(A)\n",
        "\n",
        "np.allclose(A - p@l@u, np.zeros((3,3)))\n",
        "\n",
        "print(l)\n",
        "\n",
        "print(u)\n",
        "\n",
        "print(p)"
      ],
      "metadata": {
        "id": "8nqTvvY1Hkn4",
        "outputId": "50221098-8094-49c8-d5a0-dc1aef0a0954",
        "colab": {
          "base_uri": "https://localhost:8080/"
        }
      },
      "execution_count": 10,
      "outputs": [
        {
          "output_type": "stream",
          "name": "stdout",
          "text": [
            "[[1.00000000e+00 0.00000000e+00 0.00000000e+00]\n",
            " [8.14814815e-01 1.00000000e+00 0.00000000e+00]\n",
            " [3.70370370e-02 8.45308538e-04 1.00000000e+00]]\n",
            "[[ 27.         110.          -3.        ]\n",
            " [  0.         -87.62962963  16.44444444]\n",
            " [  0.           0.          52.09721048]]\n",
            "[[0. 0. 1.]\n",
            " [1. 0. 0.]\n",
            " [0. 1. 0.]]\n"
          ]
        }
      ]
    },
    {
      "cell_type": "markdown",
      "metadata": {
        "id": "P9Ve8gDTHl29"
      },
      "source": [
        "# Métodos iterativos"
      ]
    },
    {
      "cell_type": "markdown",
      "metadata": {
        "id": "YLptKFgMCISg"
      },
      "source": [
        "\n",
        "Método de Jacobi e método de Gauss-Seidel\n",
        "\n",
        "(4) Faça três iterações dos métodos de Gauss-Seidel e Jacobi para resolver o sistema:    \n",
        "\n",
        "$$\\begin{array}{rcl}\n",
        "4x_1+0.24x_2+0.08x_3 &=& 8\\\\ \n",
        "0.09x_1+3x_2-0.15x_3 & = & 9\\\\ \n",
        "0.04x_1-0.08x_2+4x_3 & = & 20\n",
        "\\end{array}$$\n",
        "\n",
        "Utilize $x^{0}=(0,0,0)$ e analise $\\max_{i}|x_i^k - x_i^{k-1}|$ a cada iteração.\n",
        "\n"
      ]
    }
  ]
}