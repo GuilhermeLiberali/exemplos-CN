{
  "nbformat": 4,
  "nbformat_minor": 0,
  "metadata": {
    "colab": {
      "provenance": [],
      "authorship_tag": "ABX9TyNcTSss3vqguFiTDL4Ajyz9",
      "include_colab_link": true
    },
    "kernelspec": {
      "name": "python3",
      "display_name": "Python 3"
    },
    "language_info": {
      "name": "python"
    }
  },
  "cells": [
    {
      "cell_type": "markdown",
      "metadata": {
        "id": "view-in-github",
        "colab_type": "text"
      },
      "source": [
        "<a href=\"https://colab.research.google.com/github/pccalegari/exemplos-CN/blob/main/unidade4_cn.ipynb\" target=\"_parent\"><img src=\"https://colab.research.google.com/assets/colab-badge.svg\" alt=\"Open In Colab\"/></a>"
      ]
    },
    {
      "cell_type": "markdown",
      "metadata": {
        "id": "rRH8GXuTqTjd"
      },
      "source": [
        "\n",
        "\n",
        "\n",
        "\n",
        "# Unidade 4 - Aproximação de funções\n",
        "\n",
        "\n"
      ]
    },
    {
      "cell_type": "markdown",
      "metadata": {
        "id": "SUHnaI9tH795"
      },
      "source": [
        "Nesta unidade, vamos estudar métodos para aproximar funções e dados tabelados. Veremos duas maneiras de aproximar funções: a **Interpolação** e o **Método dos Mínimos Quadrados**. A seguir, apresentamos alguns exemplos de resolução em *Python*. Vamos utilizar as bibliotecas [numpy](https://numpy.org/) e [scipy](https://scipy.github.io/devdocs/index.html)."
      ]
    },
    {
      "cell_type": "markdown",
      "source": [
        "# Método dos Mínimos Quadrados\n"
      ],
      "metadata": {
        "id": "BzfCDkbctjB2"
      }
    },
    {
      "cell_type": "markdown",
      "source": [
        "Objetivo: Minimizar resíduo (erro).\n",
        "\n",
        "Para obter a melhor aproximação vamos minimizar a função:\n",
        "\n",
        "$$  r({\\bf a}) = \\sum_{i=1}^m r_i({\\bf a})^2,$$\n",
        "\n",
        "sendo o resíduo $r_i({\\bf a}) = f(x_i,{\\bf a}) - y_i$, com $(x_i,y_i)$ dados e $m$ tamanho dos vetores $x$ e $y$.\n",
        "\n",
        "Para ajustar os parâmetros da função $r({\\bf a})$ vamos utilizar as bibliotecas *numpy* e *scipy*.\n"
      ],
      "metadata": {
        "id": "fEiwpGcQtq0n"
      }
    },
    {
      "cell_type": "markdown",
      "source": [
        "**Exemplo (1)**\n",
        "\n",
        "Ajustar os dados abaixo usando uma reta (Regressão linear):\n",
        "\n",
        "$$\\begin{array}{c|ccccc}\n",
        "x_i & 0 & 0.25 & 0.5 & 0.75 & 1\\\\\n",
        "\\hline\n",
        "f(x_i) & 1 & 1.2840 & 1.6487 & 2.1170 & 2.7183 \\\\\n",
        "\\end{array}$$\n",
        "\n",
        "*Solução:*\n",
        "\n",
        "A função aproximadora é dada por $g(x)=a_0 + a_1x$. A tabela possui $5$ pontos portanto $m=5$."
      ],
      "metadata": {
        "id": "jPvEib3Cu9-w"
      }
    },
    {
      "cell_type": "code",
      "metadata": {
        "id": "zlmv5UJ9IHbv"
      },
      "source": [
        "import matplotlib.pyplot as plt\n",
        "import numpy as np\n",
        "from scipy import optimize\n",
        "from scipy import interpolate\n",
        "from numpy import linalg as LA\n",
        "\n",
        "def flinear(x, a):\n",
        "    y = a[0] + a[1]*x\n",
        "    #y = a[0]*x + a[1]*np.cos(x)\n",
        "    return y\n",
        "\n",
        "def rlinear(a, x, y):\n",
        "    return flinear(x, a) - y\n",
        "\n",
        "xi = np.array([0, 0.25, 0.5, 0.75 , 1])\n",
        "yi = np.array([1, 1.2840, 1.6487, 2.117, 2.7183])\n",
        "#Exemplo 1 (aula)\n",
        "#xi = np.array([0, 1, 2, 3, 4])\n",
        "#yi = np.array([0, 1, 1, 4, 4])\n",
        "\n",
        "#Exemplo 2 (aula)\n",
        "#xi = np.array([0, 1.5, 3, 4.5, 6])\n",
        "#yi = np.array([1, 1.57, 2, 4.3, 7])\n",
        "m = len(xi)\n",
        "\n",
        "v_1 = np.ones(m)\n",
        "\n",
        "#Sistema para o ajuste por reta\n",
        "A = np.zeros((2,2))\n",
        "b = np.zeros(2)\n",
        "A[0,0] = np.vdot(v_1,v_1)\n",
        "A[1,0] = np.vdot(v_1,xi)\n",
        "A[0,1] = A[1,0]\n",
        "A[1,1] = np.vdot(xi, xi)\n",
        "b[0] = np.vdot(v_1, yi)\n",
        "b[1] = np.vdot(xi, yi)\n",
        "\n",
        "#Sistema doa ajuste g(x) = a0x + a1cos(x)\n",
        "#A[0,0] = np.vdot(xi, xi)\n",
        "#A[1,0] = np.vdot(xi, np.cos(xi))\n",
        "#A[0,1] = A[1,0]\n",
        "#A[1,1] = np.vdot(np.cos(xi), np.cos(xi))\n",
        "#b[0] = np.vdot(xi, yi)\n",
        "#b[1] = np.vdot(np.cos(xi), yi)\n",
        "print(A)\n",
        "a = np.linalg.solve(A, b)\n",
        "print(a)\n",
        "res = 0\n",
        "for i in range(m):\n",
        "   res += (rlinear(a, xi[i], yi[i])**2)\n",
        "print(\"residuo = \", res)\n",
        "\n",
        "x_test = np.linspace(xi[0], xi[m-1], 100)\n",
        "\n",
        "y_lin = flinear(x_test, a)\n",
        "\n",
        "plt.figure(1)\n",
        "plt.plot(xi, yi, 'o', label='Experimento')\n",
        "plt.plot(x_test, y_lin, label='Ajuste linear')\n",
        "plt.xlabel(\"x\")\n",
        "plt.ylabel(\"y\")\n",
        "plt.legend()\n",
        "plt.show()"
      ],
      "execution_count": null,
      "outputs": []
    }
  ]
}