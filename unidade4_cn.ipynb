{
  "nbformat": 4,
  "nbformat_minor": 0,
  "metadata": {
    "colab": {
      "provenance": [],
      "authorship_tag": "ABX9TyNGaIojSeU/qGyti6u4dbIR",
      "include_colab_link": true
    },
    "kernelspec": {
      "name": "python3",
      "display_name": "Python 3"
    },
    "language_info": {
      "name": "python"
    }
  },
  "cells": [
    {
      "cell_type": "markdown",
      "metadata": {
        "id": "view-in-github",
        "colab_type": "text"
      },
      "source": [
        "<a href=\"https://colab.research.google.com/github/pccalegari/exemplos-CN/blob/main/unidade4_cn.ipynb\" target=\"_parent\"><img src=\"https://colab.research.google.com/assets/colab-badge.svg\" alt=\"Open In Colab\"/></a>"
      ]
    },
    {
      "cell_type": "markdown",
      "metadata": {
        "id": "rRH8GXuTqTjd"
      },
      "source": [
        "\n",
        "\n",
        "\n",
        "\n",
        "# Unidade 4 - Aproximação de funções\n",
        "\n",
        "\n"
      ]
    },
    {
      "cell_type": "markdown",
      "metadata": {
        "id": "SUHnaI9tH795"
      },
      "source": [
        "Nesta unidade, vamos estudar métodos para aproximar funções e dados tabelados. Veremos duas maneiras de aproximar funções: a **Interpolação** e o **Método dos Mínimos Quadrados**. A seguir, apresentamos alguns exemplos de resolução em *Python*. Vamos utilizar as bibliotecas [numpy](https://numpy.org/) e [scipy](https://scipy.github.io/devdocs/index.html)."
      ]
    },
    {
      "cell_type": "markdown",
      "source": [
        "# Método dos Mínimos Quadrados\n"
      ],
      "metadata": {
        "id": "BzfCDkbctjB2"
      }
    },
    {
      "cell_type": "markdown",
      "source": [
        "**Problema Discreto:**\n",
        "\n",
        "Objetivo: Minimizar resíduo (erro).\n",
        "\n",
        "Para obter a melhor aproximação vamos minimizar a função:\n",
        "\n",
        "$$  r({\\bf a}) = \\sum_{i=1}^m r_i({\\bf a})^2,$$\n",
        "\n",
        "sendo o resíduo $r_i({\\bf a}) = f(x_i,{\\bf a}) - y_i$, com $(x_i,y_i)$ dados e $m$ tamanho dos vetores $x$ e $y$.\n",
        "\n",
        "Para ajustar os parâmetros da função $r({\\bf a})$ vamos utilizar as bibliotecas *numpy* e *scipy*.\n",
        "\n",
        " *Assunto descrito em aula, para mais detalhes, veja material disponível no moodle.*"
      ],
      "metadata": {
        "id": "fEiwpGcQtq0n"
      }
    },
    {
      "cell_type": "markdown",
      "source": [
        "**Exemplo (1)**\n",
        "\n",
        "Ajustar os dados abaixo usando uma reta (Regressão linear):\n",
        "\n",
        "$$\\begin{array}{c|ccccc}\n",
        "x_i & 0 & 0.25 & 0.5 & 0.75 & 1\\\\\n",
        "\\hline\n",
        "y_i & 1 & 1.2840 & 1.6487 & 2.1170 & 2.7183 \\\\\n",
        "\\end{array}$$\n",
        "\n",
        "*Solução:*\n",
        "\n",
        "A função aproximadora é dada por $g(x)=a_0 + a_1x$. A tabela possui $5$ pontos portanto $m=5$."
      ],
      "metadata": {
        "id": "jPvEib3Cu9-w"
      }
    },
    {
      "cell_type": "code",
      "metadata": {
        "id": "zlmv5UJ9IHbv",
        "outputId": "a40769fe-6d48-4c9f-b7cc-62613032cbc3",
        "colab": {
          "base_uri": "https://localhost:8080/",
          "height": 536
        }
      },
      "source": [
        "import matplotlib.pyplot as plt\n",
        "import numpy as np\n",
        "from numpy import linalg as LA\n",
        "\n",
        "def flinear(x, a):\n",
        "    #y = a[0] + a[1]*x\n",
        "    y = a[0]*x + a[1]*np.cos(x)\n",
        "    return y\n",
        "\n",
        "def rlinear(a, x, y):\n",
        "    return flinear(x, a) - y\n",
        "\n",
        "#xi = np.array([0, 0.25, 0.5, 0.75 , 1])\n",
        "#yi = np.array([1, 1.2840, 1.6487, 2.117, 2.7183])\n",
        "\n",
        "#Exemplo 1 (aula)\n",
        "#xi = np.array([0, 1, 2, 3, 4])\n",
        "#yi = np.array([0, 1, 1, 4, 4])\n",
        "\n",
        "#Exemplo 2 (aula)\n",
        "xi = np.array([0, 1.5, 3, 4.5, 6])\n",
        "yi = np.array([1, 1.57, 2, 4.3, 7])\n",
        "m = len(xi)\n",
        "v_1 = np.ones(m)\n",
        "\n",
        "#Sistema para o ajuste por reta\n",
        "A = np.zeros((2,2))\n",
        "b = np.zeros(2)\n",
        "\n",
        "# Sistema do exemplo 1\n",
        "#A[0,0] = np.vdot(v_1,v_1)\n",
        "#A[1,0] = np.vdot(v_1,xi)\n",
        "#A[0,1] = A[1,0]\n",
        "#A[1,1] = np.vdot(xi, xi)\n",
        "#b[0] = np.vdot(v_1, yi)\n",
        "#b[1] = np.vdot(xi, yi)\n",
        "\n",
        "#Sistema do ajuste g(x) = a0x + a1cos(x), exemplo 2\n",
        "A[0,0] = np.vdot(xi, xi)\n",
        "A[1,0] = np.vdot(xi, np.cos(xi))\n",
        "A[0,1] = A[1,0]\n",
        "A[1,1] = np.vdot(np.cos(xi), np.cos(xi))\n",
        "b[0] = np.vdot(xi, yi)\n",
        "b[1] = np.vdot(np.cos(xi), yi)\n",
        "print(A)\n",
        "print(b)\n",
        "a = np.linalg.solve(A, b)\n",
        "print(a)\n",
        "res = 0\n",
        "for i in range(m):\n",
        "   res += (rlinear(a, xi[i], yi[i])**2)\n",
        "print(\"residuo = \", res)\n",
        "\n",
        "x_test = np.linspace(xi[0], xi[m-1], 100)\n",
        "\n",
        "y_lin = flinear(x_test, a)\n",
        "\n",
        "plt.figure(1)\n",
        "plt.plot(xi, yi, 'o', label='Experimento')\n",
        "plt.plot(x_test, y_lin, label='Ajuste')\n",
        "plt.xlabel(\"x\")\n",
        "plt.ylabel(\"y\")\n",
        "plt.legend()\n",
        "plt.show()"
      ],
      "execution_count": 1,
      "outputs": [
        {
          "output_type": "stream",
          "name": "stdout",
          "text": [
            "[[67.5         1.94856894]\n",
            " [ 1.94856894  2.95145074]]\n",
            "[69.705       4.94584248]\n",
            "[1.0034159  1.01327032]\n",
            "residuo =  0.0003196239999689366\n"
          ]
        },
        {
          "output_type": "display_data",
          "data": {
            "text/plain": [
              "<Figure size 640x480 with 1 Axes>"
            ],
            "image/png": "[encoded data removed]"
          },
          "metadata": {}
        }
      ]
    },
    {
      "cell_type": "markdown",
      "source": [
        "**Problema Contínuo**\n",
        "\n",
        "No caso contínuo, o problema de ajuste de curvas consiste em: dada uma função $f(x)$ contínua em um intervalo $[a,b]$ e escolhidas as funções $g_0(x), g_1(x),\\ldots, g_n(x)$ todas contínuas em $[a,b]$, queremos determinar $a_0,a_1,\\ldots,a_n$ tais que a função $\\displaystyle{g(x) = \\sum_{k=0}^na_kg_k(x)}$ seja a melhor aproximação de $f(x)$ no intervalo $[a,b]$.\n",
        "\n",
        "Determinar a *melhor aproximação*, como no caso discreto, significa minimizar a função resíduo dada por,\n",
        "\n",
        "$$r({\\bf a}) = \\int_a^b[f(x) - \\sum_{k=0}^na_kg_k(x)]^2dx.$$\n",
        "\n",
        "No caso discreto, o resíduo era definido com uma soma finita, já o caso contínuo a definição do resíduo é feita por meio de uma integral em $[a,b]$. Para facilitar a notação, é comum utilizar a notação de produto escalar de duas funções.\n",
        "\n",
        "1. Caso discreto $\\displaystyle{<f,g> = \\sum_{i=0}^m f(x_i)g(x_i)}$.\n",
        "2. Caso contínuo $\\displaystyle{<f,g> = \\int_a^bf(x)g(x)dx}.$\n",
        "\n",
        "Importante, lembrar que o produto escalar entre funções satisfaz as propriedades:\n",
        "1. Linearidade: $\\displaystyle{<ag_1+a_2g_2, f> = a_1<g_1,f>+a_2<g_2,f>}.$\n",
        "2. Comutatividade: $\\displaystyle{<f,g> = <g,f>}.$\n",
        "3. Não negatividade: $\\displaystyle{<g,g> \\ge 0}$ e $\\displaystyle{<g,g> = 0 \\Leftrightarrow g \\equiv 0}$.\n",
        "\n",
        "**1. Exercício:** Verifique estas propriedades para os produtos escalares definidos para o caso discreto e para o caso contínuo.\n",
        "\n",
        "Como fizemos para o caso discreto, queremos determinar os parâmetros $a_0,a_1,\\ldots,a_n$ que minimizam o resíduo, ou seja, $\\displaystyle{\\dfrac{\\partial r}{\\partial a_j} = 0,}$ com $j=0,1,\\ldots,n$. Assim, para cada $j$ temos uma equação da forma,\n",
        "$$\\int_a^b2[f(x) - \\sum_{k=0}^na_kg_k(x)]g_j(x)dx = 0, \\mbox{com } j = 0,\\ldots, n.$$\n",
        "Pelas propriedades de produto escalar, temos\n",
        "$$\\int_a^bf(x)g_j(x)dx -\\sum_{k=0}^na_k\\int_a^bg_k(x)g_j(x)dx = 0,$$\n",
        "que implica em,\n",
        "$$a_0\\int_a^bg_0(x)g_j(x)dx + a_1\\int_a^bg_1(x)g_j(x)dx + \\ldots + a_n\\int_a^bg_n(x)g_j(x)dx = \\int_a^bf(x)g_j(x)dx.$$\n",
        "Dessa forma obtemos o sistema normal,\n",
        "$$\\left(\\begin{array}{cccc}\n",
        "<g_0,g_0> & <g_1,g_0> & \\ldots & <g_n,g_0> \\\\\n",
        "<g_0,g_1> & <g_1,g_1> & \\ldots & <g_n,g_1> \\\\\n",
        "\\vdots & & \\ddots & \\vdots \\\\\n",
        "<g_0,g_n> & <g_1,g_n> & \\ldots & <g_n,g_n>\n",
        "\\end{array}\\right)\\left(\\begin{array}{c}\n",
        "a_0\\\\\n",
        "a_1\\\\\n",
        "\\vdots\\\\\n",
        "a_n\n",
        "\\end{array}\\right) = \\left(\\begin{array}{c}\n",
        "<f,g_0>\\\\\n",
        "<f,g_1>\\\\\n",
        "\\vdots\\\\\n",
        "<f,g_n>\n",
        "\\end{array}\\right),$$\n",
        "sendo $\\displaystyle{<g,f> = \\int_a^bg(x)f(x)dx}$.\n",
        "\n",
        "\n",
        "\n",
        "\n",
        "\n",
        "\n"
      ],
      "metadata": {
        "id": "vs71n2bXh3_1"
      }
    },
    {
      "cell_type": "markdown",
      "source": [
        "**Exemplo 1:**\n",
        "\n",
        "Queremos subsituir a função $\\displaystyle{f(x) = \\sin\\left(\\frac{\\pi}{4}x\\right)}$ por um polinômio de grau 3, no intervalo $[0,1]$. Como a função $\\displaystyle{\\sin\\left(\\frac{\\pi}{4}x\\right)}$ é uma função ímpar, ou seja, $f(-x) = -f(x)$, vamos escolher um polinômio ímpar para o ajuste, $g(x) = a_0x+a_1x^3$. Isso significa, que $g_0(x) = x$ e $g_1(x) = x^3$. Assim, precisamos minimizar a função\n",
        "$$r(a_0,a_1) = \\int_0^1(\\sin\\frac{\\pi}{4}x - a_0x - a_1x^3)^2dx.$$\n",
        "Assim, o sistema normal é dado por,\n",
        "$$\\left(\\begin{array}{cc}\n",
        "\\int_0^1x^2dx & \\int_0^1x^4dx\\\\\n",
        "\\int_0^1x^4dx & \\int_0^1x^6dx\n",
        "\\end{array}\\right)\n",
        "\\left(\\begin{array}{c}\n",
        "a_0\\\\\n",
        "\\\\\n",
        "a_1\\\\\n",
        "\\end{array}\\right) = \\left(\\begin{array}{c}\n",
        "\\int_0^1x\\sin(\\frac{\\pi}{4}x) dx\\\\\n",
        "\\int_0^1x^3\\sin(\\frac{\\pi}{4}x) dx\n",
        "\\end{array}\\right),$$\n",
        "\n",
        "Calculando as integrais (algumas por partes: $\\int udv = uv -\\int v du$) obtemos:\n",
        "\n",
        "$$\\begin{align}\n",
        "\\int_0^1x\\sin(\\frac{\\pi}{4})dx & = -x\\frac{4}{\\pi}\\cos(\\frac{\\pi}{4}x)|_0^1 + \\frac{4}{\\pi}\\int_0^1\\cos(\\frac{\\pi}{4}x)dx \\\\\n",
        "& = -\\frac{4}{\\pi}\\cos(\\frac{\\pi}{4})+\\frac{16}{\\pi^2}\\sin(\\frac{\\pi}{4})\\\\\n",
        "& \\approx 0.2460020203444062\n",
        "\\end{align}$$\n",
        "\n",
        "$$\\begin{align}\n",
        "\\int_0^1x^3\\sin(\\frac{\\pi}{4})dx & = -x^3\\frac{4}{\\pi}\\cos(\\frac{\\pi}{4}x)|_0^1 + \\frac{12}{\\pi}\\int_0^1 x^2\\cos(\\frac{\\pi}{4}x)dx \\\\\n",
        "& = -\\frac{4}{\\pi}\\cos(\\frac{\\pi}{4})+\\frac{12}{\\pi}[\\dfrac{4}{\\pi}x^2\\sin(\\frac{\\pi}{4}x)|_0^1 - \\frac{8}{\\pi}\\int_0^1x\\sin(\\frac{\\pi}{4}x)dx] \\\\\n",
        "& \\approx 0.14581796889606857\n",
        "\\end{align}$$\n",
        "\n",
        "$$\\int_0^1 x^2dx = \\frac{x^3}{3}|_0^1 = \\frac{1}{3}$$\n",
        "\n",
        "$$\\int_0^1 x^4dx = \\frac{x^5}{5}|_0^1 = \\frac{1}{5}$$\n",
        "\n",
        "$$\\int_0^1 x^6dx = \\frac{x^7}{7}|_0^1 = \\frac{1}{7}$$\n",
        "\n"
      ],
      "metadata": {
        "id": "tPfKNIGs8b2s"
      }
    },
    {
      "cell_type": "code",
      "source": [
        "import numpy as np\n",
        "print(-(4/np.pi)*np.cos(np.pi/4)+(16/np.pi**2)*np.sin(np.pi/4))\n",
        "print(-(4/np.pi)*np.cos(np.pi/4)+(12/np.pi)*((4/np.pi)*np.sin(np.pi/4) - (8/np.pi)*0.2460020203444062))"
      ],
      "metadata": {
        "id": "NFJAfVC3DFS_"
      },
      "execution_count": null,
      "outputs": []
    },
    {
      "cell_type": "markdown",
      "source": [
        "Assim,\n",
        "\n",
        "$$\\left(\\begin{array}{cc}\n",
        "\\dfrac{1}{3} & \\dfrac{1}{5}\\\\\n",
        "\\dfrac{1}{5} & \\dfrac{1}{7}\n",
        "\\end{array}\\right) \\left(\\begin{array}{c}\n",
        "a_0\\\\ \\\\\n",
        "a_1\n",
        "\\end{array}\\right) = \\left(\\begin{array}{c}\n",
        "0.2460020203444062\\\\ \\\\\n",
        "0.14581796889606857\n",
        "\\end{array}\\right)$$\n",
        "\n",
        "cuja solução é $a_0 = 0.7848162$ e $a_1 = -0.07801689$.\n",
        "Portanto, a função aproximadora é $g(x) = 0.7848162x -0.07801689x^3.$\n",
        "\n",
        "\n"
      ],
      "metadata": {
        "id": "3LJB1bD1J8Eh"
      }
    },
    {
      "cell_type": "code",
      "source": [
        "import numpy as np\n",
        "\n",
        "def f(x):\n",
        "  return np.sin((np.pi/4)*x)\n",
        "\n",
        "def g(x, a):\n",
        "  return a[0]*x + a[1]*x**3\n",
        "\n",
        "A = np.array([[1/3, 1/5], [1/5, 1/7]])\n",
        "b = np.array([0.2460020203444062, 0.14581796889606857])\n",
        "a = np.linalg.solve(A, b)\n",
        "print(a)\n",
        "\n",
        "x = np.linspace(0,1,100)\n",
        "y = f(x)\n",
        "ya = g(x, a)\n",
        "\n",
        "plt.figure(1)\n",
        "plt.plot(x, y, 'b-', label='f(x)')\n",
        "plt.plot(x, ya, 'r-.', label='g(x)')\n",
        "plt.xlabel(\"x\")\n",
        "plt.ylabel(\"y\")\n",
        "plt.legend()\n",
        "plt.show()"
      ],
      "metadata": {
        "id": "-FjioxKkKdCd",
        "outputId": "07bea1ab-10c2-4809-c5c8-ce2e254a3dee",
        "colab": {
          "base_uri": "https://localhost:8080/",
          "height": 466
        }
      },
      "execution_count": 2,
      "outputs": [
        {
          "output_type": "stream",
          "name": "stdout",
          "text": [
            "[ 0.7848162  -0.07801689]\n"
          ]
        },
        {
          "output_type": "display_data",
          "data": {
            "text/plain": [
              "<Figure size 640x480 with 1 Axes>"
            ],
            "image/png": "[encoded data removed]"
          },
          "metadata": {}
        }
      ]
    },
    {
      "cell_type": "markdown",
      "source": [
        "**Mínimos quadrados com peso**\n",
        "\n",
        "A formulação do Método dos Mínimos Quadrados (MMQ) usando a definição de produto escalar de funções nos permite:\n",
        "\n",
        "1. Atribuir diferentes  graus de importância no intervalo de aproximação. Isso é feito quando incluímos uma função peso, $w(x)$ no produto escalar,\n",
        "\n",
        "\n",
        "\n",
        "*   Discreto: $\\displaystyle{<f,g> = \\sum_{i=1}^mw(x_i)f(x_i)g(x_i),} $\n",
        "*   Contínuo: $\\displaystyle{<f,g> = \\int_a^b w(x)f(x)g(x)dx,}$\n",
        "\n",
        "sendo $w(x)$ uma função contínua e $w(x)>0$ em $[a,b]$.\n",
        "\n",
        "**Funções Ortogonais**\n",
        "\n",
        "O conceito de ortogonalidade em um conjunto de funções, se origina do conceito de ortogonalidade entre vetores, caracterizado pelo produto escalar nulo.\n",
        "\n",
        "Uma família de funções, $g_i(x)$, com $i=0,1,\\ldots$ é ortogonal em relação ao produto escalar associado ao peso $w(x)$ se $<g_i,g_j>=0$ para todo $i\\neq j$.\n",
        "\n",
        "Se as funções $g_i(x)$ que compõem a função aproximadora $\\displaystyle{g(x) = \\sum_{k=0}^ng_k(x)}$ são ortogonais, o sistema normal se torna diagonal. Ou seja, apenas a diagonal da matriz é não nula. Portanto, a solução do sistema resulta em\n",
        "\n",
        "$$a_j = \\dfrac{<f,g_i>}{<g_i,g_i>}, j = 0,1,\\ldots,n.$$\n",
        "\n",
        "Exemplos de famílias de funções ortogonais:\n",
        "\n",
        "\n",
        "\n",
        "*   As funções trigonométricas, que dão origem à série de Fourier.\n",
        "*   Os polinômios ortogonais: polinômios de Legendre, Laguerre, Chebyshev, entre outros, que cada vez mais aparecem em problemas que envolvem aproximações.\n",
        "\n",
        "\n",
        "\n",
        "\n",
        "\n"
      ],
      "metadata": {
        "id": "yINniJ4LNstS"
      }
    },
    {
      "cell_type": "markdown",
      "source": [
        "**Exemplo 2:**\n",
        "\n",
        "Vamos construir os três primeiros polinômios ortogonais em relação ao produto escalar\n",
        "\n",
        "$$<f,g> = \\int_0^1f(x)g(x)dx,$$\n",
        "\n",
        " e aproximar $f(x)=e^x$ no intervalo $[0,1]$ por um polinômio de grau 2, ou seja, $g(x) = a_0p_0(x) + a_1p_1(x)+a_2p_2(x)$.\n",
        "\n",
        "Vamos assumir que os polinômios são mônicos (coeficiente de maior grau igual a 1). Assim, $p_0(x)=1$, $p_1(x)=\\alpha_0+x$ e $p_2(x)=\\beta_0+\\beta_1 x+ x^2$. Vamos determinar, $\\alpha_0,\\beta_0$ e $\\beta_1$ de forma que $p_0(x),p_1(x)$ e $p_2(x)$\n",
        "sejam ortogonais. Como $<p_0,p_1> = 0$, temos,\n",
        "\n",
        "$$ \\int_0^1 1(\\alpha_0 + x)dx =\\alpha_0 x|_0^1 + \\dfrac{x^2}{2}|_0^1 =\\alpha_0 +\\dfrac{1}{2} = 0 \\Longrightarrow \\alpha_0 = -\\dfrac{1}{2}.$$\n",
        "\n",
        "Porttanto, $\\displaystyle{p_1(x) = x - \\dfrac{1}{2}}$. Como $<p_0,p_2> = 0$ e $<p_1,p_2>=0$, obtemos,\n",
        "\n",
        "$$\\int_0^1 1(\\beta_0+\\beta_1 x+ x^2)dx = \\beta_0 x|_0^1 + \\beta_1\\dfrac{x^2}{2}|_0^1 + \\dfrac{x^3}{3}|_0^1 = \\beta_0 + \\dfrac{\\beta_1}{2} + \\dfrac{1}{3} = 0,$$\n",
        "\n",
        "$$\\int_0^1 (x-\\dfrac{1}{2})(\\beta_0+\\beta_1 x+ x^2)dx = \\beta_0(\\dfrac{x^2}{2}|_0^1 - \\dfrac{x}{2}|_0^1) + \\beta_1(\\dfrac{x^3}{3}|_0^1  - \\dfrac{x^2}{4}|_0^1) + \\dfrac{x^4}{4}|_0^1 - \\dfrac{x^3}{6}|_0^1 = \\dfrac{\\beta_1}{12} + \\dfrac{1}{12} = 0.$$\n",
        "\n",
        "Dessa forma, $\\beta_1 = -1$ e $\\beta_0 = 1/6$ e os polinômios $p_0(x)=1$, $p_1(x)=x-1/2$ e $p_2(x) = x^2-x+1/6$ são ortogonais.\n",
        "Portanto, ao usarmos esta família de polinômios para aproximar $f(x)$, vamos obter um sistema diagonal,\n",
        "\n",
        "$$\\left(\n",
        "  \\begin{array}{ccc}\n",
        "<p_0,p_0> & 0  &  0 \\\\\n",
        " 0 & <p_1,p_1> &  0 \\\\\n",
        "0 & 0 & <p_2,p_2>\n",
        "\\end{array}\\right)\\left(\\begin{array}{c}\n",
        "a_0\\\\\n",
        "a_1\\\\\n",
        "a_2\n",
        "\\end{array}\\right) = \\left(\\begin{array}{c}\n",
        "<f,p_0>\\\\\n",
        "<f,p_1> \\\\\n",
        "<f,p_2>\n",
        "\\end{array}\\right)$$\n",
        "\n",
        "e a solução do sistema será:\n",
        "\n",
        "$$a_0=\\dfrac{\\int_0^1e^xdx}{\\int_0^1 dx} = e - 1,$$\n",
        "\n",
        "$$a_1 = \\dfrac{\\int_0^1e^x(x-1/2)dx}{\\int_0^1(x-1/2)^2 dx} = 6(3-e),$$\n",
        "\n",
        "$$a_2=\\dfrac{\\int_0^1e^x(x^2-1+1/6)dx}{\\int_0^1 (x^2-1+1/6)^2dx} = 30(7e-19).$$\n",
        "\n",
        "Assim, $g(x) = (e-1) + 6(3-e)(x-1/2) + 30(7e-19)(x^2-1+1/6).$"
      ],
      "metadata": {
        "id": "BS1vKIht9TTG"
      }
    },
    {
      "cell_type": "markdown",
      "source": [
        "Exercícios:\n",
        "\n",
        "1. Aproxime a tabela de dados usando MMQ:\n",
        "\n",
        "$$\\begin{array}{c|ccccc}\n",
        "x_i & -2 & -1 & 1 & 2\\\\\n",
        "\\hline\n",
        "y_i & 1 & -3 & 1 & 9 \\\\\n",
        "\\end{array}$$\n",
        "\n",
        "com as funções aproximadoras $g(x) = a_0 x + a_1x^2$ e $h(x)=a_0 + a_1x^2$. Qual função oferece a melhor aproximação?\n",
        "\n",
        "2. Aproxime a função $f(x)=3-x$ por $g(x)=a_1+a_2\\dfrac{1}{x}$, usando MMQ, no intervalo $[1,2]$."
      ],
      "metadata": {
        "id": "QEx4S1O-Jk1b"
      }
    }
  ]
}