{
  "nbformat": 4,
  "nbformat_minor": 0,
  "metadata": {
    "colab": {
      "provenance": [],
      "authorship_tag": "ABX9TyPFb+iwBvWUu4YOJ4pC5cXu",
      "include_colab_link": true
    },
    "kernelspec": {
      "name": "python3",
      "display_name": "Python 3"
    },
    "language_info": {
      "name": "python"
    }
  },
  "cells": [
    {
      "cell_type": "markdown",
      "metadata": {
        "id": "view-in-github",
        "colab_type": "text"
      },
      "source": [
        "<a href=\"https://colab.research.google.com/github/pccalegari/exemplos-CN/blob/main/EDOs.ipynb\" target=\"_parent\"><img src=\"https://colab.research.google.com/assets/colab-badge.svg\" alt=\"Open In Colab\"/></a>"
      ]
    },
    {
      "cell_type": "markdown",
      "source": [
        "# Métodos Numéricos para a solução de EDOs\n",
        "\n",
        "Nesta unidade, vamos estudar os método de passo único, explícitos e implícitos para aproximar a solução de Equações Diferenciais Ordinárias (EDOs). Além disso, também estudaremos a aplicação destes métodos para a solução de um sistema de EDOs.\n",
        "\n",
        "O Problema de Valor Inicial é dado por,\n",
        "\n",
        "$$\\begin{array}{ll}\n",
        "\\dfrac{dy}{dt} = f(t,y), & t\\in [t_0,t_F]\\\\ \\\\\n",
        "y(t_0) = y_0, & \\\\\n",
        "\\end{array}$$\n",
        "ond $f(t,y)$ é uma função contínua, dada pelo problema e $y_0$ é a condição inicial.\n",
        "\n",
        "**Método de Euler**\n",
        "\n",
        "Deduzido a partir da expansão da solução em Série de Taylor:\n",
        "\n",
        "$$y(t+\\Delta t) = y(t)+\\Delta t y'(t) + \\Delta t^2 y''(t) + O(\\Delta t^3)$$\n",
        "\n",
        "Assim, após discretizar o intervalo, temos $\\Delta t= (t_F-t_0)/N$ e $t_i=t_0+i\\Delta t$, com $i=0,1,\\ldots, N$ e  $N$ o número de subintervalos de $[t_0,t_F]$. Portanto, a aproximação da solução em $y(t_i)$, pelo **Método de Euler Explícito**, é dada por\n",
        "\n",
        "$$y_{i+1} = y_i + \\Delta t f(t_i, y_i).$$\n",
        "\n",
        "Já a aproximação da solução em $y(t_i)$, pelo **Método de Euler Implícito**, é dada por\n",
        "\n",
        "$$y_{i+1} = y_i + \\Delta t f(t_{i+1}, y_{i+1}).$$"
      ],
      "metadata": {
        "id": "b0_ebxA5V6uq"
      }
    },
    {
      "cell_type": "markdown",
      "source": [
        "**Exercícios**\n",
        "\n",
        "Implemente o método de Euler Implícito e Explícito para os seguintes PVIs:\n",
        "\n",
        "1. $\\dfrac{dy}{dt}=-ty, t\\in [0,1], y(0)=1$. Solução exata: $y(t) = e^{(-t^2)/2}$\n",
        "\n",
        "2. $y'=yx^2-y, x\\in[0,2], y(0)=1$. Solução exata: $y(x)=exp(-x+x^3/3)$\n",
        "\n",
        "3. $$\\begin{array}{lll}\n",
        "\\dfrac{dx}{dt} = -y(t),& x(0) = 0, & t\\in[0,1]\\\\ \\\\\n",
        "\\dfrac{dy}{dt} = x(t),& y(0)=1&\\\\\n",
        "\\end{array}$$"
      ],
      "metadata": {
        "id": "JYo3r-OKYBLz"
      }
    },
    {
      "cell_type": "code",
      "execution_count": 21,
      "metadata": {
        "id": "9S08ylzDxDCt",
        "colab": {
          "base_uri": "https://localhost:8080/"
        },
        "outputId": "d1051c53-1a22-40ca-9401-472df4daffb5"
      },
      "outputs": [
        {
          "output_type": "stream",
          "name": "stdout",
          "text": [
            "Método de Euler Explícito\n",
            "\n",
            "y_aprox =  1.0 erro =  0.0004881620601105974\n",
            "y_aprox =  0.9990234375 erro =  0.0009746563925244756\n",
            "y_aprox =  0.9970722198486328 erro =  0.0014571092751148873\n",
            "y_aprox =  0.994151109829545 erro =  0.0019331715693015061\n",
            "y_aprox =  0.9902677070567734 erro =  0.0024005347427730195\n",
            "y_aprox =  0.9854324155184102 erro =  0.002856946560509832\n",
            "y_aprox =  0.9796583974587321 erro =  0.0033002263068379056\n",
            "y_aprox =  0.972961513882354 erro =  0.003728279406009838\n",
            "y_aprox =  0.9653602520551481 erro =  0.0041391113149915615\n",
            "y_aprox =  0.9568756404648197 erro =  0.004530840569643257\n",
            "y_aprox =  0.9475311517884054 erro =  0.0049017108742535065\n",
            "y_aprox =  0.9373525944938034 erro =  0.005250102134275791\n",
            "y_aprox =  0.9263679937770791 erro =  0.005574540343040502\n",
            "y_aprox =  0.9146074626060811 erro =  0.0058737062450109345\n",
            "y_aprox =  0.9021030637032635 erro =  0.006146442710695421\n",
            "y_aprox =  0.8888886633560478 erro =  0.006391760771452315\n",
            "y_aprox =  0.8749997779911095 erro =  0.006608844275986736\n",
            "y_aprox =  0.860473414489304 erro =  0.006797053144156351\n",
            "y_aprox =  0.8453479052502343 erro =  0.006955925207638214\n",
            "y_aprox =  0.8296627390395366 erro =  0.0070851766408719374\n",
            "y_aprox =  0.8134583886676706 erro =  0.0071847009993426525\n",
            "y_aprox =  0.796776136556322 erro =  0.007254566895534054\n",
            "y_aprox =  0.7796578992474947 erro =  0.007295014355629292\n",
            "y_aprox =  0.7621460519011155 erro =  0.007306449912108159\n",
            "y_aprox =  0.7442832538096831 erro =  0.007289440498672195\n",
            "y_aprox =  0.7261122759334702 erro =  0.007244706224294406\n",
            "y_aprox =  0.7076758314273469 erro =  0.00717311211253846\n",
            "y_aprox =  0.6890164100908837 erro =  0.00707565890053552\n",
            "y_aprox =  0.6701761176274611 erro =  0.00695347299906568\n",
            "y_aprox =  0.6511965205462147 erro =  0.006807795721019416\n",
            "y_aprox =  0.6321184974833373 erro =  0.006639971890059049\n",
            "y_aprox =  0.6129820976571816 erro =  0.006451437944548166\n",
            "\n",
            "Método de Euler Implícito\n",
            "\n",
            "y_aprox =  0.9990243902439024 erro =  0.00048744769598696447\n",
            "y_aprox =  0.9970769742785147 erro =  0.0009718068289608084\n",
            "y_aprox =  0.994164383311781 erro =  0.001450727261736895\n",
            "y_aprox =  0.9902960394078442 erro =  0.0019218988523993508\n",
            "y_aprox =  0.9854841052999344 erro =  0.002383067014065987\n",
            "y_aprox =  0.979743421191391 erro =  0.00283204776650936\n",
            "y_aprox =  0.9730914290009548 erro =  0.0032667421509393613\n",
            "y_aprox =  0.9655480845900947 erro =  0.0036851498862494614\n",
            "y_aprox =  0.9571357585868896 erro =  0.0040853821532669254\n",
            "y_aprox =  0.9478791264922388 erro =  0.0044656734029375755\n",
            "y_aprox =  0.9378050488193744 erro =  0.004824392094777474\n",
            "y_aprox =  0.9269424420762928 erro =  0.005160050283234741\n",
            "y_aprox =  0.9153221414523856 erro =  0.005471311981653071\n",
            "y_aprox =  0.9029767561148775 erro =  0.005757000246192634\n",
            "y_aprox =  0.889940518057396 erro =  0.006016102935172074\n",
            "y_aprox =  0.8762491254718976 erro =  0.006247777112697861\n",
            "y_aprox =  0.8619395816361414 erro =  0.006451352078981398\n",
            "y_aprox =  0.8470500303218894 erro =  0.0066263310232582695\n",
            "y_aprox =  0.8316195887340506 erro =  0.006772391308545456\n",
            "y_aprox =  0.8156881789881876 erro =  0.006889383410477068\n",
            "y_aprox =  0.7992963591233532 erro =  0.006977328544974792\n",
            "y_aprox =  0.782485154629363 erro =  0.007036415031424936\n",
            "y_aprox =  0.7652958914426625 erro =  0.0070669934492029185\n",
            "y_aprox =  0.7477700313332886 erro =  0.007069570655718782\n",
            "y_aprox =  0.729949010567481 erro =  0.007044802743529921\n",
            "y_aprox =  0.7118740826867623 erro =  0.006993487022413425\n",
            "y_aprox =  0.6935861661952851 erro =  0.006916553119523328\n",
            "y_aprox =  0.6751256978935095 erro =  0.006815053296838625\n",
            "y_aprox =  0.6565324925384176 erro =  0.006690152089977808\n",
            "y_aprox =  0.6378456094490889 erro =  0.006543115376106412\n",
            "y_aprox =  0.6191032266121962 erro =  0.006375298981082023\n",
            "y_aprox =  0.600342522775463 erro =  0.006188136937170463\n",
            "\n",
            "Método do Trapézio\n",
            "\n",
            "y_aprox =  0.9995119570522206 erro =  1.1911233122052778e-07\n",
            "y_aprox =  0.9980492566272662 erro =  4.755197906547437e-07\n",
            "y_aprox =  0.9956161770157906 erro =  1.0664422727124645e-06\n",
            "y_aprox =  0.9922198255347426 erro =  1.8872744991238477e-06\n",
            "y_aprox =  0.9878701039420429 erro =  2.9316280425462082e-06\n",
            "y_aprox =  0.9825796603474166 erro =  4.191389516239319e-06\n",
            "y_aprox =  0.9763638279461921 erro =  5.656794297981271e-06\n",
            "y_aprox =  0.9692405509913318 erro =  7.316514987643075e-06\n",
            "y_aprox =  0.9612302985038 erro =  9.157763643519168e-06\n",
            "y_aprox =  0.9523559663018699 erro =  1.1166406693519093e-05\n",
            "y_aprox =  0.9426427680054449 erro =  1.3327091292980597e-05\n",
            "y_aprox =  0.9321181157413064 erro =  1.562338177885092e-05\n",
            "y_aprox =  0.920811491338816 erro =  1.8037904777390423e-05\n",
            "y_aprox =  0.9087543088625075 erro =  2.0552501437398618e-05\n",
            "y_aprox =  0.8959797693777704 erro =  2.3148385202231836e-05\n",
            "y_aprox =  0.8825227088880848 erro =  2.580630348936186e-05\n",
            "y_aprox =  0.8684194404167498 erro =  2.850670162701796e-05\n",
            "y_aprox =  0.8537075912325357 erro =  3.122988738801791e-05\n",
            "y_aprox =  0.8384259362370815 erro =  3.3956194485429414e-05\n",
            "y_aprox =  0.8226142285420882 erro =  3.666614342356933e-05\n",
            "y_aprox =  0.8063130282664838 erro =  3.934059815580149e-05\n",
            "y_aprox =  0.7895635305778563 erro =  4.196091706842875e-05\n",
            "y_aprox =  0.7724073939887672 erro =  4.450909690179028e-05\n",
            "y_aprox =  0.7548865698973232 erro =  4.696790831582032e-05\n",
            "y_aprox =  0.7370431343329388 erro =  4.9321021927895004e-05\n",
            "y_aprox =  0.7189191228329486 erro =  5.15531237728073e-05\n",
            "y_aprox =  0.7005563693340829 erro =  5.365001927448709e-05\n",
            "y_aprox =  0.6819963499153091 erro =  5.559872496097018e-05\n",
            "y_aprox =  0.6632800321756979 erro =  5.738754730244544e-05\n",
            "y_aprox =  0.6444477309734042 erro =  5.900614820897321e-05\n",
            "y_aprox =  0.6255389711901538 erro =  6.044559687556905e-05\n",
            "y_aprox =  0.606592358120452 erro =  6.169840781855562e-05\n"
          ]
        }
      ],
      "source": [
        "#Exercício 1\n",
        "import numpy as np\n",
        "\n",
        "def y_exata(t):\n",
        "    return np.exp(-t*t/2)\n",
        "\n",
        "def f(t, y):\n",
        "    fe = -t*y\n",
        "    return fe\n",
        "\n",
        "a = 0\n",
        "b = 1\n",
        "N = 32\n",
        "\n",
        "h = (b - a)/N\n",
        "y0 = 1\n",
        "t = a\n",
        "\n",
        "print(\"Método de Euler Explícito\\n\")\n",
        "for i in range(N):\n",
        "    y = y0 + h*f(t,y0)\n",
        "    t = t + h\n",
        "    print('y_aprox = ', y, 'erro = ', abs(y - y_exata(t)))\n",
        "    y0 = y\n",
        "\n",
        "y0 = 1\n",
        "t = a\n",
        "print(\"\\nMétodo de Euler Implícito\\n\")\n",
        "for i in range(N):\n",
        "    y = y0/(1 + h*(t + h))\n",
        "    t = t + h\n",
        "    print('y_aprox = ', y, 'erro = ', abs(y - y_exata(t)))\n",
        "    y0 = y\n",
        "\n",
        "y0 = 1\n",
        "t = a\n",
        "print(\"\\nMétodo do Trapézio\\n\")\n",
        "for i in range(N):\n",
        "    y = (y0 - (h/2)*(t*y0))/(1 + (h/2)*(t + h))\n",
        "    t = t + h\n",
        "    print('y_aprox = ', y, 'erro = ', abs(y - y_exata(t)))\n",
        "    y0 = y\n"
      ]
    },
    {
      "cell_type": "code",
      "source": [
        "0.0002467805596972905/6.169840781855562e-05"
      ],
      "metadata": {
        "colab": {
          "base_uri": "https://localhost:8080/"
        },
        "id": "hvOz4N0pwVMr",
        "outputId": "99d40da6-c574-4431-939d-9f28c1dd747c"
      },
      "execution_count": 22,
      "outputs": [
        {
          "output_type": "execute_result",
          "data": {
            "text/plain": [
              "3.999788137532326"
            ]
          },
          "metadata": {},
          "execution_count": 22
        }
      ]
    },
    {
      "cell_type": "code",
      "source": [
        "#Exercício 3\n",
        "import matplotlib.pyplot as plt\n",
        "import numpy as np\n",
        "\n",
        "def f(t,x,y):\n",
        "    return -y\n",
        "\n",
        "def g(t,x,y):\n",
        "    return x\n",
        "\n",
        "a = 0\n",
        "b = 6.5\n",
        "N = 200\n",
        "h = (b - a)/N\n",
        "x0 = 0\n",
        "y0 = 1\n",
        "t = a\n",
        "x = np.zeros(N+1)\n",
        "y = np.zeros(N+1)\n",
        "x[0] = x0\n",
        "y[0] = y0\n",
        "\n",
        "print(\"Método de Euler Explícito para um sistema de 2 EDOs\\n\")\n",
        "for i in range(N):\n",
        "    x[i+1] = x[i] + h*f(t,x[i],y[i])\n",
        "    y[i+1] = y[i] + h*g(t,x[i],y[i])\n",
        "    t = t + h\n",
        "    #print('x_ap = ', x[i+1], 'y_ap = ', y[i+1])\n",
        "\n",
        "plt.figure(1)\n",
        "plt.plot(x, y, 'o')\n",
        "plt.show()"
      ],
      "metadata": {
        "colab": {
          "base_uri": "https://localhost:8080/",
          "height": 465
        },
        "id": "29_Z80JspLIM",
        "outputId": "d7962a8c-9ebe-40a7-af65-99df7bfabc09"
      },
      "execution_count": 18,
      "outputs": [
        {
          "output_type": "stream",
          "name": "stdout",
          "text": [
            "Método de Euler Explícito para um sistema de 2 EDOs\n",
            "\n"
          ]
        },
        {
          "output_type": "display_data",
          "data": {
            "text/plain": [
              "<Figure size 640x480 with 1 Axes>"
            ],
            "image/png": "[encoded data removed]"
          },
          "metadata": {}
        }
      ]
    }
  ]
}