{
  "nbformat": 4,
  "nbformat_minor": 0,
  "metadata": {
    "colab": {
      "provenance": [],
      "authorship_tag": "ABX9TyPZgm2N1WE4/ieqS/bPfW+Z",
      "include_colab_link": true
    },
    "kernelspec": {
      "name": "python3",
      "display_name": "Python 3"
    },
    "language_info": {
      "name": "python"
    }
  },
  "cells": [
    {
      "cell_type": "markdown",
      "metadata": {
        "id": "view-in-github",
        "colab_type": "text"
      },
      "source": [
        "<a href=\"https://colab.research.google.com/github/pccalegari/exemplos-CN/blob/main/EDOs.ipynb\" target=\"_parent\"><img src=\"https://colab.research.google.com/assets/colab-badge.svg\" alt=\"Open In Colab\"/></a>"
      ]
    },
    {
      "cell_type": "markdown",
      "source": [
        "# Métodos Numéricos para a solução de EDOs\n",
        "\n",
        "Nesta unidade, vamos estudar os método de passo único, explícitos e implícitos para aproximar a solução de Equações Diferenciais Ordinárias (EDOs). Além disso, também estudaremos a aplicação destes métodos para a solução de um sistema de EDOs.\n",
        "\n",
        "O **Problema de Valor Inicial** (PVI) é dado por,\n",
        "\n",
        "$$\\begin{array}{ll}\n",
        "\\dfrac{dy}{dt} = f(t,y), & t\\in [t_0,t_F]\\\\ \\\\\n",
        "y(t_0) = y_0, & \\\\\n",
        "\\end{array}$$\n",
        "ond $f(t,y)$ é uma função contínua, dada pelo problema e $y_0$ é a condição inicial.\n",
        "\n",
        "**Método de Euler**\n",
        "\n",
        "Deduzido a partir da expansão da solução em Série de Taylor:\n",
        "\n",
        "$$y(t+\\Delta t) = y(t)+\\Delta t y'(t) + \\Delta t^2 y''(t) + O(\\Delta t^3)$$\n",
        "\n",
        "Assim, após discretizar o intervalo, temos $\\Delta t= (t_F-t_0)/N$ e $t_i=t_0+i\\Delta t$, com $i=0,1,\\ldots, N$ e  $N$ o número de subintervalos de $[t_0,t_F]$. Portanto, a aproximação da solução em $y(t_i)$, pelo **Método de Euler Explícito**, é dada por\n",
        "\n",
        "$$y_{i+1} = y_i + \\Delta t f(t_i, y_i).$$\n",
        "\n",
        "Já a aproximação da solução em $y(t_i)$, pelo **Método de Euler Implícito**, é dada por\n",
        "\n",
        "$$y_{i+1} = y_i + \\Delta t f(t_{i+1}, y_{i+1}).$$"
      ],
      "metadata": {
        "id": "b0_ebxA5V6uq"
      }
    },
    {
      "cell_type": "markdown",
      "source": [
        "**Exercícios**\n",
        "\n",
        "Implemente o método de Euler Implícito e Explícito para os seguintes PVIs:\n",
        "\n",
        "1. $\\dfrac{dy}{dt}=-ty, t\\in [0,1], y(0)=1$. Solução exata: $y(t) = e^{(-t^2)/2}$\n",
        "\n",
        "2. $y'=yx^2-y, x\\in[0,2], y(0)=1$. Solução exata: $y(x)=exp(-x+x^3/3)$\n",
        "\n",
        "3. Aplicar um dos métodos estudados para resolver o sistema de equações diferenciais de primeira ordem:\n",
        "\n",
        "$$\\begin{array}{lll}\n",
        "\\dfrac{dx}{dt} = -y(t),& x(0) = 0, & t\\in[0,1]\\\\ \\\\\n",
        "\\dfrac{dy}{dt} = x(t),& y(0)=1&\\\\\n",
        "\\end{array}$$"
      ],
      "metadata": {
        "id": "JYo3r-OKYBLz"
      }
    },
    {
      "cell_type": "code",
      "execution_count": null,
      "metadata": {
        "id": "9S08ylzDxDCt"
      },
      "outputs": [],
      "source": [
        "#Exercício 1\n",
        "import numpy as np\n",
        "\n",
        "def y_exata(t):\n",
        "    return np.exp(-t*t/2)\n",
        "\n",
        "def f(t, y):\n",
        "    fe = -t*y\n",
        "    return fe\n",
        "\n",
        "a = 0\n",
        "b = 1\n",
        "N = 4\n",
        "\n",
        "h = (b - a)/N\n",
        "y0 = 1\n",
        "t = a\n",
        "\n",
        "print(\"Método de Euler Explícito\\n\")\n",
        "for i in range(N):\n",
        "    y = y0 + h*f(t,y0)\n",
        "    t = t + h\n",
        "    print('y_aprox = ', y, 'erro = ', abs(y - y_exata(t)))\n",
        "    y0 = y\n",
        "\n",
        "y0 = 1\n",
        "t = a\n",
        "print(\"\\nMétodo de Euler Implícito\\n\")\n",
        "for i in range(N):\n",
        "    y = y0/(1 + h*(t + h))\n",
        "    t = t + h\n",
        "    print('y_aprox = ', y, 'erro = ', abs(y - y_exata(t)))\n",
        "    y0 = y\n",
        "\n",
        "y0 = 1\n",
        "t = a\n",
        "print(\"\\nMétodo do Trapézio\\n\")\n",
        "for i in range(N):\n",
        "    y = (y0 - (h/2)*(t*y0))/(1 + (h/2)*(t + h))\n",
        "    t = t + h\n",
        "    print('y_aprox = ', y, 'erro = ', abs(y - y_exata(t)))\n",
        "    y0 = y\n"
      ]
    },
    {
      "cell_type": "code",
      "source": [
        "#Exercício 3\n",
        "import matplotlib.pyplot as plt\n",
        "import numpy as np\n",
        "\n",
        "def f(t,x,y):\n",
        "    return -y\n",
        "\n",
        "def g(t,x,y):\n",
        "    return x\n",
        "\n",
        "a = 0\n",
        "b = 6.5\n",
        "N = 200\n",
        "t = np.zeros(N+1)\n",
        "h = (b - a)/N\n",
        "x0 = 0\n",
        "y0 = 1\n",
        "x = np.zeros(N+1)\n",
        "y = np.zeros(N+1)\n",
        "x[0] = x0\n",
        "y[0] = y0\n",
        "t[0] = a\n",
        "\n",
        "print(\"Método de Euler Explícito para um sistema de 2 EDOs\\n\")\n",
        "for i in range(N):\n",
        "    x[i+1] = x[i] + h*f(t[i],x[i],y[i])\n",
        "    y[i+1] = y[i] + h*g(t[i],x[i],y[i])\n",
        "    t[i+1] = t[i] + h\n",
        "    #print('x_ap = ', x[i+1], 'y_ap = ', y[i+1])\n",
        "\n",
        "plt.figure(1)\n",
        "plt.plot(x, y, 'o')\n",
        "plt.show()\n",
        "\n",
        "plt.figure(2)\n",
        "plt.plot(t, x, 'b.')\n",
        "plt.plot(t, y, 'r.-')\n",
        "plt.show()"
      ],
      "metadata": {
        "id": "29_Z80JspLIM"
      },
      "execution_count": null,
      "outputs": []
    },
    {
      "cell_type": "markdown",
      "source": [
        "**Métodos de Runge-Kutta**\n",
        "\n",
        "Os métodos de Runge-Kutta são métodos de passo único e de alta ordem (erro local de truncamento) baseados em Série de Taylor.  Os seus atrativos são simplicidade, alta precisão e versatilidade. De forma geral, os métodos de Runge-Kutta explícitos são escritos na forma\n",
        "\n",
        "$$\\begin{array}{l}\n",
        "y_0=y(t_0), \\\\\n",
        "y_{k+1}= y_k + \\Delta t \\phi(\\Delta t, t, y) \\\\\n",
        "\\end{array}$$\n",
        "\n",
        "*   Método de Euler (Método de Runge-Kutta de ordem 1): Nesse caso, $\\phi(\\Delta t, t, y) = f(t,y_k)$.\n",
        "\n",
        "Os Métodos de Runge-Kutta de ordem $m$ fornecem valores aproximados que equivalem aos valores obtidos por meio da expansão de $y(t)$ em série de Taylor até o termos $O(\\Delta t^m)$,\n",
        "\n",
        "$$y(t+h)\\approx y(t) +\\Delta t y'(t) + \\dfrac{\\Delta t^2}{2}y''(t) + \\cdots + \\dfrac{\\Delta t^m}{m!}y^{(m)}(t),$$\n",
        "\n",
        "substituindo $y'(t)=f(t,y)$, obtemos,\n",
        "$$y(t+h)\\approx y(t) +\\Delta t f(t,y) + \\dfrac{\\Delta t^2}{2}\\dfrac{d}{dt}f(t,y) + \\cdots + \\dfrac{\\Delta t^m}{m!}\\dfrac{d^{(m-1)}}{dt^{(m-1})}f(t,y).$$\n",
        "\n",
        "O objetivo na dedução dos métodos RK é substituir as derivadas de $f(t,y)$ por avaliações de $f(t,y)$ em pontos convenientes, que produzam resultados equivalentes.\n",
        "\n",
        "*   **Runge-Kutta ordem 2**: Vamos incluir mais um termos na série de Taylor, obtendo\n",
        "\n",
        "$$y(t+h)\\approx y(t) +\\Delta t f(t,y) + \\dfrac{\\Delta t^2}{2}\\dfrac{d}{dt}f(t,y) + O(\\Delta t^3).$$\n",
        "\n",
        "A expressão geral do método será:\n",
        "\n",
        "$$y_{k+1} = y_k + \\Delta t(aK_1 + bK_2),$$\n",
        "onde $a$ e $b$ são constantes e $K_1$ e $K_2$ são avaliações de $f(t,y)$ em pontos convenientes.\n",
        "\n",
        "Com base no método do Trapézio: $$y_{k+1} = y_k + \\dfrac{\\Delta t}{2}(f(t_k,y_k) + f(t_{k+1},y_{k+1})),$$ temos $a=b=1/2$ e $K_1=f(t_k,y_k)$ e $K_2=f(t_{k+1},y_{k+1})$. Para $K_2$ fazemos a seguinte substituição: $t_{k+1} = t_k+\\Delta t$ e $y_{k+1} = y_k+\\Delta t K_1$. Assim, obtemos o método RK2, com dois estágios (ou seja, duas avaliações de $f(t,y)$).\n",
        "\n",
        "**Euler Aprimorado**\n",
        "$$\\left\\{\\begin{array}{l}\n",
        "y_0=y(t_0), \\\\\n",
        "y_{k+1}= y_k + \\Delta t \\left(\\dfrac{k_1+k_2}{2}\\right) \\\\\n",
        "\\end{array}\\right .$$\n",
        "com $\\displaystyle{k_1=f(t_k,y_k)}$ e $\\displaystyle{k_2=f(t_k+\\Delta t, y_k+\\Delta t k_1)}$.\n",
        "\n",
        "Outro RK22 (ordem dois com dois estágios é o método do **Ponto Médio**,\n",
        "\n",
        "$$\\left\\{\\begin{array}{l}\n",
        "y_0=y(t_0), \\\\\n",
        "y_{k+1}= y_k + \\Delta t f\\left(t_k+\\dfrac{\\Delta t}{2}, y_k+\\dfrac{\\Delta t}{2}f(t_k,y_k)\\right) \\\\\n",
        "\\end{array}\\right .$$\n",
        "\n",
        "\n",
        "Os métodos de Runge-Kutta explícitos de $R$ estágios\n",
        "$$\\left\\{\\begin{array}{l}\n",
        "y_0=y(t_0), \\\\\n",
        "y_{k+1}= y_k + \\Delta t f\\phi(\\Delta t, t, y) \\\\\n",
        "\\end{array}\\right .$$\n",
        "onde $\\phi(\\Delta t,t,y) = \\sum_{r=1}^Rc_rk_r$, com $K_1=f(t_k,y_k)$, $K_2=f(t_k+a_2\\Delta t,y_k+\\Delta tb_{21}K_1)$, $K_3=f(t_k+a_3\\Delta t,y_k+\\Delta tb_{31}K_1+\\Delta tb_{32}K_2), \\ldots, K_R = f(t_k+a_R\\Delta t,y_k+\\Delta t\\sum_{s=1}^{R-1}b_{rs}K_s)$, são obtidos a partir das seguintes condições: $\\sum_{r=1}^Rc_r=1$ e os parâmetros $a$ e $b$, $a_r=\\sum_{s=1}^{r-1}b_{rs},$ com $2\\le r\\le R$. Assim obtemos:\n",
        "\n",
        "\n",
        "*   **Runge-Kutta ordem 3:**\n",
        "\n",
        "$$\\left\\{\\begin{array}{l}\n",
        "y_0=y(t_0), \\\\\n",
        "y_{k+1}= y_k + \\Delta t \\left(\\dfrac{k_1+4k_2+k_3}{6}\\right) \\\\\n",
        "\\end{array}\\right .$$\n",
        "com $\\displaystyle{k_1=f(t_k,y_k)}$, $\\displaystyle{k_2=f\\left(t_k+\\dfrac{\\Delta t}{2}, y_k+\\dfrac{\\Delta t}{2} k_1\\right)}$ e $\\displaystyle{k_3=f\\left(t_k+\\Delta t, y_k-\\Delta t k_1+2\\Delta tk_2\\right)}$.\n",
        "\n",
        "*   **Runge-Kutta ordem 4:**\n",
        "\n",
        "\n",
        "$$\\left\\{\\begin{array}{l}\n",
        "y_0=y(t_0), \\\\\n",
        "y_{k+1}= y_k + \\Delta t \\left(\\dfrac{k_1+2k_2+2k_3+k_4}{6}\\right)\\\\\n",
        "\\end{array}\\right .$$\n",
        "com $\\displaystyle{k_1=f(t_k,y_k)}$, $\\displaystyle{k_2=f\\left(t_k+\\dfrac{\\Delta t}{2}, y_k+\\dfrac{\\Delta t}{2} k_1\\right)}$ e $\\displaystyle{k_3=f\\left(t_k+\\dfrac{\\Delta t}{2}, y_k+\\dfrac{\\Delta t}{2}k_2\\right)}$ e $\\displaystyle{k_4=f\\left(t_k+\\Delta t, y_k+\\Delta tk_3\\right)}$.\n",
        "\n"
      ],
      "metadata": {
        "id": "KUGJlYBV17hX"
      }
    },
    {
      "cell_type": "code",
      "source": [
        "def f(x,y):\n",
        "  return (1/(1+x**2) - 2*y**2)\n",
        "\n",
        "def sol(x):\n",
        "  return x/(1+x**2)\n",
        "\n",
        "\n",
        "a = 0\n",
        "b = 1\n",
        "N = 4\n",
        "h = (b - a)/N\n",
        "x0 = a\n",
        "y0 = 0\n",
        "\n",
        "print('Euler Aprimorado')\n",
        "for i in range(N):\n",
        "  k1 = f(x0, y0)\n",
        "  k2 = f(x0 + h, y0 + h*k1)\n",
        "  y = y0 + (h/2)*(k1 + k2)\n",
        "  y0 = y\n",
        "  x0 = x0 + h\n",
        "print(x0, sol(x0), y, abs(y - sol(x0)))\n",
        "\n",
        "x0 = a\n",
        "y0 = 0\n",
        "print('Euler RK4')\n",
        "for i in range(N):\n",
        "  k1 = f(x0, y0)\n",
        "  k2 = f(x0 + h/2, y0 + (h/2)*k1)\n",
        "  k3 = f(x0 + h/2, y0 + (h/2)*k2)\n",
        "  k4 = f(x0 + h, y0 + h*k3)\n",
        "  y = y0 + (h/6)*(k1 + 2*k2 + 2*k3 + k4)\n",
        "  y0 = y\n",
        "  x0 = x0 + h\n",
        "print(x0, sol(x0), y, abs(y - sol(x0)))"
      ],
      "metadata": {
        "id": "B4i-DayJ_OzJ"
      },
      "execution_count": null,
      "outputs": []
    },
    {
      "cell_type": "code",
      "source": [
        "#Análise do erro RK2\n",
        "print(0.015154725800572644/0.0030517319293646428)\n",
        "print(0.0030517319293646428/0.0006896589091499594)\n",
        "print(0.0006896589091499594/0.00016423701931311818)\n",
        "print(0.00016423701931311818/4.00922172104079e-05)\n",
        "\n"
      ],
      "metadata": {
        "id": "QZqSdbItlZVY",
        "outputId": "0ddad20f-fd83-49f4-b488-259fb505b0c3",
        "colab": {
          "base_uri": "https://localhost:8080/"
        }
      },
      "execution_count": null,
      "outputs": [
        {
          "output_type": "stream",
          "name": "stdout",
          "text": [
            "4.965942668407245\n",
            "4.424987321813998\n",
            "4.199168445910014\n",
            "4.096481330807577\n"
          ]
        }
      ]
    },
    {
      "cell_type": "code",
      "source": [
        "#Análise do erro RK4\n",
        "print(0.00019839775439817187/1.0545010608931094e-05)\n",
        "print(1.0545010608931094e-05/6.091651165718304e-07)\n",
        "print(6.091651165718304e-07/3.662449593599959e-08)\n",
        "print(3.662449593599959e-08/2.2454094139590097e-09)\n",
        "print(2.2454094139590097e-09/1.389997561496159e-10)"
      ],
      "metadata": {
        "id": "wJHzVUN9n9Je",
        "outputId": "6f50157c-1e8d-4d95-ff0c-f94b69603fbd",
        "colab": {
          "base_uri": "https://localhost:8080/"
        }
      },
      "execution_count": null,
      "outputs": [
        {
          "output_type": "stream",
          "name": "stdout",
          "text": [
            "18.81437219514402\n",
            "17.31059498001913\n",
            "16.63272356393195\n",
            "16.31083209517005\n",
            "16.154052900223125\n"
          ]
        }
      ]
    },
    {
      "cell_type": "markdown",
      "source": [
        "**Equações diferenciais ordinárias de ordem superior**\n",
        "\n"
      ],
      "metadata": {
        "id": "8ASDHH5Pu0us"
      }
    }
  ]
}