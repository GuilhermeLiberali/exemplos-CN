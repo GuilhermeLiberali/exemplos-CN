{
  "nbformat": 4,
  "nbformat_minor": 0,
  "metadata": {
    "colab": {
      "provenance": [],
      "authorship_tag": "ABX9TyNPRRwr6Uv0pqGixUTdvaOn",
      "include_colab_link": true
    },
    "kernelspec": {
      "name": "python3",
      "display_name": "Python 3"
    },
    "language_info": {
      "name": "python"
    }
  },
  "cells": [
    {
      "cell_type": "markdown",
      "metadata": {
        "id": "view-in-github",
        "colab_type": "text"
      },
      "source": [
        "<a href=\"https://colab.research.google.com/github/pccalegari/exemplos-CN/blob/main/MMQp1.ipynb\" target=\"_parent\"><img src=\"https://colab.research.google.com/assets/colab-badge.svg\" alt=\"Open In Colab\"/></a>"
      ]
    },
    {
      "cell_type": "markdown",
      "source": [
        "#Exercícios:\n",
        "\n",
        "**[1]** Considere a tabela\n",
        "\n",
        "$$\\begin{array}{c|cccc}\n",
        "x_i & -2 & -1 & 1 & 2 \\\\\n",
        "\\hline\n",
        "y_i & 1 & -3 & 1 & 9 \\\\\n",
        "\\end{array}\n",
        "$$\n",
        "\n",
        "(a) Pelo método dos mínimos quadrados, ajuste à tabela as funções $g(x) = a_0x+a_1x^2$ e $h(x)=a_0+a_1x^2$.\n",
        "\n",
        "(b) Qual função $g(x)$ ou $h(x)$ fornece o melhor ajuste segundo o MMQ?. Justifique.\n",
        "\n"
      ],
      "metadata": {
        "id": "vqwL1Rtimaj6"
      }
    },
    {
      "cell_type": "code",
      "source": [],
      "metadata": {
        "id": "WgYyuB0o5pYg"
      },
      "execution_count": null,
      "outputs": []
    },
    {
      "cell_type": "markdown",
      "source": [
        "**[2]** Ajuste os dados da tabela abaixo, usando uma parábola.\n",
        "\n",
        "$$\\begin{array}{c|cccccccc}\n",
        "x_i & 1 & 2 & 3 & 4 & 5 &6 & 7 & 8\\\\\n",
        "\\hline\n",
        "f(x_i) & 0.5 & 0.6 & 0.9 & 0.8 & 1.2 & 1.5 & 1.7 & 2 \\\\\n",
        "\\end{array}\n",
        "$$\n",
        "\n"
      ],
      "metadata": {
        "id": "2R0rBo295n_t"
      }
    },
    {
      "cell_type": "code",
      "execution_count": null,
      "metadata": {
        "id": "xbH4NpgGmZwb"
      },
      "outputs": [],
      "source": []
    },
    {
      "cell_type": "markdown",
      "source": [
        "**[3]** A tabela mostra alturas e pesos de uma amostra de nove pessoas entre 25 e 29 anos:\n",
        "\n",
        "$$\\begin{array}{c|ccccccccc}\n",
        "\\mbox{altura (cm)} & 183 & 173 & 168 & 185 & 158 & 163 & 193 & 163 & 177 \\\\\n",
        "\\hline\n",
        "\\mbox{peso (kg)} & 79 & 69 & 50 & 81 & 61 & 63 & 77 & 54 & 73 \\\\\n",
        "\\end{array}\n",
        "$$\n",
        "\n",
        "(a) É possível fazer um ajuste linear do peso em função da altura? E da altura em função do peso?\n",
        "\n",
        "(b) Estime o peso de uma pessoa com $175$ cm e a altura de uma pessoa com $80$ kg."
      ],
      "metadata": {
        "id": "sX3yQd3w5uPE"
      }
    },
    {
      "cell_type": "code",
      "source": [],
      "metadata": {
        "id": "39xmmIqs5v-k"
      },
      "execution_count": null,
      "outputs": []
    }
  ]
}