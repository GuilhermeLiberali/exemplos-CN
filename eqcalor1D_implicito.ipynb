{
  "nbformat": 4,
  "nbformat_minor": 0,
  "metadata": {
    "colab": {
      "provenance": [],
      "collapsed_sections": [],
      "authorship_tag": "ABX9TyOy0w8nBYeFWpgWsBAwiQPL",
      "include_colab_link": true
    },
    "kernelspec": {
      "name": "python3",
      "display_name": "Python 3"
    },
    "language_info": {
      "name": "python"
    }
  },
  "cells": [
    {
      "cell_type": "markdown",
      "metadata": {
        "id": "view-in-github",
        "colab_type": "text"
      },
      "source": [
        "<a href=\"https://colab.research.google.com/github/pccalegari/exemplos-CN/blob/main/eqcalor1D_implicito.ipynb\" target=\"_parent\"><img src=\"https://colab.research.google.com/assets/colab-badge.svg\" alt=\"Open In Colab\"/></a>"
      ]
    },
    {
      "cell_type": "code",
      "execution_count": null,
      "metadata": {
        "colab": {
          "base_uri": "https://localhost:8080/",
          "height": 297
        },
        "id": "ajPZxKiG-2nV",
        "outputId": "c8ba573e-89ff-4370-c027-61ad6768e65d"
      },
      "outputs": [
        {
          "output_type": "stream",
          "name": "stdout",
          "text": [
            "erro norma maximo 0.15938636634155837\n"
          ]
        },
        {
          "output_type": "display_data",
          "data": {
            "text/plain": [
              "<Figure size 432x288 with 1 Axes>"
            ],
            "image/png": "[encoded data removed]"
          },
          "metadata": {
            "needs_background": "light"
          }
        }
      ],
      "source": [
        "import matplotlib.pyplot as plt\n",
        "import numpy as np\n",
        "\n",
        "def phi(x, t):\n",
        "  return np.exp(-t)*np.sin(np.pi*x)\n",
        "\n",
        "def f(x,t,alpha):\n",
        "  return ((alpha*alpha*np.pi*np.pi - 1)*phi(x, t))\n",
        "\n",
        "def main():\n",
        "  N = 8\n",
        "  b = 1\n",
        "  a = 0\n",
        "  h = (b - a)/N\n",
        "  t0 = 0\n",
        "  tf = 0.5\n",
        "  alpha = 1\n",
        "  dt = (h*h)/(2*alpha*alpha)\n",
        "\n",
        "  x = np.linspace(a,b,N+1)\n",
        "  \n",
        "  phi0 = np.zeros(N-1)\n",
        "  phiag = np.zeros(N+1)\n",
        "  b = np.zeros(N-1)\n",
        "  phie = np.zeros(N-1)\n",
        "  A = np.zeros((N-1,N-1))\n",
        "\n",
        "  for i in range(N-1):\n",
        "    phi0[i] = phi(x[i+1], t0) \n",
        "    phie[i] = phi(x[i+1], tf)\n",
        "  \n",
        "\n",
        "  t = t0\n",
        "  while (t < tf):\n",
        "    s = dt*alpha*alpha/(h*h)\n",
        "    A[0][0] = 1 + 2*s\n",
        "    for i in range(1,N-1):\n",
        "        A[i][i] = 1 + 2*s\n",
        "        A[i-1][i] = -s\n",
        "        A[i][i-1] = -s\n",
        "    \n",
        "    t += dt\n",
        "    #Lado direito do sistema\n",
        "    for i in range(N-2):\n",
        "      b[i] = phi0[i] + dt*f(x[i+1], t, alpha)\n",
        "\n",
        "    #Condição de contorno\n",
        "    b[0] = b[0] + s*phi(x[0],t)\n",
        "    b[N-2] = b[N-2] + s*phi(x[N],t)\n",
        "\n",
        "    phia = np.linalg.solve(A, b)\n",
        "\n",
        "    for i in range(N-1):\n",
        "      phi0[i] = phia[i]\n",
        "    dt = min(dt, tf - t)\n",
        "\n",
        "  for i in range(N-1):\n",
        "    phiag[i+1] = phia[i]\n",
        "  phiag[0] = phi(x[0],t)\n",
        "  phiag[N] = phi(x[N],t) \n",
        "\n",
        "  print(\"erro norma maximo\", np.linalg.norm(phie - phia, ord=np.inf))  \n",
        "\n",
        "  plt.figure(1)\n",
        "  plt.plot(x[1:N], phia, 'o', label='tf=0.5')\n",
        "  plt.plot(x[1:N], phie, '*', label='exata')\n",
        "  plt.xlabel(\"x\")\n",
        "  plt.legend()\n",
        "  plt.show()\n",
        "\n",
        "main() "
      ]
    },
    {
      "cell_type": "code",
      "source": [
        "print(0.15938636634155837/0.07896636818093875)\n",
        "print(0.07896636818093875/0.039507848680057446)\n",
        "print(0.039507848680057446/0.01979054335885396)"
      ],
      "metadata": {
        "colab": {
          "base_uri": "https://localhost:8080/"
        },
        "id": "cYTOs_90PsBC",
        "outputId": "5cc93857-2ab3-4f64-e6d3-d11592cb0c77"
      },
      "execution_count": null,
      "outputs": [
        {
          "output_type": "stream",
          "name": "stdout",
          "text": [
            "2.0184082162212413\n",
            "1.9987514081170143\n",
            "1.996299341745071\n"
          ]
        }
      ]
    }
  ]
}