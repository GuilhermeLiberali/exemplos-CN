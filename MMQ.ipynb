{
  "cells": [
    {
      "cell_type": "markdown",
      "metadata": {
        "id": "view-in-github",
        "colab_type": "text"
      },
      "source": [
        "<a href=\"https://colab.research.google.com/github/pccalegari/exemplos-CN/blob/main/MMQ.ipynb\" target=\"_parent\"><img src=\"https://colab.research.google.com/assets/colab-badge.svg\" alt=\"Open In Colab\"/></a>"
      ]
    },
    {
      "cell_type": "markdown",
      "metadata": {
        "id": "rRH8GXuTqTjd"
      },
      "source": [
        "\n",
        "\n",
        "\n",
        "\n",
        "# Unidade 5 - Aproximação de funções\n",
        "\n",
        "\n"
      ]
    },
    {
      "cell_type": "markdown",
      "metadata": {
        "id": "SUHnaI9tH795"
      },
      "source": [
        "Nesta unidade, vamos estudar métodos para aproximar funções e dados tabelados. Veremos duas maneiras de aproximar funções: a **Interpolação** e o **Método dos Mínimos Quadrados**. A seguir, apresentamos alguns exemplos de resolução em *Python*. Vamos utilizar as bibliotecas [numpy](https://numpy.org/) e [scipy](https://scipy.github.io/devdocs/index.html).\n",
        "\n",
        "**Motivação:**\n",
        "\n",
        "Podemos estar interessados em extrair informações de um conjunto de dados de censos demográficos, que em geral ocorre a cada 10 anos. Como estimar a população em anos intermediários?\n",
        "\n",
        "Podemos também aproximar funções $f(x)$ contínuas por uma combinação de polinômios ou funções trigonométricas, por exemplo.\n",
        "\n",
        "Existem duas classes de métodos:\n",
        "\n",
        "\n",
        "*   **Método dos Mínimos Quadrados** (MMQ): nosso objetivo é minimizar o resíduo entre os dados e uma função aproximadora.\n",
        "*   **Interpolação Polinomial**: nesse caso exigimos que o polinômio aproximador \"passe\" pelos dados a serem aproximados.\n",
        "\n"
      ]
    },
    {
      "cell_type": "markdown",
      "metadata": {
        "id": "BzfCDkbctjB2"
      },
      "source": [
        "# Método dos Mínimos Quadrados\n"
      ]
    },
    {
      "cell_type": "markdown",
      "metadata": {
        "id": "fEiwpGcQtq0n"
      },
      "source": [
        "**Problema Discreto:**\n",
        "\n",
        "Objetivo: Minimizar resíduo (erro).\n",
        "\n",
        "Para obter a melhor aproximação vamos minimizar a função:\n",
        "\n",
        "$$  r({\\bf a}) = \\sum_{i=1}^m r_i({\\bf a})^2,$$\n",
        "\n",
        "sendo o resíduo $r_i({\\bf a}) = f(x_i,{\\bf a}) - y_i$, com $(x_i,y_i)$ dados e $m$ tamanho dos vetores $x$ e $y$.\n",
        "\n",
        "Para ajustar os parâmetros da função $r({\\bf a})$ vamos utilizar as bibliotecas *numpy* e *scipy*.\n",
        "\n",
        " *Assunto descrito em aula, para mais detalhes, veja material disponível no moodle.*"
      ]
    },
    {
      "cell_type": "markdown",
      "metadata": {
        "id": "jPvEib3Cu9-w"
      },
      "source": [
        "*Exemplo 1*\n",
        "\n",
        "Ajustar os dados abaixo usando uma reta (Regressão linear):\n",
        "\n",
        "$$\\begin{array}{c|ccccc}\n",
        "x_i & 0 & 0.25 & 0.5 & 0.75 & 1\\\\\n",
        "\\hline\n",
        "y_i & 1 & 1.2840 & 1.6487 & 2.1170 & 2.7183 \\\\\n",
        "\\end{array}$$\n",
        "\n",
        "*Solução:*\n",
        "\n",
        "A função aproximadora é dada por $g(x)=a_0 + a_1x$. A tabela possui $5$ pontos portanto $m=5$."
      ]
    },
    {
      "cell_type": "code",
      "execution_count": 1,
      "metadata": {
        "id": "zlmv5UJ9IHbv",
        "scrolled": true,
        "outputId": "b8795508-84bf-4632-b32b-94a50c2b0aea",
        "colab": {
          "base_uri": "https://localhost:8080/",
          "height": 536
        }
      },
      "outputs": [
        {
          "output_type": "stream",
          "name": "stdout",
          "text": [
            "[[67.5         1.94856894]\n",
            " [ 1.94856894  2.95145074]]\n",
            "[69.705       4.94584248]\n",
            "[1.0034159  1.01327032]\n",
            "residuo =  0.0003196239999689366\n"
          ]
        },
        {
          "output_type": "display_data",
          "data": {
            "text/plain": [
              "<Figure size 640x480 with 1 Axes>"
            ],
            "image/png": "[encoded data removed]"
          },
          "metadata": {}
        }
      ],
      "source": [
        "import matplotlib.pyplot as plt\n",
        "import numpy as np\n",
        "from numpy import linalg as LA\n",
        "\n",
        "def flinear(x, a):\n",
        "    #y = a[0] + a[1]*x\n",
        "    y = a[0]*x + a[1]*np.cos(x)\n",
        "    return y\n",
        "\n",
        "def rlinear(a, x, y):\n",
        "    return flinear(x, a) - y\n",
        "\n",
        "#xi = np.array([0, 0.25, 0.5, 0.75 , 1])\n",
        "#yi = np.array([1, 1.2840, 1.6487, 2.117, 2.7183])\n",
        "\n",
        "#Exemplo 1 (aula)\n",
        "#xi = np.array([0, 1, 2, 3, 4])\n",
        "#yi = np.array([0, 1, 1, 4, 4])\n",
        "\n",
        "#Exemplo 2 (aula)\n",
        "xi = np.array([0, 1.5, 3, 4.5, 6])\n",
        "yi = np.array([1, 1.57, 2, 4.3, 7])\n",
        "m = len(xi)\n",
        "v_1 = np.ones(m)\n",
        "\n",
        "#Sistema para o ajuste por reta\n",
        "A = np.zeros((2,2))\n",
        "b = np.zeros(2)\n",
        "\n",
        "# Sistema do exemplo 1\n",
        "#A[0,0] = np.vdot(v_1,v_1)\n",
        "#A[1,0] = np.vdot(v_1,xi)\n",
        "#A[0,1] = A[1,0]\n",
        "#A[1,1] = np.vdot(xi, xi)\n",
        "#b[0] = np.vdot(v_1, yi)\n",
        "#b[1] = np.vdot(xi, yi)\n",
        "\n",
        "#Sistema do ajuste g(x) = a0x + a1cos(x), exemplo 2\n",
        "A[0,0] = np.vdot(xi, xi)\n",
        "A[1,0] = np.vdot(xi, np.cos(xi))\n",
        "A[0,1] = A[1,0]\n",
        "A[1,1] = np.vdot(np.cos(xi), np.cos(xi))\n",
        "b[0] = np.vdot(xi, yi)\n",
        "b[1] = np.vdot(np.cos(xi), yi)\n",
        "print(A)\n",
        "print(b)\n",
        "a = np.linalg.solve(A, b)\n",
        "print(a)\n",
        "res = 0\n",
        "for i in range(m):\n",
        "   res += (rlinear(a, xi[i], yi[i])**2)\n",
        "print(\"residuo = \", res)\n",
        "\n",
        "x_test = np.linspace(xi[0], xi[m-1], 100)\n",
        "\n",
        "y_lin = flinear(x_test, a)\n",
        "\n",
        "plt.figure(1)\n",
        "plt.plot(xi, yi, 'o', label='Experimento')\n",
        "plt.plot(x_test, y_lin, label='Ajuste')\n",
        "plt.xlabel(\"x\")\n",
        "plt.ylabel(\"y\")\n",
        "plt.legend()\n",
        "plt.show()"
      ]
    },
    {
      "cell_type": "markdown",
      "metadata": {
        "id": "vs71n2bXh3_1"
      },
      "source": [
        "**Problema Contínuo**\n",
        "\n",
        "No caso contínuo, o problema de ajuste de curvas consiste em: dada uma função $f(x)$ contínua em um intervalo $[a,b]$ e escolhidas as funções $g_0(x), g_1(x),\\ldots, g_n(x)$ todas contínuas em $[a,b]$, queremos determinar $a_0,a_1,\\ldots,a_n$ tais que a função $\\displaystyle{g(x) = \\sum_{k=0}^na_kg_k(x)}$ seja a melhor aproximação de $f(x)$ no intervalo $[a,b]$.\n",
        "\n",
        "Determinar a *melhor aproximação*, como no caso discreto, significa minimizar a função resíduo dada por,\n",
        "\n",
        "$$r({\\bf a}) = \\int_a^b[f(x) - \\sum_{k=0}^na_kg_k(x)]^2dx.$$\n",
        "\n",
        "No caso discreto, o resíduo era definido com uma soma finita, já o caso contínuo a definição do resíduo é feita por meio de uma integral em $[a,b]$. Para facilitar a notação, é comum utilizar a notação de produto escalar de duas funções.\n",
        "\n",
        "1. Caso discreto $\\displaystyle{<f,g> = \\sum_{i=0}^m f(x_i)g(x_i)}$.\n",
        "2. Caso contínuo $\\displaystyle{<f,g> = \\int_a^bf(x)g(x)dx}.$\n",
        "\n",
        "Importante, lembrar que o produto escalar entre funções satisfaz as propriedades:\n",
        "1. Linearidade: $\\displaystyle{<ag_1+a_2g_2, f> = a_1<g_1,f>+a_2<g_2,f>}.$\n",
        "2. Comutatividade: $\\displaystyle{<f,g> = <g,f>}.$\n",
        "3. Não negatividade: $\\displaystyle{<g,g> \\ge 0}$ e $\\displaystyle{<g,g> = 0 \\Leftrightarrow g \\equiv 0}$.\n",
        "\n",
        "**1. Exercício:** Verifique estas propriedades para os produtos escalares definidos para o caso discreto e para o caso contínuo.\n",
        "\n",
        "Como fizemos para o caso discreto, queremos determinar os parâmetros $a_0,a_1,\\ldots,a_n$ que minimizam o resíduo, ou seja, $\\displaystyle{\\dfrac{\\partial r}{\\partial a_j} = 0,}$ com $j=0,1,\\ldots,n$. Assim, para cada $j$ temos uma equação da forma,\n",
        "$$\\int_a^b2[f(x) - \\sum_{k=0}^na_kg_k(x)]g_j(x)dx = 0, \\mbox{com } j = 0,\\ldots, n.$$\n",
        "Pelas propriedades de produto escalar, temos\n",
        "$$\\int_a^bf(x)g_j(x)dx -\\sum_{k=0}^na_k\\int_a^bg_k(x)g_j(x)dx = 0,$$\n",
        "que implica em,\n",
        "$$a_0\\int_a^bg_0(x)g_j(x)dx + a_1\\int_a^bg_1(x)g_j(x)dx + \\ldots + a_n\\int_a^bg_n(x)g_j(x)dx = \\int_a^bf(x)g_j(x)dx.$$\n",
        "Dessa forma obtemos o sistema normal,\n",
        "$$\\left(\\begin{array}{cccc}\n",
        "<g_0,g_0> & <g_1,g_0> & \\ldots & <g_n,g_0> \\\\\n",
        "<g_0,g_1> & <g_1,g_1> & \\ldots & <g_n,g_1> \\\\\n",
        "\\vdots & & \\ddots & \\vdots \\\\\n",
        "<g_0,g_n> & <g_1,g_n> & \\ldots & <g_n,g_n>\n",
        "\\end{array}\\right)\\left(\\begin{array}{c}\n",
        "a_0\\\\\n",
        "a_1\\\\\n",
        "\\vdots\\\\\n",
        "a_n\n",
        "\\end{array}\\right) = \\left(\\begin{array}{c}\n",
        "<f,g_0>\\\\\n",
        "<f,g_1>\\\\\n",
        "\\vdots\\\\\n",
        "<f,g_n>\n",
        "\\end{array}\\right),$$\n",
        "sendo $\\displaystyle{<g,f> = \\int_a^bg(x)f(x)dx}$.\n",
        "\n",
        "\n",
        "\n",
        "\n",
        "\n",
        "\n"
      ]
    },
    {
      "cell_type": "markdown",
      "metadata": {
        "id": "tPfKNIGs8b2s"
      },
      "source": [
        "*Exemplo 2:*\n",
        "\n",
        "Queremos subsituir a função $\\displaystyle{f(x) = \\sin\\left(\\frac{\\pi}{4}x\\right)}$ por um polinômio de grau 3, no intervalo $[0,1]$. Como a função $\\displaystyle{\\sin\\left(\\frac{\\pi}{4}x\\right)}$ é uma função ímpar, ou seja, $f(-x) = -f(x)$, vamos escolher um polinômio ímpar para o ajuste, $g(x) = a_0x+a_1x^3$. Isso significa, que $g_0(x) = x$ e $g_1(x) = x^3$. Assim, precisamos minimizar a função\n",
        "$$r(a_0,a_1) = \\int_0^1(\\sin\\frac{\\pi}{4}x - a_0x - a_1x^3)^2dx.$$\n",
        "Assim, o sistema normal é dado por,\n",
        "$$\\left(\\begin{array}{cc}\n",
        "\\int_0^1x^2dx & \\int_0^1x^4dx\\\\\n",
        "\\int_0^1x^4dx & \\int_0^1x^6dx\n",
        "\\end{array}\\right)\n",
        "\\left(\\begin{array}{c}\n",
        "a_0\\\\\n",
        "\\\\\n",
        "a_1\\\\\n",
        "\\end{array}\\right) = \\left(\\begin{array}{c}\n",
        "\\int_0^1x\\sin(\\frac{\\pi}{4}x) dx\\\\\n",
        "\\int_0^1x^3\\sin(\\frac{\\pi}{4}x) dx\n",
        "\\end{array}\\right),$$\n",
        "\n",
        "Calculando as integrais (algumas por partes: $\\int udv = uv -\\int v du$) obtemos:\n",
        "\n",
        "$$\\begin{align}\n",
        "\\int_0^1x\\sin(\\frac{\\pi}{4})dx & = -x\\frac{4}{\\pi}\\cos(\\frac{\\pi}{4}x)|_0^1 + \\frac{4}{\\pi}\\int_0^1\\cos(\\frac{\\pi}{4}x)dx \\\\\n",
        "& = -\\frac{4}{\\pi}\\cos(\\frac{\\pi}{4})+\\frac{16}{\\pi^2}\\sin(\\frac{\\pi}{4})\\\\\n",
        "& \\approx 0.2460020203444062\n",
        "\\end{align}$$\n",
        "\n",
        "$$\\begin{align}\n",
        "\\int_0^1x^3\\sin(\\frac{\\pi}{4})dx & = -x^3\\frac{4}{\\pi}\\cos(\\frac{\\pi}{4}x)|_0^1 + \\frac{12}{\\pi}\\int_0^1 x^2\\cos(\\frac{\\pi}{4}x)dx \\\\\n",
        "& = -\\frac{4}{\\pi}\\cos(\\frac{\\pi}{4})+\\frac{12}{\\pi}[\\dfrac{4}{\\pi}x^2\\sin(\\frac{\\pi}{4}x)|_0^1 - \\frac{8}{\\pi}\\int_0^1x\\sin(\\frac{\\pi}{4}x)dx] \\\\\n",
        "& \\approx 0.14581796889606857\n",
        "\\end{align}$$\n",
        "\n",
        "$$\\int_0^1 x^2dx = \\frac{x^3}{3}|_0^1 = \\frac{1}{3}$$\n",
        "\n",
        "$$\\int_0^1 x^4dx = \\frac{x^5}{5}|_0^1 = \\frac{1}{5}$$\n",
        "\n",
        "$$\\int_0^1 x^6dx = \\frac{x^7}{7}|_0^1 = \\frac{1}{7}$$\n",
        "\n"
      ]
    },
    {
      "cell_type": "code",
      "execution_count": 2,
      "metadata": {
        "id": "NFJAfVC3DFS_",
        "outputId": "f6371f72-ae36-4dbd-a098-1be2ffeccdce",
        "colab": {
          "base_uri": "https://localhost:8080/"
        }
      },
      "outputs": [
        {
          "output_type": "stream",
          "name": "stdout",
          "text": [
            "0.2460020203444062\n",
            "0.14581796889606857\n"
          ]
        }
      ],
      "source": [
        "import numpy as np\n",
        "print(-(4/np.pi)*np.cos(np.pi/4)+(16/np.pi**2)*np.sin(np.pi/4))\n",
        "print(-(4/np.pi)*np.cos(np.pi/4)+(12/np.pi)*((4/np.pi)*np.sin(np.pi/4) - (8/np.pi)*0.2460020203444062))"
      ]
    },
    {
      "cell_type": "markdown",
      "metadata": {
        "id": "3LJB1bD1J8Eh"
      },
      "source": [
        "Assim,\n",
        "\n",
        "$$\\left(\\begin{array}{cc}\n",
        "\\dfrac{1}{3} & \\dfrac{1}{5}\\\\\n",
        "\\dfrac{1}{5} & \\dfrac{1}{7}\n",
        "\\end{array}\\right) \\left(\\begin{array}{c}\n",
        "a_0\\\\ \\\\\n",
        "a_1\n",
        "\\end{array}\\right) = \\left(\\begin{array}{c}\n",
        "0.2460020203444062\\\\ \\\\\n",
        "0.14581796889606857\n",
        "\\end{array}\\right)$$\n",
        "\n",
        "cuja solução é $a_0 = 0.7848162$ e $a_1 = -0.07801689$.\n",
        "Portanto, a função aproximadora é $g(x) = 0.7848162x -0.07801689x^3.$\n",
        "\n",
        "\n"
      ]
    },
    {
      "cell_type": "code",
      "execution_count": 3,
      "metadata": {
        "id": "-FjioxKkKdCd",
        "outputId": "54c7e804-9018-4023-b3cf-ae1b05a31afe",
        "colab": {
          "base_uri": "https://localhost:8080/",
          "height": 466
        }
      },
      "outputs": [
        {
          "output_type": "stream",
          "name": "stdout",
          "text": [
            "[ 0.7848162  -0.07801689]\n"
          ]
        },
        {
          "output_type": "display_data",
          "data": {
            "text/plain": [
              "<Figure size 640x480 with 1 Axes>"
            ],
            "image/png": "[encoded data removed]"
          },
          "metadata": {}
        }
      ],
      "source": [
        "import numpy as np\n",
        "\n",
        "def f(x):\n",
        "  return np.sin((np.pi/4)*x)\n",
        "\n",
        "def g(x, a):\n",
        "  return a[0]*x + a[1]*x**3\n",
        "\n",
        "A = np.array([[1/3, 1/5], [1/5, 1/7]])\n",
        "b = np.array([0.2460020203444062, 0.14581796889606857])\n",
        "a = np.linalg.solve(A, b)\n",
        "print(a)\n",
        "\n",
        "x = np.linspace(0,1,100)\n",
        "y = f(x)\n",
        "ya = g(x, a)\n",
        "\n",
        "plt.figure(1)\n",
        "plt.plot(x, y, 'b-', label='f(x)')\n",
        "plt.plot(x, ya, 'r-.', label='g(x)')\n",
        "plt.xlabel(\"x\")\n",
        "plt.ylabel(\"y\")\n",
        "plt.legend()\n",
        "plt.show()"
      ]
    },
    {
      "cell_type": "markdown",
      "metadata": {
        "id": "yINniJ4LNstS"
      },
      "source": [
        "**Mínimos quadrados com peso**\n",
        "\n",
        "A formulação do Método dos Mínimos Quadrados (MMQ) usando a definição de produto escalar de funções nos permite:\n",
        "\n",
        "1. Atribuir diferentes  graus de importância no intervalo de aproximação. Isso é feito quando incluímos uma função peso, $w(x)$ no produto escalar,\n",
        "\n",
        "\n",
        "\n",
        "*   Discreto: $\\displaystyle{<f,g> = \\sum_{i=1}^mw(x_i)f(x_i)g(x_i),} $\n",
        "*   Contínuo: $\\displaystyle{<f,g> = \\int_a^b w(x)f(x)g(x)dx,}$\n",
        "\n",
        "sendo $w(x)$ uma função contínua e $w(x)>0$ em $[a,b]$.\n",
        "\n",
        "*Exemplo 3:*\n",
        "\n",
        "A tabela\n",
        "$$\\begin{array}{c|cccccc}\n",
        "t & 1 & 2 & 3 & 4 & 5 & 6\\\\\n",
        "\\hline\n",
        "R & 21.3 & 21.8 & 21.2 & 21.3 & 20.5 & 21 \\\\\n",
        "\\end{array}$$\n",
        "\n",
        "representa os preços em reais  de um ativo financeiro em 6 meses  consecutivos $t_i=i$, com $i=1,2,\\ldots,6$. Queremos estimar o comportamento dos preços usando uma função linear, $R(t)=\\alpha + \\beta t$. Usaremos os seguintes pesos para os meses  de 1 a 6: $w = (0.5, 0.6, 0.7, 0.8, 0.9, 1)$. Pede-se para determinar a reta que melhor se ajusta (via mínimos quadrados), segundo o produto escalar $<x,y>=\\sum_{i=1}^6w_ix_iy_i$ e a volatilidade $\\sigma$ da amostra é dada por $\\sigma^2 = \\sum_{i=1}^6w_i(R_i-R(t_i))^2$.\n",
        "\n",
        "Obs. Resolução em sala!\n",
        "\n"
      ]
    },
    {
      "cell_type": "code",
      "execution_count": null,
      "metadata": {
        "id": "fSmmvjdUEpGc"
      },
      "outputs": [],
      "source": [
        "import matplotlib.pyplot as plt\n",
        "import numpy as np\n",
        "from numpy import linalg as LA\n",
        "\n",
        "def flinear(x, a):\n",
        "    y = a[0] + a[1]*x\n",
        "    return y\n",
        "\n",
        "def rlinear(a, x, y):\n",
        "    return flinear(x, a) - y\n",
        "\n",
        "#Exemplo 1 (com pesos)\n",
        "t = np.array([1, 2, 3, 4, 5, 6])\n",
        "r = np.array([21.3, 21.8, 21.2, 21.3, 20.5, 21])\n",
        "w = np.array([0.5, 0.6, 0.7, 0.8, 0.9, 1])\n",
        "m = len(t)\n",
        "one = np.ones(m)\n",
        "\n",
        "#Sistema para o ajuste por reta\n",
        "A = np.zeros((2,2))\n",
        "b = np.zeros(2)\n",
        "\n",
        "for i in range(m):\n",
        "  A[0][0] += w[i]\n",
        "  A[1][0] += w[i]*t[i]\n",
        "  A[1][1] += w[i]*t[i]**2\n",
        "  b[0] += w[i]*r[i]\n",
        "  b[1] += w[i]*t[i]*r[i]\n",
        "\n",
        "A[0][1] = A[1][0]\n",
        "\n",
        "print(A)\n",
        "print(b)\n",
        "a = np.linalg.solve(A, b)\n",
        "print(a)\n",
        "res = 0\n",
        "for i in range(m):\n",
        "   res += w[i]*(rlinear(a, t[i], r[i])**2)\n",
        "print(\"sigma = \", res**0.5)\n",
        "\n",
        "tc = np.linspace(t[0], t[m-1], 100)\n",
        "\n",
        "rc = flinear(tc, a)\n",
        "\n",
        "plt.figure(1)\n",
        "plt.plot(t, r, 'o', label='R')\n",
        "plt.plot(tc, rc, label='Ajuste')\n",
        "plt.xlabel(\"t\")\n",
        "plt.ylabel(\"R\")\n",
        "plt.legend()\n",
        "plt.show()"
      ]
    },
    {
      "cell_type": "markdown",
      "metadata": {
        "id": "BS1vKIht9TTG"
      },
      "source": [
        "**Funções Ortogonais**\n",
        "\n",
        "O conceito de ortogonalidade em um conjunto de funções, se origina do conceito de ortogonalidade entre vetores, caracterizado pelo produto escalar nulo.\n",
        "\n",
        "Uma família de funções, $g_i(x)$, com $i=0,1,\\ldots$ é ortogonal em relação ao produto escalar associado ao peso $w(x)$ se $<g_i,g_j>=0$ para todo $i\\neq j$.\n",
        "\n",
        "Se as funções $g_i(x)$ que compõem a função aproximadora $\\displaystyle{g(x) = \\sum_{k=0}^ng_k(x)}$ são ortogonais, o sistema normal se torna diagonal. Ou seja, apenas a diagonal da matriz é não nula. Portanto, a solução do sistema resulta em\n",
        "\n",
        "$$a_j = \\dfrac{<f,g_i>}{<g_i,g_i>}, j = 0,1,\\ldots,n.$$\n",
        "\n",
        "Exemplos de famílias de funções ortogonais:\n",
        "\n",
        "\n",
        "\n",
        "*   As funções trigonométricas, que dão origem à série de Fourier.\n",
        "*   Os polinômios ortogonais: polinômios de Legendre, Laguerre, Chebyshev, entre outros, que cada vez mais aparecem em problemas que envolvem aproximações.\n",
        "\n",
        "\n",
        "\n",
        "*Exemplo 4:*\n",
        "\n",
        "Vamos construir os três primeiros polinômios ortogonais em relação ao produto escalar\n",
        "\n",
        "$$<f,g> = \\int_0^1f(x)g(x)dx,$$\n",
        "\n",
        " e aproximar $f(x)=e^x$ no intervalo $[0,1]$ por um polinômio de grau 2, ou seja, $g(x) = a_0p_0(x) + a_1p_1(x)+a_2p_2(x)$.\n",
        "\n",
        "Vamos assumir que os polinômios são mônicos (coeficiente de maior grau igual a 1). Assim, $p_0(x)=1$, $p_1(x)=\\alpha_0+x$ e $p_2(x)=\\beta_0+\\beta_1 x+ x^2$. Vamos determinar, $\\alpha_0,\\beta_0$ e $\\beta_1$ de forma que $p_0(x),p_1(x)$ e $p_2(x)$\n",
        "sejam ortogonais. Como $<p_0,p_1> = 0$, temos,\n",
        "\n",
        "$$ \\int_0^1 1(\\alpha_0 + x)dx =\\alpha_0 x|_0^1 + \\dfrac{x^2}{2}|_0^1 =\\alpha_0 +\\dfrac{1}{2} = 0 \\Longrightarrow \\alpha_0 = -\\dfrac{1}{2}.$$\n",
        "\n",
        "Porttanto, $\\displaystyle{p_1(x) = x - \\dfrac{1}{2}}$. Como $<p_0,p_2> = 0$ e $<p_1,p_2>=0$, obtemos,\n",
        "\n",
        "$$\\int_0^1 1(\\beta_0+\\beta_1 x+ x^2)dx = \\beta_0 x|_0^1 + \\beta_1\\dfrac{x^2}{2}|_0^1 + \\dfrac{x^3}{3}|_0^1 = \\beta_0 + \\dfrac{\\beta_1}{2} + \\dfrac{1}{3} = 0,$$\n",
        "\n",
        "$$\\int_0^1 (x-\\dfrac{1}{2})(\\beta_0+\\beta_1 x+ x^2)dx = \\beta_0(\\dfrac{x^2}{2}|_0^1 - \\dfrac{x}{2}|_0^1) + \\beta_1(\\dfrac{x^3}{3}|_0^1  - \\dfrac{x^2}{4}|_0^1) + \\dfrac{x^4}{4}|_0^1 - \\dfrac{x^3}{6}|_0^1 = \\dfrac{\\beta_1}{12} + \\dfrac{1}{12} = 0.$$\n",
        "\n",
        "Dessa forma, $\\beta_1 = -1$ e $\\beta_0 = 1/6$ e os polinômios $p_0(x)=1$, $p_1(x)=x-1/2$ e $p_2(x) = x^2-x+1/6$ são ortogonais.\n",
        "Portanto, ao usarmos esta família de polinômios para aproximar $f(x)$, vamos obter um sistema diagonal,\n",
        "\n",
        "$$\\left(\n",
        "  \\begin{array}{ccc}\n",
        "<p_0,p_0> & 0  &  0 \\\\\n",
        " 0 & <p_1,p_1> &  0 \\\\\n",
        "0 & 0 & <p_2,p_2>\n",
        "\\end{array}\\right)\\left(\\begin{array}{c}\n",
        "a_0\\\\\n",
        "a_1\\\\\n",
        "a_2\n",
        "\\end{array}\\right) = \\left(\\begin{array}{c}\n",
        "<f,p_0>\\\\\n",
        "<f,p_1> \\\\\n",
        "<f,p_2>\n",
        "\\end{array}\\right)$$\n",
        "\n",
        "e a solução do sistema será:\n",
        "\n",
        "$$a_0=\\dfrac{\\int_0^1e^xdx}{\\int_0^1 dx} = e - 1,$$\n",
        "\n",
        "$$a_1 = \\dfrac{\\int_0^1e^x(x-1/2)dx}{\\int_0^1(x-1/2)^2 dx} = 6(3-e),$$\n",
        "\n",
        "$$a_2=\\dfrac{\\int_0^1e^x(x^2-1+1/6)dx}{\\int_0^1 (x^2-1+1/6)^2dx} = 30(7e-19).$$\n",
        "\n",
        "Assim, $g(x) = (e-1) + 6(3-e)(x-1/2) + 30(7e-19)(x^2-1+1/6).$"
      ]
    },
    {
      "cell_type": "code",
      "execution_count": 4,
      "metadata": {
        "id": "bPsvZHRV42HD",
        "outputId": "9194203c-9b34-4036-cdfb-548319c0bda1",
        "colab": {
          "base_uri": "https://localhost:8080/",
          "height": 449
        }
      },
      "outputs": [
        {
          "output_type": "display_data",
          "data": {
            "text/plain": [
              "<Figure size 640x480 with 1 Axes>"
            ],
            "image/png": "[encoded data removed]"
          },
          "metadata": {}
        }
      ],
      "source": [
        "#Gráficos da Aproximação da exponencial usando polinômios ortogonais\n",
        "import matplotlib.pyplot as plt\n",
        "import numpy as np\n",
        "\n",
        "def f(x):\n",
        "  return np.exp(x)\n",
        "\n",
        "def p1(x):\n",
        "  return 1\n",
        "\n",
        "def p2(x):\n",
        "  return x - 0.5\n",
        "\n",
        "def p3(x):\n",
        "  return x*x - x + 1/6\n",
        "\n",
        "def g(x):\n",
        "  e = np.exp(1)\n",
        "  a1 = e - 1\n",
        "  a2 = 6*(3 - e)\n",
        "  a3 = 30*(7*e - 19)\n",
        "  g = a1*p1(x) + a2*p2(x) + a3*p3(x)\n",
        "  return g\n",
        "\n",
        "x = np.linspace(0,1,20)\n",
        "y = f(x)\n",
        "ya = g(x)\n",
        "\n",
        "plt.figure(1)\n",
        "plt.plot(x, y, '-', label='f(x)')\n",
        "plt.plot(x, ya, '-.', label='Ajuste')\n",
        "plt.xlabel(\"x\")\n",
        "plt.ylabel(\"y\")\n",
        "plt.legend()\n",
        "plt.show()\n"
      ]
    },
    {
      "cell_type": "markdown",
      "metadata": {
        "id": "QEx4S1O-Jk1b"
      },
      "source": [
        "Exercícios:\n",
        "\n",
        "1. Aproxime a tabela de dados usando MMQ:\n",
        "\n",
        "$$\\begin{array}{c|ccccc}\n",
        "x_i & -2 & -1 & 1 & 2\\\\\n",
        "\\hline\n",
        "y_i & 1 & -3 & 1 & 9 \\\\\n",
        "\\end{array}$$\n",
        "\n",
        "com as funções aproximadoras $g(x) = a_0 x + a_1x^2$ e $h(x)=a_0 + a_1x^2$. Qual função oferece a melhor aproximação?\n",
        "\n",
        "2. Aproxime a função $f(x)=3-x$ por $g(x)=a_1+a_2\\dfrac{1}{x}$, usando MMQ, no intervalo $[1,2]$."
      ]
    },
    {
      "cell_type": "code",
      "execution_count": null,
      "metadata": {
        "id": "GcxdbOhFU0RE"
      },
      "outputs": [],
      "source": [
        "#Execício 1:"
      ]
    },
    {
      "cell_type": "code",
      "execution_count": null,
      "metadata": {
        "id": "je9vWMcQU28G"
      },
      "outputs": [],
      "source": [
        "#Exercício 2:"
      ]
    },
    {
      "cell_type": "markdown",
      "metadata": {
        "id": "3vFUgFqfU5-s"
      },
      "source": [
        "**Análise Harmônica / Aproximação de Fourier**:\n",
        "\n",
        "Quando a função é periódica é conveniente também usarmos funções periódicas de mesmo período para aproximá-la.\n",
        "\n",
        "(a) Domínio contínuo:\n",
        "\n",
        "Uma função periódica de período T, satisfaz $f(x+T)=f(x)$. Exemplos: $\\sin(x)$ e $\\cos(x)$ são funções periódicas com $T=2\\pi$.\n",
        "\n",
        "Nesse caso, vamos considerar a função aproximadora:\n",
        "\n",
        "$$g(x)=a_0+\\sum_{k=1}^n[a_k\\cos(k x)+b_k\\sin(k x)]$$\n",
        "\n",
        "Assim, nosso problema de mínimos quadrado é determinar os parâmetros $a_k$ e $b_k$ que minimizem a função\n",
        "$$\\int_0^{2\\pi}[f(x)-g(x)]^2dx.$$\n",
        "\n",
        "As funções $1,\\cos(x),\\cos(2x),\\ldots,\\cos(n x),\\sin(x),\\sin(2x),\\ldots,\\sin(nx)$ são ortogonais em relação ao produto interno:\n",
        "$$<f,g> = \\int_c^{c+2\\pi}f(x)g(x)dx.$$\n",
        "\n",
        "Portanto, o sistema norma obtido pelo MMQ, resulta em uma matriz diagonal e os coeficientes são dados por:\n",
        "\n",
        "$$a_0 = \\dfrac{<f,1>}{<1,1>} \\Longrightarrow a_0=\\dfrac{1}{2\\pi}\\int_0^{2\\pi}f(x)dx$$\n",
        "\n",
        "$$a_k = \\dfrac{<f,\\cos(k x)>}{<\\cos(k x),\\cos(k x)>} \\Longrightarrow a_k=\\dfrac{1}{\\pi}\\int_0^{2\\pi}f(x)\\cos(k x)dx$$\n",
        "\n",
        "$$b_k = \\dfrac{<f,\\sin(k x)>}{<\\sin(k x),\\sin(k x)>} \\Longrightarrow b_k=\\dfrac{1}{\\pi}\\int_0^{2\\pi}f(x)\\sin(k x)dx$$\n",
        "\n",
        "*Exemplo 5:*\n",
        "\n",
        "Fazer a análise harmônica da função $f(t)$ periódica de periodo $T=2$, até o harmônico de terceira ordem.\n",
        "\n",
        "$$f(t) = \\begin{cases}\n",
        "1, \\mbox{ se } t\\in[0,1],\\\\\n",
        "-1, \\mbox{ se } t\\in[1,2]\n",
        "\\end{cases}$$\n",
        "\n",
        "O primeiro fato a ser observado é que o período de $f$ é diferente do período $2\\pi$. Assim, precisamos fazer uma mudança de variável,\n",
        "$$t(x) = \\dfrac{T}{2\\pi}x.$$\n",
        "\n",
        "Segundo fato, a função $f(t)$ é ímpar.\n",
        "\n",
        "**Obs.** Resolução em sala!"
      ]
    },
    {
      "cell_type": "code",
      "execution_count": 5,
      "metadata": {
        "id": "CJneNUXaDmVU",
        "outputId": "4feb1db6-d669-4454-bba4-f72304eec712",
        "colab": {
          "base_uri": "https://localhost:8080/",
          "height": 449
        }
      },
      "outputs": [
        {
          "output_type": "display_data",
          "data": {
            "text/plain": [
              "<Figure size 640x480 with 1 Axes>"
            ],
            "image/png": "[encoded data removed]"
          },
          "metadata": {}
        }
      ],
      "source": [
        "#Gráficos da análise de Fourier feita em aula\n",
        "import numpy as np\n",
        "\n",
        "def f(x):\n",
        "    y = 1\n",
        "    if(x > 1):\n",
        "        y = -1\n",
        "    return y\n",
        "\n",
        "#Até o terceiro harmônico\n",
        "def g(x):\n",
        "    g = (4/np.pi)*np.sin(np.pi*x) + (4/(3*np.pi))*np.sin(3*np.pi*x)\n",
        "    return g\n",
        "\n",
        "def gf(x, n):\n",
        "    soma = 0\n",
        "    for i in range(n):\n",
        "        g = 4/((2*i+1)*np.pi)*np.sin((2*i+1)*np.pi*x)\n",
        "        soma += g\n",
        "    return soma\n",
        "\n",
        "x = np.linspace(0,2,51)\n",
        "y = []\n",
        "for i in range(len(x)):\n",
        "    z = f(x[i])\n",
        "    y.append(z)\n",
        "ya = g(x)\n",
        "ys = gf(x, 20)\n",
        "\n",
        "plt.figure(1)\n",
        "plt.plot(x, y, '.', label='f(x)')\n",
        "plt.plot(x, ya, '-.', label='Ajuste')\n",
        "plt.plot(x, ys, '-.', label='Fourier')\n",
        "plt.xlabel(\"x\")\n",
        "plt.ylabel(\"y\")\n",
        "plt.legend()\n",
        "plt.show()\n",
        "\n"
      ]
    },
    {
      "cell_type": "markdown",
      "metadata": {
        "id": "L8PHbG34Dxhf"
      },
      "source": [
        "(b) Domínio discreto:\n",
        "\n",
        "As funções $1,\\cos(x),\\cos(2x),\\ldots,\\cos(Nx),\\sin(x),\\sin(2x),\\ldots,\\sin(Nx)$ são ortogonais em relação ao produto escalar $\\displaystyle{<f,g> = \\sum_{j=1}^{2N}f(x_j)g(x_j)}$,sobre o conjunto de pontos $\\displaystyle{x_j=\\dfrac{\\pi j}{N},j=1,2,\\ldots,2N}$. Desta forma, se $f$ é tabelada em $2N$ pontos equidistantes podemos aproximá-la pela a função aproximadora:\n",
        "\n",
        "$$g(x)=a_0+\\sum_{k=1}^n[a_k\\cos(k x)+b_k\\sin(k x)].$$\n",
        "Usando o MMQ para determinar os coeficientes $a_k$ e $b_k$, obtemos um sistema diagonal, com a solução dada por:\n",
        "\n",
        "$$a_0 = \\dfrac{<f,1>}{<1,1>} \\Longrightarrow a_0=\\dfrac{1}{2N}\\sum_{j=1}^{2N}f(x_j)$$\n",
        "\n",
        "$$a_k = \\dfrac{<f,\\cos(k x)>}{<\\cos(k x),\\cos(k x)>} \\Longrightarrow a_k=\\dfrac{1}{N}\\sum_{j=1}^{2N}f(x_j)\\cos(k \\frac{\\pi}{N}j), \\mbox{ com } 1\\le k < N,$$\n",
        "\n",
        "$$b_k = \\dfrac{<f,\\sin(k x)>}{<\\sin(k x),\\sin(k x)>} \\Longrightarrow b_k=\\dfrac{1}{N}\\sum_{j=1}^{2N}f(x_j)\\sin(k \\frac{\\pi}{N}j), \\mbox{ com } 1\\le k < N$$\n",
        "\n",
        "$$a_N = \\dfrac{<f,\\cos(N x)>}{<\\cos(N x),\\cos(N x)>} \\Longrightarrow a_N=\\dfrac{1}{2N}\\sum_{j=1}^{2N}f(x_j)\\cos(\\pi j).$$\n",
        "\n",
        "*Exemplo 6:*\n",
        "\n",
        "Fazer a análise harmônica, até o primeiro harmônico da função tabelada.\n",
        "\n",
        "$$\\begin{array}{c|c|c|c|c}\n",
        "j & 1 & 2 & 3 & 4 \\\\\n",
        "\\hline\n",
        "f(x_j) & 3 & 5 & 7 & 6\\\\\n",
        "\\end{array}$$\n",
        "\n",
        "Ou seja, determinar a aproximação $g(x) = a_0 + a_1\\cos(x) + b_1\\sin(x)$ via MMQ.\n",
        "\n",
        "*Solução:*\n",
        "\n",
        "Nesse caso, temos $2N = 4$, portanto $N=2$ e os coeficientes são dados por:\n",
        "\n",
        "$$a_0 = \\dfrac{\\sum_{j=1}^4f(x_j)}{4}=\\dfrac{21}{4},$$\n",
        "\n",
        "$$a_1 = \\dfrac{1}{2}[3\\cos(\\dfrac{\\pi}{2})+5\\cos(\\dfrac{2\\pi}{2})+7\\cos(\\dfrac{3\\pi}{2})+6\\cos(\\dfrac{4\\pi}{2})]=\\dfrac{1}{2},$$\n",
        "\n",
        "$$b_1 = \\dfrac{1}{2}[3\\sin(\\dfrac{\\pi}{2})+5\\sin(\\dfrac{2\\pi}{2})+7\\sin(\\dfrac{3\\pi}{2})+6\\sin(\\dfrac{4\\pi}{2})]=-2,$$\n"
      ]
    },
    {
      "cell_type": "code",
      "execution_count": null,
      "metadata": {
        "id": "EXcqnBwnNiMF"
      },
      "outputs": [],
      "source": [
        "import numpy as np\n",
        "\n",
        "def g(a, x):\n",
        "    return a[0] + a[1]*np.cos(x) + a[2]*np.sin(x)\n",
        "\n",
        "j = [1, 2, 3, 4]\n",
        "fj = [3, 5, 7, 6]\n",
        "m = len(fj)\n",
        "n = m//2\n",
        "\n",
        "x = []\n",
        "soma = 0\n",
        "for i in range(m):\n",
        "    soma += fj[i]\n",
        "    x.append((i+1)*np.pi/2)\n",
        "\n",
        "a0 = soma/m\n",
        "a1 = 0\n",
        "b1 = 0\n",
        "for i in range(m):\n",
        "    a1 += fj[i]*np.cos((i+1)*np.pi/n)\n",
        "    b1 += fj[i]*np.sin((i+1)*np.pi/n)\n",
        "a1 = a1/2\n",
        "b1 = b1/2\n",
        "\n",
        "a = [a0, a1, b1]\n",
        "print(a)\n",
        "\n",
        "xc = np.linspace(0,2*np.pi,51)\n",
        "yc = g(a, xc)\n",
        "\n",
        "plt.figure(1)\n",
        "plt.plot(x, fj, 'o', label='Experimento')\n",
        "plt.plot(xc, yc, label='Ajuste')\n",
        "plt.xlabel(\"x\")\n",
        "plt.ylabel(\"f\")\n",
        "plt.legend('')\n",
        "plt.show()\n",
        "\n"
      ]
    },
    {
      "cell_type": "markdown",
      "metadata": {
        "id": "Cq9l-68LPjxY"
      },
      "source": [
        "**Mínimos Quadrados não lineares**\n",
        "\n",
        "As funções usadas na apsoximação são não lineares nos parâmetros.\n",
        "\n",
        "Por exemplo, funções racionais, hiperbólicas, exponenciais, como,\n",
        "\n",
        "$$g(x) = a_1\\exp(-\\dfrac{(a_2-x)^2}{a_3})+a_4\\exp(-\\dfrac{(a_5-x)^2}{a_6}).$$\n",
        "\n",
        "A ideia continua a mesma, minimizar a soma dos quadrados dos resíduos. A diferença é que podemos ter dois caminhos:\n",
        "\n",
        "\n",
        "*   Se for possível, podemos lienarizar a função aproximadora, resolver o problema linear e depois retornar aos parâmetros originais.\n",
        "*  Resolver um sistema não linear.\n",
        "\n",
        "*Exemplo 7:*\n",
        "\n",
        "1.  Como fazer para aproximar uma função $f$ por uma função $g(x) = a_0\\exp(-{a_1x})$?\n",
        "\n",
        "Note que aplicando $\\ln$ em ambos os lados, $g(x) = a_0\\exp(-a_1 x) \\Longrightarrow \\ln(g(x)) = \\ln(a_0) - a_1x$. Fazendo $\\alpha_0=\\ln(a_0)$ e $\\alpha_1= - a_1$ temos um problema linear, um ajuste por uma reta, $\\ln(y)\\approx \\alpha_0 + \\alpha_1x$. Obtidos $\\alpha_0$ e $\\alpha_1$ usamos a transformação para obter $a_0$ e $a_1$.\n",
        "\n",
        "**Obs.** Resolução  em sala!\n",
        "\n",
        "\n"
      ]
    },
    {
      "cell_type": "code",
      "execution_count": 6,
      "metadata": {
        "id": "iK1OegAWUjED",
        "outputId": "00ab026a-0ca8-4e34-cb26-d886e17a612b",
        "colab": {
          "base_uri": "https://localhost:8080/",
          "height": 968
        }
      },
      "outputs": [
        {
          "output_type": "stream",
          "name": "stdout",
          "text": [
            "[[8.   0.3 ]\n",
            " [0.3  3.59]]\n",
            "[ 8.03863399 -8.64613682]\n",
            "[ 1.09858669 -2.50019856]\n",
            "resíduo =  1.2940853773085555e-06\n"
          ]
        },
        {
          "output_type": "display_data",
          "data": {
            "text/plain": [
              "<Figure size 640x480 with 1 Axes>"
            ],
            "image/png": "[encoded data removed]"
          },
          "metadata": {}
        },
        {
          "output_type": "display_data",
          "data": {
            "text/plain": [
              "<Figure size 640x480 with 1 Axes>"
            ],
            "image/png": "[encoded data removed]"
          },
          "metadata": {}
        }
      ],
      "source": [
        "import matplotlib.pyplot as plt\n",
        "import numpy as np\n",
        "from numpy import linalg as LA\n",
        "\n",
        "# Exemplo de MMQ não linear usando a técnica de linearização\n",
        "\n",
        "def fnlinear(x, a):\n",
        "    y = a[0]*np.exp(-a[1]*x)\n",
        "    return y\n",
        "\n",
        "def flinear(x, a):\n",
        "    y = a[0] + a[1]*x\n",
        "    return y\n",
        "\n",
        "def rlinear(a, x, y):\n",
        "    return flinear(x, a) - y\n",
        "\n",
        "#Exemplo\n",
        "x = np.array([-1, -0.7, -0.4, -0.1, 0.2, 0.5, 0.8, 1])\n",
        "y = np.array([36.547, 17.264, 8.155, 3.852, 1.82, 0.86, 0.406, 0.246])\n",
        "z = np.log(y)\n",
        "\n",
        "m = len(x)\n",
        "\n",
        "#Sistema para o ajuste por reta\n",
        "A = np.zeros((2,2))\n",
        "b = np.zeros(2)\n",
        "\n",
        "a0 = a1 = a2 = b1 = b2 = 0\n",
        "\n",
        "for i in range(m):\n",
        "  a0 += 1\n",
        "  a1 += x[i]\n",
        "  a2 += x[i]**2\n",
        "  b1 += z[i]\n",
        "  b2 += x[i]*z[i]\n",
        "A[0,0] = a0\n",
        "A[1,0] = a1\n",
        "A[0,1] = a1\n",
        "A[1,1] = a2\n",
        "b[0] = b1\n",
        "b[1] = b2\n",
        "print(A)\n",
        "print(b)\n",
        "a = np.linalg.solve(A, b)\n",
        "print(a)\n",
        "res = 0\n",
        "for i in range(m):\n",
        "   res += (rlinear(a, x[i], z[i])**2)\n",
        "print(\"resíduo = \", res)\n",
        "alpha = [np.exp(a[0]), -a[1]]\n",
        "\n",
        "xc = np.linspace(x[0], x[m-1], 30)\n",
        "zc = flinear(xc, a)\n",
        "yc = fnlinear(xc, alpha)\n",
        "\n",
        "plt.figure(1)\n",
        "plt.plot(x, z, 'o', label='Experimento')\n",
        "plt.plot(xc, zc, label='Ajuste')\n",
        "plt.xlabel(\"x\")\n",
        "plt.ylabel(\"z\")\n",
        "plt.legend('')\n",
        "plt.show()\n",
        "\n",
        "plt.figure(2)\n",
        "plt.plot(x, y, 'o', label='Experimento')\n",
        "plt.plot(xc, yc, label='Ajuste')\n",
        "plt.xlabel(\"x\")\n",
        "plt.ylabel(\"z\")\n",
        "plt.legend('')\n",
        "plt.show()"
      ]
    },
    {
      "cell_type": "markdown",
      "metadata": {
        "id": "HtFINYumUjuU"
      },
      "source": [
        "Algumas outras transformações que podem auxiliar no processo de linearização:\n",
        "\n",
        "1.   $$y=\\dfrac{1}{a_1+a_2x}\\Longrightarrow \\mbox{ Se } y \\neq 0, \\dfrac{1}{y} = a_1 + a_2 x,$$\n",
        "2.   $$y=a_1a_2^x\\Longrightarrow \\mbox{ Se } y> 0, \\ln(y) = \\ln(a_1) + \\ln(a_2) x$$\n",
        "3.   $$y=a_1x^{a_2} \\Longrightarrow \\mbox{ Se } x>0 \\mbox{ e } y>0, \\ln(y) = \\ln(a_1) + a_2 \\ln(x)$$\n",
        "\n",
        "A seguir um exemplo, de MMQ não linear com a resolução de um sistema não linear.\n",
        "\n",
        "**Exemplo: **\n",
        "\n",
        "Vamos aproximar os dados do exemplo anterior pela função,\n",
        "$$ f(x,{\\bf a})= a_0\\exp(-a_1).$$\n",
        "\n",
        "Nosso objetivo, obter os parâmetros por meio do método dos mínimos quadrados, que minimizam a função,\n",
        "\n",
        "$$  r({\\bf a}) = \\dfrac{1}{2}\\sum_{i=1}^n r_i({\\bf a})^2,$$\n",
        "\n",
        "sendo o resíduo $r_i({\\bf a}) = f(x_i,{\\bf a}) - y_i$, com $(x_i,y_i)$ dados e $n$ o tamanho dos vetores $x$ e $y$.\n",
        "\n"
      ]
    },
    {
      "cell_type": "code",
      "execution_count": null,
      "metadata": {
        "id": "N-08PRYqVzFn"
      },
      "outputs": [],
      "source": [
        "import matplotlib.pyplot as plt\n",
        "import numpy as np\n"
      ]
    },
    {
      "cell_type": "code",
      "execution_count": null,
      "metadata": {
        "id": "726F36so1smo"
      },
      "outputs": [],
      "source": []
    },
    {
      "cell_type": "code",
      "execution_count": null,
      "metadata": {
        "id": "AgyvI4XB1smo"
      },
      "outputs": [],
      "source": []
    }
  ],
  "metadata": {
    "colab": {
      "provenance": [],
      "include_colab_link": true
    },
    "kernelspec": {
      "display_name": "Python 3 (ipykernel)",
      "language": "python",
      "name": "python3"
    },
    "language_info": {
      "codemirror_mode": {
        "name": "ipython",
        "version": 3
      },
      "file_extension": ".py",
      "mimetype": "text/x-python",
      "name": "python",
      "nbconvert_exporter": "python",
      "pygments_lexer": "ipython3",
      "version": "3.10.12"
    }
  },
  "nbformat": 4,
  "nbformat_minor": 0
}