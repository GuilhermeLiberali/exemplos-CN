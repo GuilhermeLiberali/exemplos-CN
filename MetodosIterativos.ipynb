{
  "nbformat": 4,
  "nbformat_minor": 0,
  "metadata": {
    "colab": {
      "provenance": [],
      "authorship_tag": "ABX9TyPPFTy1in5ChgO8jSArS9Ou",
      "include_colab_link": true
    },
    "kernelspec": {
      "name": "python3",
      "display_name": "Python 3"
    },
    "language_info": {
      "name": "python"
    }
  },
  "cells": [
    {
      "cell_type": "markdown",
      "metadata": {
        "id": "view-in-github",
        "colab_type": "text"
      },
      "source": [
        "<a href=\"https://colab.research.google.com/github/pccalegari/exemplos-CN/blob/main/MetodosIterativos.ipynb\" target=\"_parent\"><img src=\"https://colab.research.google.com/assets/colab-badge.svg\" alt=\"Open In Colab\"/></a>"
      ]
    },
    {
      "cell_type": "markdown",
      "source": [
        "#Unidade 3 - Sistemas de equações - Métodos Iterativos\n",
        "\n",
        "**Exercício:**\n",
        "\n",
        "Implementar os três métodos estudados: Jacobi, Gauss-Seidel e SOR, para resolver o sistema tridiagonal dado por,\n",
        "\n",
        "$$\\begin{array}{cccccccc}\n",
        "2x_1 & - & x_2 & &  & = & 1\\\\\n",
        "-x_{i-1} & + & 2x_i & - & x_{i+1} & = & 0, & i=2,\\ldots,n-1\\\\\n",
        "& & -x_{n-1} & + & 2x_n & = & 1\n",
        "\\end{array}$$\n",
        "\n",
        "Teste o seu programa com diferentes valores de $n$. Por exemplo, $n=10, 20,\\ldots$\n",
        "\n",
        "**Jacobi**:\n",
        "\n",
        "$$\\begin{array}{cccccc}\n",
        "x_1^{k+1} & = & (1  +  x_2^k)/2 \\\\\n",
        "x_i^{k+1} & = & (x_{i-1}^k  +  x_{i+1}^k)/2, & i=2,\\ldots,n-1\\\\\n",
        "x_n^{k+1} & = & (1 + x_{n-1}^k)/2\n",
        "\\end{array}$$\n",
        "\n",
        "**Gauss-Seidel**:\n",
        "\n",
        "$$\\begin{array}{cccccc}\n",
        "x_1^{k+1} & = & (1  +  x_2^k)/2 \\\\\n",
        "x_i^{k+1} & = & (x_{i-1}^{k+1}  +  x_{i+1}^k)/2, & i=2,\\ldots,n-1\\\\\n",
        "x_n^{k+1} & = & (1 + x_{n-1}^{k+1})/2\n",
        "\\end{array}$$\n",
        "\n",
        "**SOR**:  com $w = 0.2j$ com $j=1,\\ldots,10$\n",
        "\n",
        "$$\\begin{array}{cccccc}\n",
        "x_1^{k+1} & = & (1-w)x_1^k + w(1  +  x_2^k)/2 \\\\\n",
        "x_i^{k+1} & = & (1-w)x_i^k + w(x_{i-1}^{k+1}  +  x_{i+1}^k)/2, & i=2,\\ldots,n-1\\\\\n",
        "x_n^{k+1} & = & (1-w)x_n^k + w(1 + x_{n-1}^{k+1})/2\n",
        "\\end{array}$$\n",
        "\n",
        "Não use matrizes nesta implementação. Use como aproximação inicial ${\\bf x}^0=(0,0,\\ldots,0).$ Compare os três métodos com tol $=10^{-4}$ e os critérios de parada:\n",
        "$$||x^{k+1}-x^k||=\\max_{1\\le i\\le n}|x^{k+1}_i -x^k_i|,$$\n",
        "$$r = b-Ax^{k+1}, ||r||= \\max_{1\\le i\\le n}|r_i|.$$  \n"
      ],
      "metadata": {
        "id": "Wp-w6nzL41n-"
      }
    },
    {
      "cell_type": "code",
      "source": [],
      "metadata": {
        "id": "spGH6-5cPZTP"
      },
      "execution_count": null,
      "outputs": []
    }
  ]
}