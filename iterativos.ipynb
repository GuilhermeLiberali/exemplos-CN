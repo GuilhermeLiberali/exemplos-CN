{
  "nbformat": 4,
  "nbformat_minor": 0,
  "metadata": {
    "colab": {
      "provenance": [],
      "authorship_tag": "ABX9TyPFl1RmIkJ8ostLPANR920p",
      "include_colab_link": true
    },
    "kernelspec": {
      "name": "python3",
      "display_name": "Python 3"
    },
    "language_info": {
      "name": "python"
    }
  },
  "cells": [
    {
      "cell_type": "markdown",
      "metadata": {
        "id": "view-in-github",
        "colab_type": "text"
      },
      "source": [
        "<a href=\"https://colab.research.google.com/github/pccalegari/exemplos-CN/blob/main/iterativos.ipynb\" target=\"_parent\"><img src=\"https://colab.research.google.com/assets/colab-badge.svg\" alt=\"Open In Colab\"/></a>"
      ]
    },
    {
      "cell_type": "markdown",
      "source": [
        "**Métodos Iterativos**\n",
        "\n"
      ],
      "metadata": {
        "id": "n_e42STvU2c3"
      }
    },
    {
      "cell_type": "code",
      "execution_count": 2,
      "metadata": {
        "id": "rVXui2o2U1EJ"
      },
      "outputs": [],
      "source": [
        "\n",
        "import numpy as np\n",
        "\n",
        "def maxresiduo(A,x,b):\n",
        "    r = b - A.dot(x)\n",
        "    rmax = max(abs(r))\n",
        "    return rmax\n",
        "\n",
        "def gauss_seidel(A, b, x0):\n",
        "    n = len(A[0])\n",
        "    print(\"Gauss-Seidel\")\n",
        "    tol = 10**(-6)\n",
        "    resmax = maxresiduo(A,x0,b)\n",
        "    kmax = 1000\n",
        "    k = 1\n",
        "\n",
        "    x = np.zeros(n)\n",
        "    while(resmax > tol and k < kmax):\n",
        "\n",
        "        for i in range(n):\n",
        "            somae = 0\n",
        "            for j in range(i+1,n):\n",
        "                somae += A[i][j]*x0[j]\n",
        "            somad = 0\n",
        "            for j in range(i):\n",
        "                somad += A[i][j]*x[j]\n",
        "            x[i] = (b[i] - somae - somad)/A[i][i]\n",
        "        x0 = x\n",
        "        resmax = maxresiduo(A,x,b)\n",
        "        print(k, resmax, x)\n",
        "        k += 1\n",
        "    return(x)"
      ]
    },
    {
      "cell_type": "code",
      "source": [
        "def sor(A, b, x0, w):\n",
        "    n = len(A[0])\n",
        "    print(\"SOR\")\n",
        "    tol = 10**(-6)\n",
        "    resmax = maxresiduo(A,x0,b)\n",
        "    kmax = 1000\n",
        "    k = 1\n",
        "\n",
        "    x = np.zeros(n)\n",
        "    while(resmax > tol and k < kmax):\n",
        "        for i in range(n):\n",
        "            somae = 0\n",
        "            for j in range(i+1,n):\n",
        "                somae += A[i][j]*x0[j]\n",
        "            somad = 0\n",
        "            for j in range(i):\n",
        "                somad += A[i][j]*x[j]\n",
        "            aux = w*(b[i] - somae - somad)/A[i][i]\n",
        "            x[i] = (1 - w)*x0[i] + aux\n",
        "        x0 = x\n",
        "        resmax = maxresiduo(A,x,b)\n",
        "        print(k, resmax, x)\n",
        "        k += 1\n",
        "    return(x)"
      ],
      "metadata": {
        "id": "CSmyQPnsVMCb"
      },
      "execution_count": 5,
      "outputs": []
    },
    {
      "cell_type": "code",
      "source": [
        "#Exercício\n",
        "def jacobi(A, x0, b):\n",
        "\n",
        "  return x"
      ],
      "metadata": {
        "id": "zarQig-BVU3r"
      },
      "execution_count": null,
      "outputs": []
    },
    {
      "cell_type": "code",
      "source": [
        " w = 1.25\n",
        "\n",
        " x0 = np.array([1,1,1])\n",
        " A = np.array([[4,3,0],[3,4,-1],[0,-1,4]])\n",
        " b = np.array([24,30,-24])\n",
        " xe = np.array([3,4,-5])\n",
        " xgs = gauss_seidel(A, b, x0)\n",
        " errogs = max(abs(xe-xgs))\n",
        " print(\"erro GS: \", errogs)\n",
        " #xj = jacobi(A, b, x0)\n",
        " #erroj = max(abs(xe-xj))\n",
        " #print(\"erro Jacobi: \", erroj)\n",
        " xw = sor(A, b, x0, w)\n",
        " errow = max(abs(xe-xw))\n",
        " print(\"erro sor: \", errow)"
      ],
      "metadata": {
        "id": "M0t3IOgpVf61"
      },
      "execution_count": null,
      "outputs": []
    }
  ]
}