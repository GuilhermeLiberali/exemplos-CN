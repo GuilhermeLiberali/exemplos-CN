{
  "nbformat": 4,
  "nbformat_minor": 0,
  "metadata": {
    "colab": {
      "name": "aulapratica1.ipynb",
      "provenance": [],
      "authorship_tag": "ABX9TyMEp7WWSj27xEckX2RgmIT8",
      "include_colab_link": true
    },
    "kernelspec": {
      "name": "python3",
      "display_name": "Python 3"
    },
    "language_info": {
      "name": "python"
    }
  },
  "cells": [
    {
      "cell_type": "markdown",
      "metadata": {
        "id": "view-in-github",
        "colab_type": "text"
      },
      "source": [
        "<a href=\"https://colab.research.google.com/github/pccalegari/exemplos-CN/blob/main/aulapratica1.ipynb\" target=\"_parent\"><img src=\"https://colab.research.google.com/assets/colab-badge.svg\" alt=\"Open In Colab\"/></a>"
      ]
    },
    {
      "cell_type": "markdown",
      "metadata": {
        "id": "UKiKfOoirL4I"
      },
      "source": [
        "Exercício 1 : Sequencia de Fibonacci"
      ]
    },
    {
      "cell_type": "code",
      "metadata": {
        "colab": {
          "base_uri": "https://localhost:8080/"
        },
        "id": "o504KK0a0nMU",
        "outputId": "d4d0d9fd-c94c-42c2-b247-d70d84f469bc"
      },
      "source": [
        "n = int(input())\n",
        "F1 = 1\n",
        "F2 = 1\n",
        "i = 2\n",
        "if(n < 3):\n",
        "  Fn = F2\n",
        "else:\n",
        "  while(i < n):\n",
        "    Fn = F1 + F2\n",
        "    F1 = F2\n",
        "    F2 = Fn\n",
        "    i += 1  # i = i + 1\n",
        "print(\"O n esimo termo de Fibonacci eh\", Fn)"
      ],
      "execution_count": 3,
      "outputs": [
        {
          "output_type": "stream",
          "name": "stdout",
          "text": [
            "3\n",
            "O n esimo termo de Fibonacci eh 2\n"
          ]
        }
      ]
    },
    {
      "cell_type": "markdown",
      "metadata": {
        "id": "_BktHm6xr27d"
      },
      "source": [
        "Exercício 2: Substituindo as componentes com valores negativos e nulos em um vetor."
      ]
    },
    {
      "cell_type": "code",
      "metadata": {
        "colab": {
          "base_uri": "https://localhost:8080/"
        },
        "id": "zx_Mimvu6xHr",
        "outputId": "fe724648-7b1d-48e8-eadd-119acd2ed36f"
      },
      "source": [
        "import numpy as np\n",
        "\n",
        "x = np.array([1,-4, 5, 3.1, -5.83, 0])\n",
        "\n",
        "n = len(x)\n",
        "\n",
        "for i in range(n):\n",
        "  if(x[i] <= 0):\n",
        "    x[i] = 1\n",
        "\n",
        "print(n, x)\n",
        "\n"
      ],
      "execution_count": 16,
      "outputs": [
        {
          "output_type": "stream",
          "name": "stdout",
          "text": [
            "6 [1.  1.  5.  3.1 1.  1. ]\n"
          ]
        }
      ]
    },
    {
      "cell_type": "markdown",
      "metadata": {
        "id": "f1JaWAmSsJiD"
      },
      "source": [
        "Exercício 3: Normas de um vetor\n"
      ]
    },
    {
      "cell_type": "code",
      "metadata": {
        "id": "9lSiyx0qwarB"
      },
      "source": [
        ""
      ],
      "execution_count": null,
      "outputs": []
    },
    {
      "cell_type": "markdown",
      "metadata": {
        "id": "Ke-bUnv-uv8_"
      },
      "source": [
        "Exercício 4: Aproximaçao da raiz quadrada de um número a > 0.\n"
      ]
    },
    {
      "cell_type": "code",
      "metadata": {
        "id": "STstcPh1CGuY"
      },
      "source": [
        "def f(x, a):\n",
        "  return(x**2 - a)"
      ],
      "execution_count": 22,
      "outputs": []
    },
    {
      "cell_type": "code",
      "metadata": {
        "colab": {
          "base_uri": "https://localhost:8080/"
        },
        "id": "-fthTbovABPb",
        "outputId": "2da8b21d-f7ed-4783-ed08-6ef4660cd587"
      },
      "source": [
        "a = float(input())\n",
        "\n",
        "x = a/2.0\n",
        "\n",
        "tol = 1.0e-10\n",
        "it = 1\n",
        "itmax = 1000\n",
        "while(it < itmax and abs(f(x,a)) > tol):\n",
        "  x = 0.5*(x + a/x)\n",
        "  it = it + 1\n",
        "  print(it, x, abs(x - np.sqrt(a)))\n"
      ],
      "execution_count": 26,
      "outputs": [
        {
          "output_type": "stream",
          "name": "stdout",
          "text": [
            "3\n",
            "2 1.75 0.017949192431122807\n",
            "3 1.7321428571428572 9.204957398001312e-05\n",
            "4 1.7320508100147274 2.44585018904786e-09\n",
            "5 1.7320508075688772 0.0\n"
          ]
        }
      ]
    }
  ]
}