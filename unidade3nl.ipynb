{
  "nbformat": 4,
  "nbformat_minor": 0,
  "metadata": {
    "colab": {
      "name": "unidade3nl.ipynb",
      "provenance": [],
      "collapsed_sections": [],
      "toc_visible": true,
      "authorship_tag": "ABX9TyP+yryT8sB35lu44IhQDBa0",
      "include_colab_link": true
    },
    "kernelspec": {
      "name": "python3",
      "display_name": "Python 3"
    },
    "language_info": {
      "name": "python"
    }
  },
  "cells": [
    {
      "cell_type": "markdown",
      "metadata": {
        "id": "view-in-github",
        "colab_type": "text"
      },
      "source": [
        "<a href=\"https://colab.research.google.com/github/pccalegari/exemplos-CN/blob/main/unidade3nl.ipynb\" target=\"_parent\"><img src=\"https://colab.research.google.com/assets/colab-badge.svg\" alt=\"Open In Colab\"/></a>"
      ]
    },
    {
      "cell_type": "markdown",
      "metadata": {
        "id": "rRH8GXuTqTjd"
      },
      "source": [
        "\n",
        "\n",
        "\n",
        "\n",
        "# Unidade 3 - Sistemas de equações não lineares\n",
        "\n",
        "\n"
      ]
    },
    {
      "cell_type": "markdown",
      "metadata": {
        "id": "SUHnaI9tH795"
      },
      "source": [
        "Vamos estudar métodos para sistemas de equações não lineares. A seguir, apresentamos um exemplo de resolução em *Python*. Vamos utilizar as bibliotecas [numpy](https://numpy.org/) e [scipy](https://scipy.github.io/devdocs/index.html)."
      ]
    },
    {
      "cell_type": "markdown",
      "metadata": {
        "id": "UseaF7aVI3NX"
      },
      "source": [
        "# Método de Newton"
      ]
    },
    {
      "cell_type": "markdown",
      "metadata": {
        "id": "YXR5d7XdrIdb"
      },
      "source": [
        "A cada iteração do método:    \n",
        "\n",
        "(a) Resolve um sistema linear: $J(x)s = F(x).$\n",
        "\n",
        "(b) atualiza a solução: $x^{(k+1)}=x^{(k)} - s$"
      ]
    },
    {
      "cell_type": "code",
      "metadata": {
        "id": "vxBp4dZS_PsP"
      },
      "source": [
        "import numpy as np\n",
        "import numpy.linalg as la"
      ],
      "execution_count": 4,
      "outputs": []
    },
    {
      "cell_type": "code",
      "source": [
        "def f(xvet):\n",
        "  x,y = xvet\n",
        "  fv = np.array([2*x**3-y**2-1, x*y**3-y-4])\n",
        "  return fv\n",
        "\n",
        "def Jf(xvet):\n",
        "  x,y = xvet\n",
        "  fp = np.array([[6*x**2, -2*y],[y**3, 3*x*y**2-1]])\n",
        "  return fp\n"
      ],
      "metadata": {
        "id": "wASG4S1KrU8y"
      },
      "execution_count": 5,
      "outputs": []
    },
    {
      "cell_type": "code",
      "source": [
        "xa = np.array([2, 3])\n",
        "tol = 1.0e-8\n",
        "diff = 1\n",
        "it = 1\n",
        "itmax = 1000\n",
        "\n",
        "while(diff > tol and it < itmax):\n",
        "  \n",
        "  x = xa - la.solve(Jf(xa), f(xa))\n",
        "  diff = la.norm(x-xa, np.inf)\n",
        "  xa = x\n",
        "  it += 1\n",
        "#Numero de iteracoes, diferenca entre duas iteracoes e valor aproximado\n",
        "print(it, diff, x)\n",
        "\n",
        "#Verifica de F(x) é aproximadamente zero\n",
        "print(f(x))\n"
      ],
      "metadata": {
        "colab": {
          "base_uri": "https://localhost:8080/"
        },
        "id": "mop-xh_Gu5Zt",
        "outputId": "8b92e952-4e02-4452-96c8-18733e6f6323"
      },
      "execution_count": 9,
      "outputs": [
        {
          "output_type": "stream",
          "name": "stdout",
          "text": [
            "8 1.9662049766111522e-12 [1.23427448 1.66152647]\n",
            "[-8.8817842e-16  0.0000000e+00]\n"
          ]
        }
      ]
    }
  ]
}