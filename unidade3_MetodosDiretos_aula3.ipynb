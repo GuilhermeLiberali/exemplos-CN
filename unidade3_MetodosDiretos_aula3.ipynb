{
  "nbformat": 4,
  "nbformat_minor": 0,
  "metadata": {
    "colab": {
      "provenance": [],
      "authorship_tag": "ABX9TyN+jRwA71iVr4HiSpPf8EYh",
      "include_colab_link": true
    },
    "kernelspec": {
      "name": "python3",
      "display_name": "Python 3"
    },
    "language_info": {
      "name": "python"
    }
  },
  "cells": [
    {
      "cell_type": "markdown",
      "metadata": {
        "id": "view-in-github",
        "colab_type": "text"
      },
      "source": [
        "<a href=\"https://colab.research.google.com/github/pccalegari/exemplos-CN/blob/main/unidade3_MetodosDiretos_aula3.ipynb\" target=\"_parent\"><img src=\"https://colab.research.google.com/assets/colab-badge.svg\" alt=\"Open In Colab\"/></a>"
      ]
    },
    {
      "cell_type": "markdown",
      "source": [
        "#Unidade 3 - Sistemas de equações\n",
        "\n",
        "Já estudamos os métodos da substituição direta e inversa para sistemas triangulares. Além disso, estudamos o método de Eliminação de Gauss e a decomposição LU de uma matriz.\n",
        "\n",
        "Agora, vamos estudar o método de Eliminação de Gauss para uma matriz tridiagonal (exemplo de matriz esparsa) e a aplicação da decomposição LU na técnica de refinamento de solução.\n",
        "\n",
        "Uma matriz é **esparsa** quando a maior parte dos elementos da matriz são nulos. Por exemplo,\n",
        "\n",
        "$\\displaystyle{E=\\left(\\begin{array}{ccccccccc}\n",
        "1 & 0 & 0 & 0 & 5 & 0 & 0 & 1 & 0 \\\\\n",
        "2 & 1 & 0 & 0 & 0 & 0 & 1 & 0 & 2 \\\\\n",
        "4 & 0 & 1 & 1 & 0 & 0 & 0 & 0 & 1\\\\\n",
        "0 & 0 & 0 & 0 & 0 & 0 & 2 & 4 & 2\\\\\n",
        "1 & 0 & 0 & 0 & 5 & 0 & 0 & 1 & 0 \\\\\n",
        "3 & 1 & 0 & 0 & 0 & 0 & 1 & 0 & 2 \\\\\n",
        "0 & 0 & 1 & 3 & 0 & 0 & 0 & 0 & -1\\\\\n",
        "0 & 0 & 0 & 0 & 0 & 0 & 0 & 3 & 0\\\\\n",
        "1 & 8 & 0 & 0 & 1 & 6 & 7 & 0 & 0\n",
        "\\end{array}\\right )}$\n",
        "\n",
        "Se além de esparsa, a matriz concentra os elementos na diagonal, ela é chamada matriz de banda.\n",
        "\n",
        "Uma matriz $A$ é de banda $p+q+1$, se $a_{ij}=0$ para $i > j+q$ e $i < j - p$. Por exemplo, as matriz tridiagonais possuem $p = q = 1.\n",
        "\n",
        "\n",
        "$\\displaystyle{A=\\left(\\begin{array}{ccccc}\n",
        "d_1 & c_1 &  &  & \\\\\n",
        "a_2 & d_2 & c_2 & & \\\\\n",
        " &  \\ddots & \\ddots & \\ddots & \\\\\n",
        "  &  & a_{n-1} & d_{n-1} & c_{n-1} \\\\\n",
        "  & & & a_n & d_n\\\\\n",
        "\\end{array}\\right )}$\n",
        "\n",
        "Supondo que queremos resolver um sistema linear tridiagonal, usando o método de Eliminação de Gauss, precisamos aproveitar a estrutura de esparsidade da matriz.\n",
        "\n",
        "$\\displaystyle{\\left(\\begin{array}{ccccc|c}\n",
        "d_1 & c_1 & 0 & 0 & 0 & b_1\\\\\n",
        "a_2 & d_2 & c_2 & 0 & 0 & b_2 \\\\\n",
        " &  \\ddots & \\ddots & \\ddots & &\\vdots \\\\\n",
        "0  & 0 & a_{n-1} & d_{n-1} & c_{n-1} & b_{n-1} \\\\\n",
        "0  & 0 & 0 & a_n & d_n & b_n\\\\\n",
        "\\end{array}\\right )}$\n",
        "\n",
        "**Algoritmo:** Eliminação de Gauss - matriz tridiagonal\n",
        "\n",
        "Dados $A$ tridiagonal, armazenada em três vetores ${\\bf a}$, ${\\bf c}$ e ${\\bf d}$ e $b$ (lado direito do sistema linear).\n",
        "\n",
        "1. Para $i = 1$ até $n-1$\n",
        "2. $\\hspace{1pc} m_{i+1} = \\dfrac{a_{i+1}}{d_i}$\n",
        "3. $\\hspace{1pc}$ $d_{i+1} = d_{i+1} - m_{i+1}c_i$\n",
        "4. $\\hspace{1pc}$ $b_{i+1} = b_{i+1} - m_{i+1}b_i$\n",
        "5. fim para\n",
        "6. $x_n = \\dfrac{b_n}{d_n}$\n",
        "7. Para $i = n-1$ até $1$\n",
        "8. $\\hspace{1pc}$  $x_i = \\dfrac{b_i - c_ix_{i+1}}{d_i}$\n",
        "9. fim para\n",
        "\n",
        "*Exemplo 1.*\n",
        "\n",
        "Use o método de Eliminação de Gauss, para resolver os sistema tridiagonal.\n",
        "\n",
        "$\\displaystyle{\\left\\{\\begin{array}{ccccccccc}\n",
        "3x_1 & - & x_2 &  &  &  &  &= & 2 \\\\\n",
        "-x_1  & + & 2x_2 & - & x_3 &  &  & = & 0 \\\\\n",
        " &  & x_2 & + & 3x_3 & - & x_4& = & 3\\\\\n",
        " &  &  &  & x_3 & + & 3x_4 & =  & 4\\\\\n",
        "\\end{array}\\right .}$\n"
      ],
      "metadata": {
        "id": "Wp-w6nzL41n-"
      }
    },
    {
      "cell_type": "markdown",
      "source": [
        "**Refinamento de solução:**\n",
        "\n",
        "É uma técnica iterativa para melhorar a solução aproximada obtida pelo método de Eliminação de Gauss.\n",
        "\n",
        "Na utilização desta técnica vamos utilizar a decomposição LU, pois iremos resolver pelo menos mais um sistema linear com a mesma matriz de coeficientes $A$.\n",
        "\n",
        "Considere o sistema linear $A{\\bf x}= {\\bf b}$ e a solução aproximada $\\tilde{\\bf x}$ tal que ${\\bf x} = \\tilde{\\bf x}+{\\bf e}$.\n",
        "\n",
        "Assim obtemos,\n",
        "\n",
        "$$A{\\bf x} = {\\bf b} \\Longrightarrow A(\\tilde{\\bf x} + {\\bf e}) = {\\bf b}\\Longrightarrow A{\\bf e} = {\\bf b} - A\\tilde{\\bf x},$$\n",
        "\n",
        "${\\bf r} = {\\bf b} - A\\tilde{\\bf x}$ é o resíduo. Assim, definimos o **problema residual**:\n",
        "\n",
        "$$A{\\bf e} = {\\bf r},$$\n",
        "\n",
        "onde obtemos o erro ${\\bf e}$ e a nova solução aproximada é $\\tilde{\\tilde{\\bf x}} = \\tilde{\\bf x} + {\\bf e}$.\n",
        "\n",
        "O cálculo do resíduo deve ser feito com precisão dupla, já que estaremos trabalhando com números \"pequenos\".\n",
        "\n",
        "A técnica iterativa consiste em obter uma sequência de aproximações, a partir de ${\\bf x}^{(0)} = \\tilde{\\bf x}$, de forma que:\n",
        "\n",
        "1. Calcular ${\\bf r}^{(k)} = {\\bf b} - A{\\bf x}^{(k)}$\n",
        "2. Resolver $A{\\bf e}^{(k)} = {\\bf r}^{(k)}$\n",
        "3. Corrigir ${\\bf x}^{k+1} = {\\bf x}^{(k)} + {\\bf e}^{(k)}.$\n",
        "\n",
        "*Exemplo 2.*\n",
        "\n",
        "Usando três algarismos significativos resolva o sistema linear com o método de Eliminação de Gauss com pivoteamento e uma etapa de refinamento de solução.\n",
        "\n",
        "$\\displaystyle{\\left\\{\\begin{array}{ccccccccc}\n",
        "x_1 & + & 4x_2 & + & 52x_3 & = & 57 \\\\\n",
        "27x_1  & + & 110x_2 & - & 3x_3 & = & 134 \\\\\n",
        "22x_1 & + & 2x_2 & + & 14x_3 & = & 38\\\\\n",
        "\\end{array}\\right .}$\n",
        "\n"
      ],
      "metadata": {
        "id": "euq3fW3KaOYq"
      }
    }
  ]
}