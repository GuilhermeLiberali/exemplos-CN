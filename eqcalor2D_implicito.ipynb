{
  "nbformat": 4,
  "nbformat_minor": 0,
  "metadata": {
    "colab": {
      "provenance": [],
      "include_colab_link": true
    },
    "kernelspec": {
      "name": "python3",
      "display_name": "Python 3"
    },
    "language_info": {
      "name": "python"
    }
  },
  "cells": [
    {
      "cell_type": "markdown",
      "metadata": {
        "id": "view-in-github",
        "colab_type": "text"
      },
      "source": [
        "<a href=\"https://colab.research.google.com/github/pccalegari/exemplos-CN/blob/main/eqcalor2D_implicito.ipynb\" target=\"_parent\"><img src=\"https://colab.research.google.com/assets/colab-badge.svg\" alt=\"Open In Colab\"/></a>"
      ]
    },
    {
      "cell_type": "code",
      "execution_count": null,
      "metadata": {
        "colab": {
          "base_uri": "https://localhost:8080/"
        },
        "id": "ajPZxKiG-2nV",
        "outputId": "f894ca72-c6d3-4843-9ad5-3b5fa4516c83"
      },
      "outputs": [
        {
          "output_type": "stream",
          "name": "stdout",
          "text": [
            "[[0.         0.         0.         0.         0.         0.        ]\n",
            " [0.         0.14644661 0.35355339 0.35355339 0.14644661 0.        ]\n",
            " [0.         0.35355339 0.85355339 0.85355339 0.35355339 0.        ]\n",
            " [0.         0.35355339 0.85355339 0.85355339 0.35355339 0.        ]\n",
            " [0.         0.14644661 0.35355339 0.35355339 0.14644661 0.        ]\n",
            " [0.         0.         0.         0.         0.         0.        ]]\n",
            "[[ 0.         -0.14644661 -0.35355339 -0.35355339 -0.14644661  0.        ]\n",
            " [-0.14644661  0.14644661  0.35355339  0.35355339  0.14644661 -0.14644661]\n",
            " [-0.35355339  0.35355339  0.85355339  0.85355339  0.35355339 -0.35355339]\n",
            " [-0.35355339  0.35355339  0.85355339  0.85355339  0.35355339 -0.35355339]\n",
            " [-0.14644661  0.14644661  0.35355339  0.35355339  0.14644661 -0.14644661]\n",
            " [ 0.         -0.14644661 -0.35355339 -0.35355339 -0.14644661  0.        ]]\n"
          ]
        }
      ],
      "source": [
        "import matplotlib.pyplot as plt\n",
        "import numpy as np\n",
        "\n",
        "def phi(x, y, t):\n",
        "  return np.exp(-t)*np.sin(np.pi*x)*np.sin(np.pi*y)\n",
        "\n",
        "def f(x, y, t):\n",
        "  return (2*np.pi*np.pi - 1)*np.exp(-t)*np.sin(np.pi*x)*np.sin(np.pi*y)\n",
        "\n",
        "def main():\n",
        "  N = 4\n",
        "  b = 1.0\n",
        "  a = 0.0\n",
        "  h = (b - a)/N\n",
        "  t0 = 0\n",
        "  tf = 0.5\n",
        "  dt = (h*h)/4\n",
        "\n",
        "  x = np.zeros(N)\n",
        "  y = np.zeros(N)\n",
        "  \n",
        "  x[0] = a + h/2\n",
        "  y[0] = a + h/2\n",
        "  for i in range(1,N): \n",
        "    x[i] = x[i-1] + h\n",
        "    y[i] = y[i-1] + h\n",
        "\n",
        "  \n",
        "  phia = np.zeros((N+2,N+2))\n",
        "  phie = np.zeros((N+2,N+2))\n",
        "  phi0 = np.zeros((N+2,N+2))\n",
        "  ff = np.zeros((N+2,N+2))\n",
        "  r = np.zeros((N+2,N+2))\n",
        "\n",
        "  for j in range(1,N+1):\n",
        "    for i in range(1,N+1):\n",
        "      phi0[i][j] = phi(x[i-1], y[j-1], t0) \n",
        "      phie[i][j] = phi(x[i-1], y[j-1], tf)\n",
        "\n",
        "   \n",
        "  \n",
        "  #Preenchimento das fantasmas: Condiçao inicial\n",
        "  for i in range(1,N+1):\n",
        "    phi0[i][0] = 2*phi(x[i-1], a, t0) - phi0[i][1]\n",
        "    phi0[i][N+1] = 2*phi(x[i-1], b, t0) - phi0[i][N]\n",
        "    phi0[0][i] = 2*phi(a, y[i-1], t0) - phi0[1][i]\n",
        "    phi0[N+1][i] = 2*phi(b, y[i-1], t0) - phi0[N][i]\n",
        "\n",
        "  \n",
        "\n",
        "#  t = t0\n",
        "#  while (t < tf):\n",
        "#    s = dt/(h*h)\n",
        "     #Inicializacao do chute inicial\n",
        "     # phi = \n",
        "\n",
        "#    t += dt\n",
        "    #Solucao do sistema Gauss Seidel\n",
        "    \n",
        "\n",
        "    #Condição de contorno\n",
        "#    b[0] = b[0] + s*phi(x[0],t)\n",
        "#    b[N-2] = b[N-2] + s*phi(x[N],t)\n",
        "\n",
        "    #solucao do sistema\n",
        "#    phia = np.linalg.solve(A, b)\n",
        "\n",
        "    #atualizaçao para o proximo instante de tempo\n",
        "#    for i in range(N-1):\n",
        "#      phi0[i] = phia[i]\n",
        "\n",
        "    #calculo do tamanho do passo de tempo    \n",
        "#    dt = min(dt, tf - t)\n",
        "\n",
        "  #dados para o grafico\n",
        "#  for i in range(N-1):\n",
        "#    phiag[i+1] = phia[i]\n",
        "#  phiag[0] = phi(x[0],t)\n",
        "#  phiag[N] = phi(x[N],t) \n",
        "\n",
        "#  print(\"erro norma maximo\", np.linalg.norm(phie - phia, ord=np.inf))  \n",
        "\n",
        "#  plt.figure(1)\n",
        "#  plt.plot(x[1:N], phia, 'o', label='tf=0.5')\n",
        "#  plt.plot(x[1:N], phie, '*', label='exata')\n",
        "#  plt.xlabel(\"x\")\n",
        "#  plt.legend()\n",
        "#  plt.show()\n",
        "\n",
        "main() "
      ]
    },
    {
      "cell_type": "code",
      "source": [
        "print(0.15938636634155837/0.07896636818093875)\n",
        "print(0.07896636818093875/0.039507848680057446)\n",
        "print(0.039507848680057446/0.01979054335885396)"
      ],
      "metadata": {
        "colab": {
          "base_uri": "https://localhost:8080/"
        },
        "id": "cYTOs_90PsBC",
        "outputId": "5cc93857-2ab3-4f64-e6d3-d11592cb0c77"
      },
      "execution_count": null,
      "outputs": [
        {
          "output_type": "stream",
          "name": "stdout",
          "text": [
            "2.0184082162212413\n",
            "1.9987514081170143\n",
            "1.996299341745071\n"
          ]
        }
      ]
    }
  ]
}