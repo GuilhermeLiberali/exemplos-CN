{
  "nbformat": 4,
  "nbformat_minor": 0,
  "metadata": {
    "colab": {
      "provenance": [],
      "authorship_tag": "ABX9TyO7KPr9VrbTsbpdF0+2pyKS",
      "include_colab_link": true
    },
    "kernelspec": {
      "name": "python3",
      "display_name": "Python 3"
    },
    "language_info": {
      "name": "python"
    }
  },
  "cells": [
    {
      "cell_type": "markdown",
      "metadata": {
        "id": "view-in-github",
        "colab_type": "text"
      },
      "source": [
        "<a href=\"https://colab.research.google.com/github/pccalegari/exemplos-CN/blob/main/Unidade3_SistemasLineares_M%C3%A9todosIterativos_Aula1.ipynb\" target=\"_parent\"><img src=\"https://colab.research.google.com/assets/colab-badge.svg\" alt=\"Open In Colab\"/></a>"
      ]
    },
    {
      "cell_type": "markdown",
      "source": [
        "**Sistemas Lineares - Métodos iterativos**\n",
        "\n",
        "*Objetivo:* Dado $A{\\bf x} = {\\bf b}$, construir uma sequência de aproximações ${\\bf x}^{(k)}$ para a solução ${\\bf x}^* = A^{-1}{\\bf b}$, tal que ${\\bf x}^{(k)}\\longrightarrow {\\bf x}^*$ quando $k\\longrightarrow \\infty$.\n",
        "\n",
        "Lembrando que o sistema de equações é dado por:\n",
        "\n",
        "$$\\begin{array}{ccc}\n",
        "a_{11}x_1 + a_{12}x_2 + \\ldots + a_{1n}x_n & = & b_1 \\\\\n",
        "a_{21}x_1 + a_{22}x_2 + \\ldots + a_{2n}x_n & = & b_2\\\\\n",
        "\\vdots & & \\\\\n",
        "a_{n1}x_1 + a_{n2}x_2 + \\ldots + a_{nn}x_n & = & b_n\\\\\n",
        "\\end{array}$$\n",
        "\n",
        "**Método de Jacobi**\n",
        "\n",
        "A partir de uma aproximação inicial ${\\bf x}^{(0)}$ e supondo que $a_{ii}\\neq 0, \\forall i$, o método é obtido isolando cada uma das incógnitas em cada uma das equações. A fórmula de iteração é dada por:\n",
        "\n",
        "$$\\begin{array}{ccc}\n",
        "x_1^{(k+1)} & = & \\dfrac{1}{a_{11}}(b_1 - a_{12}x_2^{(k)} - a_{13}x_3^{(k)} - \\ldots - a_{1n}x_n^{(k)}) \\\\\n",
        " x_2^{(k+1)} & = & \\dfrac{1}{a_{22}}(b_2 - a_{21}x_1^{(k)} - a_{23}x_3^{(k)} - \\ldots - a_{2n}x_n^{(k)})\\\\\n",
        "\\vdots & & \\\\\n",
        "x_n^{(k+1)} & = & \\dfrac{1}{a_{nn}}(b_n - a_{n1}x_1^{(k)} - a_{n2}x_2^{(k)} - \\ldots - a_{nn-1}x_{n-1}^{(k)} \\\\\n",
        "\\end{array}$$\n",
        "\n",
        "\n",
        "Exemplo:\n",
        "\n",
        "$$\\begin{array}{ccc}\n",
        "4x_1 + x_2 + x_3 & = & 5 \\\\\n",
        "-2x_1 + 5x_2 + x_3 & = & 0\\\\\n",
        "3x_1 + x_2 + 6x_3 & = & -6.5\\\\\n",
        "\\end{array}$$"
      ],
      "metadata": {
        "id": "B6cEfE8Dewzr"
      }
    }
  ]
}