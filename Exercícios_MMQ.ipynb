{
  "nbformat": 4,
  "nbformat_minor": 0,
  "metadata": {
    "colab": {
      "provenance": [],
      "authorship_tag": "ABX9TyMPUCU3wX+WrnF8FDQfkhF2",
      "include_colab_link": true
    },
    "kernelspec": {
      "name": "python3",
      "display_name": "Python 3"
    },
    "language_info": {
      "name": "python"
    }
  },
  "cells": [
    {
      "cell_type": "markdown",
      "metadata": {
        "id": "view-in-github",
        "colab_type": "text"
      },
      "source": [
        "<a href=\"https://colab.research.google.com/github/pccalegari/exemplos-CN/blob/main/Exerc%C3%ADcios_MMQ.ipynb\" target=\"_parent\"><img src=\"https://colab.research.google.com/assets/colab-badge.svg\" alt=\"Open In Colab\"/></a>"
      ]
    },
    {
      "cell_type": "markdown",
      "source": [
        "**Mínimos quadrados com peso**\n",
        "\n",
        "A formulação do Método dos Mínimos Quadrados (MMQ) usando a definição de produto escalar de funções nos permite:\n",
        "\n",
        "1. Atribuir diferentes  graus de importância no intervalo de aproximação. Isso é feito quando incluímos uma função peso, $w(x)$ no produto escalar,\n",
        "\n",
        "\n",
        "\n",
        "*   Discreto: $\\displaystyle{<f,g> = \\sum_{i=1}^mw(x_i)f(x_i)g(x_i),} $\n",
        "*   Contínuo: $\\displaystyle{<f,g> = \\int_a^b w(x)f(x)g(x)dx,}$\n",
        "\n",
        "sendo $w(x)$ uma função contínua e $w(x)>0$ em $[a,b]$.\n",
        "\n",
        "*Exemplo 1*:\n",
        "\n",
        "Um professor organizou uma tabela com dados de estudantes, relacionados a horas semanais de estudo extra-classe e notas.\n",
        "\n",
        "$$\\begin{array}{c|c|c|c}\n",
        "\\mbox{Estudantes} & \\mbox{Horas} & \\mbox{Notas} & \\mbox{Peso} \\\\\n",
        "\\hline\n",
        "A & 5 & 7.5 & 1 \\\\\n",
        "\\hline\n",
        "B & 10 & 9 & 2 \\\\\n",
        "\\hline\n",
        "C & 3 & 6.5 & 0.5 \\\\\n",
        "\\hline\n",
        "D & 2 & 6 & 0.5 \\\\\n",
        "\\hline\n",
        "E & 12 & 10 & 2 \\\\\n",
        "\\hline\n",
        "F & 8 & 8 & 1.5 \\\\\n",
        "\\hline\n",
        "G & 6 & 7.5 & 1.5\n",
        "\\end{array}$$\n",
        "\n",
        "Obtenha a reta que melhor aproxima os dados."
      ],
      "metadata": {
        "id": "hYki8mZqzpno"
      }
    },
    {
      "cell_type": "code",
      "execution_count": 5,
      "metadata": {
        "id": "V_8LJ3XXzjeH"
      },
      "outputs": [],
      "source": []
    },
    {
      "cell_type": "markdown",
      "source": [
        "**Funções Ortogonais**\n",
        "\n",
        "O conceito de ortogonalidade em um conjunto de funções, se origina do conceito de ortogonalidade entre vetores, caracterizado pelo produto escalar nulo.\n",
        "\n",
        "Uma família de funções, $g_i(x)$, com $i=0,1,\\ldots$ é ortogonal em relação ao produto escalar associado ao peso $w(x)$ se $<g_i,g_j>=0$ para todo $i\\neq j$.\n",
        "\n",
        "Se as funções $g_i(x)$ que compõem a função aproximadora $\\displaystyle{g(x) = \\sum_{k=0}^ng_k(x)}$ são ortogonais, o sistema normal se torna diagonal. Ou seja, apenas a diagonal da matriz é não nula. Portanto, a solução do sistema resulta em\n",
        "\n",
        "$$a_j = \\dfrac{<f,g_i>}{<g_i,g_i>}, j = 0,1,\\ldots,n.$$\n",
        "\n",
        "Exemplos de famílias de funções ortogonais:\n",
        "\n",
        "\n",
        "\n",
        "*   As funções trigonométricas, que dão origem à série de Fourier.\n",
        "*   Os polinômios ortogonais: polinômios de Legendre, Chebyshev, entre outros, que cada vez mais aparecem em problemas que envolvem aproximações.\n",
        "\n",
        "*Análise Harmônica*\n",
        "\n",
        "Família de funções trigonométricas: $\\{1,\\cos(x),\\sin(x),\\cos(2x),\\sin(2x),\\ldots,\\cos(nx),\\sin(nx)\\}$ que são ortogonais em um intervalo de tamanho $2\\pi$.\n",
        "\n",
        "Função aproximadora: $\\displaystyle{g(x)=a_0+\\sum_{k=1}^n[a_k\\cos(kx)+b_k\\sin(kx)]}$\n",
        "\n",
        "*Exemplo 1*:\n",
        "\n",
        "Aproximar $\\displaystyle{f(x)=\\left\\{\\begin{array}{cc}\n",
        "1, & 0\\le x \\le \\pi \\\\\n",
        "-1, & \\pi < x \\le 2\\pi \\\\\n",
        "\\end{array}\\right .}$ função periódica, $f(x+2\\pi)=f(x)$, via método dos mínimos quadrados, com $g(x)=a_0+\\sum_{k=1}^3[a_k\\cos(kx)+b_k\\sin(kx)]$.\n"
      ],
      "metadata": {
        "id": "VTS9k1ak9N1G"
      }
    },
    {
      "cell_type": "code",
      "source": [],
      "metadata": {
        "id": "gqMlYFNd9WVO"
      },
      "execution_count": 10,
      "outputs": []
    },
    {
      "cell_type": "markdown",
      "source": [
        "*Exercício*\n",
        "\n",
        "Determina os polinômios de grau 1, 2 e 3 que melhor ajustam a tabela abaixo, no sentido dos quadrados mínimos. Qual deles fornece o menor resíduo?\n",
        "\n",
        "$$\\begin{array}{c|cccccc}\n",
        "x & 0 & 0.15 & 0.31 & 0.5 & 0.6 & 0.75 \\\\\n",
        "\\hline\n",
        "y & 1 & 1.004 & 1.031 & 1.117 & 1.223 & 1.422\n",
        "\\end{array}$$\n"
      ],
      "metadata": {
        "id": "DI4slK4C9Wwo"
      }
    },
    {
      "cell_type": "code",
      "source": [],
      "metadata": {
        "id": "BS-c_O3G-R1X"
      },
      "execution_count": null,
      "outputs": []
    }
  ]
}