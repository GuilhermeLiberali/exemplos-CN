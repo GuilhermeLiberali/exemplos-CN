{
  "nbformat": 4,
  "nbformat_minor": 0,
  "metadata": {
    "colab": {
      "provenance": [],
      "collapsed_sections": [],
      "authorship_tag": "ABX9TyM0IBtbSs3ULSXaNCVyHDYV",
      "include_colab_link": true
    },
    "kernelspec": {
      "name": "python3",
      "display_name": "Python 3"
    },
    "language_info": {
      "name": "python"
    }
  },
  "cells": [
    {
      "cell_type": "markdown",
      "metadata": {
        "id": "view-in-github",
        "colab_type": "text"
      },
      "source": [
        "<a href=\"https://colab.research.google.com/github/pccalegari/exemplos-CN/blob/main/CN_unidade4.ipynb\" target=\"_parent\"><img src=\"https://colab.research.google.com/assets/colab-badge.svg\" alt=\"Open In Colab\"/></a>"
      ]
    },
    {
      "cell_type": "markdown",
      "metadata": {
        "id": "rRH8GXuTqTjd"
      },
      "source": [
        "\n",
        "\n",
        "\n",
        "\n",
        "# Unidade 4 - Aproximação de funções\n",
        "\n",
        "\n"
      ]
    },
    {
      "cell_type": "markdown",
      "metadata": {
        "id": "SUHnaI9tH795"
      },
      "source": [
        "Nesta unidade, vamos estudar métodos para aproximar funções e dados tabelados. Veremos duas maneiras de aproximar funções: a **Interpolação** e o **Método dos Mínimos Quadrados**. A seguir, apresentamos alguns exemplos de resolução em *Python*. Vamos utilizar as bibliotecas [numpy](https://numpy.org/) e [scipy](https://scipy.github.io/devdocs/index.html)."
      ]
    },
    {
      "cell_type": "markdown",
      "metadata": {
        "id": "UseaF7aVI3NX"
      },
      "source": [
        "# Interpolação"
      ]
    },
    {
      "cell_type": "markdown",
      "source": [
        "**Forma de Newton**\n",
        "\n",
        "Algoritmo - Tabela de Diferenças Divididas\n",
        "\n",
        "\n",
        "\n",
        "1.   Dados $x_i$ e $f(x_i)$,  $n+1$ pontos.\n",
        "2.   Para $i=0:n$\n",
        "3.   $\\hspace{1pc}$  $d_{i0}=f(x_i)$\n",
        "4.   Para $k = 1:n$\n",
        "5.   $\\hspace{1pc}$ Para $i=0:n-k$\n",
        "6.   $\\hspace{2pc} d_{ik}=\\dfrac{d_{i+1,k-1}-d_{i,k-1}}{x_{i+k}-x_i}$\n",
        "\n",
        "\n",
        "O polinômio é dado por \n",
        "\n",
        "$$p(x) = f[x_0]+f[x_0,x_1](x-x_0)+f[x_0,x_1,x_2](x-x_0)(x-x_1)+\\ldots+f[x_0,x_1,\\ldots,x_{n-1},x_n](x-x_0)(x-x_1)\\ldots(x-x_{n-1}),$$\n",
        "\n",
        "onde $f[x_0]=f(x_0)$ e para qualquer $k$, $$f[x_0,x_1,\\ldots,x_k,x]=\\dfrac{f[x_0,x_1,\\ldots,x_{k-1},x]-f[x_0,x_1,\\ldots,x_k]}{x-x_k}$$\n",
        "\n",
        "\n",
        "\n",
        "\n"
      ],
      "metadata": {
        "id": "zjFSic6w2KNy"
      }
    },
    {
      "cell_type": "code",
      "source": [
        "import numpy as np\n",
        "import matplotlib.pyplot as plt\n"
      ],
      "metadata": {
        "id": "PJaGnbRG2YzF"
      },
      "execution_count": 12,
      "outputs": []
    },
    {
      "cell_type": "code",
      "source": [
        "def f(x):\n",
        "  return(1/(1+x**2))\n",
        "\n",
        "def dif_div(x,y):\n",
        "  n = len(x)\n",
        "  d = np.zeros((n,n))\n",
        "  c = np.zeros(n)\n",
        "\n",
        "  for i in range(n):\n",
        "    d[i,0] = y[i]\n",
        "  for k in range(1,n):\n",
        "    for i in range(n-k):\n",
        "      d[i,k] = (d[i+1,k-1] - d[i,k-1])/(x[i+k] - x[i])\n",
        "\n",
        "  for i in range(n):\n",
        "    c[i] = d[0,i]\n",
        "\n",
        "  return(c)\n",
        "\n"
      ],
      "metadata": {
        "id": "WOnWPlIu2lBU"
      },
      "execution_count": 13,
      "outputs": []
    },
    {
      "cell_type": "code",
      "source": [
        "N = 9\n",
        "a = -4\n",
        "b = 4\n",
        "h = (b-a)/(N-1)\n",
        "x = np.arange(a, b+h, h)\n",
        "y = f(x)\n",
        "\n",
        "c = dif_div(x, y)\n",
        "print(c)"
      ],
      "metadata": {
        "colab": {
          "base_uri": "https://localhost:8080/"
        },
        "id": "OpTnlHIL3GGS",
        "outputId": "29e5d6d0-105d-4164-b95f-6053b81ae598"
      },
      "execution_count": 18,
      "outputs": [
        {
          "output_type": "stream",
          "name": "stdout",
          "text": [
            "[ 0.05882353  0.04117647  0.02941176  0.02352941 -0.00588235 -0.00882353\n",
            "  0.00647059 -0.00235294  0.00058824]\n"
          ]
        }
      ]
    },
    {
      "cell_type": "code",
      "source": [
        "def p(x0, x, c):\n",
        "  n = len(c)\n",
        "  vp = np.zeros(n)\n",
        "  vp[0] = c[0]\n",
        "  ss = 1\n",
        "  px0 = 0\n",
        "  for i in range(1,n):\n",
        "    ss *= (x0 - x[i-1])\n",
        "    vp[i] = c[i]*ss\n",
        "  for i in range(n):\n",
        "    px0 += vp[i] \n",
        "  return px0"
      ],
      "metadata": {
        "id": "6YGkdeZN9FHT"
      },
      "execution_count": 19,
      "outputs": []
    },
    {
      "cell_type": "markdown",
      "metadata": {
        "id": "YXR5d7XdrIdb"
      },
      "source": [
        "\n",
        "\n",
        "**Exemplo** (Fenômeno de Runge)\n",
        "\n",
        "Seja $$f(x)=\\dfrac{1}{1+x^2}, x\\in(-4,4)$$\n",
        "\n",
        "Para $n$ inteiro, $p_n(x)$ é o polinômio interpolador de $f(x)$ nos pontos igualmente espaçados $x_0,x_1,\\ldots,x_n$, dados por $x_i=-4 + i\\cdot h$ e $h = 8/n$. Note que aumentarmos o número de pontos o erro aumenta.\n",
        "\n"
      ]
    },
    {
      "cell_type": "code",
      "source": [
        "x_pol = np.linspace(a, b, 100)\n",
        "y_pol = np.zeros(len(x_pol))\n",
        "f_pol = np.zeros(len(x_pol))\n",
        "for i in range(len(x_pol)):\n",
        "  y_pol[i] = p(x_pol[i], x, c)\n",
        "  f_pol[i] = f(x_pol[i])\n",
        "#print(x_pol)\n",
        "#print(y_pol)\n",
        "\n",
        "plt.figure(1)\n",
        "plt.plot(x, y, 'o')\n",
        "plt.plot(x_pol, y_pol)\n",
        "plt.plot(x_pol, f_pol, '-.')\n",
        "plt.show()"
      ],
      "metadata": {
        "colab": {
          "base_uri": "https://localhost:8080/",
          "height": 265
        },
        "id": "90Ej0Ba6CS77",
        "outputId": "de75a0ea-0e61-40ae-cc8d-141801cfe2e3"
      },
      "execution_count": 20,
      "outputs": [
        {
          "output_type": "display_data",
          "data": {
            "text/plain": [
              "<Figure size 432x288 with 1 Axes>"
            ],
            "image/png": "[encoded data removed]"
          },
          "metadata": {
            "needs_background": "light"
          }
        }
      ]
    },
    {
      "cell_type": "markdown",
      "source": [
        "Uma solução é utilizar a interpolação por partes."
      ],
      "metadata": {
        "id": "lYYIBdLPMytz"
      }
    },
    {
      "cell_type": "code",
      "metadata": {
        "id": "xJuFV9C-qMEE",
        "colab": {
          "base_uri": "https://localhost:8080/",
          "height": 265
        },
        "outputId": "aea100cf-9610-465f-89d0-7029e5a98cf3"
      },
      "source": [
        "import matplotlib.pyplot as plt\n",
        "\n",
        "from scipy import interpolate\n",
        "\n",
        "#xx = np.arange(-5,5,0.1)\n",
        "#m = len(xx)\n",
        "#yy = np.zeros(m)\n",
        "#yy = f(xx)\n",
        "a = -4\n",
        "b = 5\n",
        "x = np.arange(a, b)\n",
        "n = len(x)\n",
        "y = np.zeros(n)\n",
        "y = f(x)\n",
        "\n",
        "p = interpolate.interp1d(x, y)\n",
        "\n",
        "xnew = np.arange(a, b)\n",
        "\n",
        "ynew = p(xnew)   \n",
        "\n",
        "plt.plot(x, y, 'o', xnew, ynew, '-')\n",
        "\n",
        "\n",
        "plt.show()"
      ],
      "execution_count": null,
      "outputs": [
        {
          "output_type": "display_data",
          "data": {
            "image/png": "[encoded data removed]",
            "text/plain": [
              "<Figure size 432x288 with 1 Axes>"
            ]
          },
          "metadata": {
            "needs_background": "light"
          }
        }
      ]
    },
    {
      "cell_type": "markdown",
      "source": [
        "# Método dos Mínimos Quadrados\n"
      ],
      "metadata": {
        "id": "BzfCDkbctjB2"
      }
    },
    {
      "cell_type": "markdown",
      "source": [
        "Objetivo: Minimizar resíduo (erro).\n",
        "\n",
        "Para obter a melhor aproximação vamos minimizar a função:\n",
        "\n",
        "$$  r({\\bf a}) = \\dfrac{1}{2}\\sum_{i=1}^m r_i({\\bf a})^2,$$\n",
        "\n",
        "sendo o resíduo $r_i({\\bf a}) = f(x_i,{\\bf a}) - y_i$, com $(x_i,y_i)$ dados e $m$ tamanho dos vetores $x$ e $y$. \n",
        "\n",
        "Para ajustar os parâmetros da função $r({\\bf a})$ vamos utilizar as bibliotecas *numpy* e *scipy*. \n"
      ],
      "metadata": {
        "id": "fEiwpGcQtq0n"
      }
    },
    {
      "cell_type": "markdown",
      "source": [
        "**Exemplo (1)**\n",
        "\n",
        "Ajustar os dados abaixo usando uma reta (Regressão linear):\n",
        "\n",
        "$$\\begin{array}{c|ccccc}\n",
        "x_i & 0 & 0.25 & 0.5 & 0.75 & 1\\\\\n",
        "\\hline\n",
        "f(x_i) & 1 & 1.2840 & 1.6487 & 2.1170 & 2.7183 \\\\\n",
        "\\end{array}$$\n",
        "\n",
        "*Solução:*\n",
        "\n",
        "A função aproximadora é dada por $g(x)=a_0 + a_1x$. A tabela possui $5$ pontos portanto $m=5$. "
      ],
      "metadata": {
        "id": "jPvEib3Cu9-w"
      }
    },
    {
      "cell_type": "code",
      "metadata": {
        "id": "zlmv5UJ9IHbv"
      },
      "source": [
        "import matplotlib.pyplot as plt\n",
        "import numpy as np\n",
        "from scipy import optimize\n",
        "from scipy import interpolate\n",
        "from numpy import linalg as LA\n"
      ],
      "execution_count": null,
      "outputs": []
    },
    {
      "cell_type": "markdown",
      "source": [
        "Abaixo são definidas a função aproximadora e a função resíduo."
      ],
      "metadata": {
        "id": "txxhSIRJxANG"
      }
    },
    {
      "cell_type": "code",
      "metadata": {
        "id": "rzaOZleKh7r7"
      },
      "source": [
        "def flinear(x, a):\n",
        "    y = a[0] + a[1]*x \n",
        "    return y\n",
        "\n",
        "def rlinear(a, x, y):\n",
        "    return a[0] + a[1]*x - y\n"
      ],
      "execution_count": null,
      "outputs": []
    },
    {
      "cell_type": "markdown",
      "source": [
        "Insira os dados do problema: vetores $x$ e $y$."
      ],
      "metadata": {
        "id": "CC_OXPcwxbdP"
      }
    },
    {
      "cell_type": "code",
      "metadata": {
        "id": "ik2229vsGM9s"
      },
      "source": [
        "xi = np.array([0, 0.25, 0.5, 0.75 , 1])\n",
        "m = len(xi)\n",
        "yi = np.array([1, 1.2840, 1.6487, 2.117, 2.7183])"
      ],
      "execution_count": null,
      "outputs": []
    },
    {
      "cell_type": "markdown",
      "source": [
        "Aqui segue uma solução com a resolução do sistema normal."
      ],
      "metadata": {
        "id": "tJjCMB750b6l"
      }
    },
    {
      "cell_type": "code",
      "source": [
        "v_1 = np.ones(m)\n",
        "\n",
        "A = np.zeros((2,2))\n",
        "b = np.zeros(2)\n",
        "A[0,0] = np.vdot(v_1,v_1)\n",
        "A[1,0] = np.vdot(v_1,xi)\n",
        "A[0,1] = A[1,0]\n",
        "A[1,1] = np.vdot(xi, xi)\n",
        "b[0] = np.vdot(v_1, yi)\n",
        "b[1] = np.vdot(xi, yi)\n",
        "print(A)\n",
        "\n",
        "a1 = np.linalg.solve(A, b)\n",
        "print(a1)"
      ],
      "metadata": {
        "colab": {
          "base_uri": "https://localhost:8080/"
        },
        "id": "29iyccDHyCVg",
        "outputId": "01865a16-da32-40fb-ee8c-e6dd606591a4"
      },
      "execution_count": null,
      "outputs": [
        {
          "output_type": "stream",
          "name": "stdout",
          "text": [
            "[[5.    2.5  ]\n",
            " [2.5   1.875]]\n",
            "[0.89968 1.70784]\n"
          ]
        }
      ]
    },
    {
      "cell_type": "markdown",
      "source": [
        "Aqui segue uma solução utilizando métodos de otimização."
      ],
      "metadata": {
        "id": "Gva-xfAd0RSx"
      }
    },
    {
      "cell_type": "code",
      "metadata": {
        "id": "lmdn8R84NDW8",
        "colab": {
          "base_uri": "https://localhost:8080/"
        },
        "outputId": "9893f2b7-e524-44ef-bfe5-602d7b150d7d"
      },
      "source": [
        "x_min = xi[0]\n",
        "x_max = xi[n-1]\n",
        "\n",
        "x0 = np.array([0.1, 0.1])\n",
        "\n",
        "res_lin = optimize.least_squares(rlinear, x0, args=(xi, yi))\n",
        "    \n",
        "print(\"Parâmetros do ajuste Linear\")\n",
        "print(res_lin)\n",
        "a = np.array([res_lin.x[0], res_lin.x[1]]) \n",
        "print(\"a = \", a)\n",
        "    "
      ],
      "execution_count": null,
      "outputs": [
        {
          "output_type": "stream",
          "name": "stdout",
          "text": [
            "Parâmetros do ajuste Linear\n",
            " active_mask: array([0., 0.])\n",
            "        cost: 0.019599182000000024\n",
            "         fun: array([-0.10032,  0.04264,  0.1049 ,  0.06356, -0.11078])\n",
            "        grad: array([-1.22124533e-15,  4.63304672e-10])\n",
            "         jac: array([[1.  , 0.  ],\n",
            "       [1.  , 0.25],\n",
            "       [1.  , 0.5 ],\n",
            "       [1.  , 0.75],\n",
            "       [1.  , 1.  ]])\n",
            "     message: '`gtol` termination condition is satisfied.'\n",
            "        nfev: 5\n",
            "        njev: 5\n",
            "  optimality: 4.6330467240451867e-10\n",
            "      status: 1\n",
            "     success: True\n",
            "           x: array([0.89968, 1.70784])\n",
            "a =  [0.89968 1.70784]\n"
          ]
        }
      ]
    },
    {
      "cell_type": "code",
      "metadata": {
        "colab": {
          "base_uri": "https://localhost:8080/",
          "height": 279
        },
        "id": "rH3rn6qYwC6U",
        "outputId": "87f39897-9731-46d3-971b-f414c1bc3899"
      },
      "source": [
        "x_test = np.linspace(x_min, x_max, 100)\n",
        " \n",
        "y_lin = flinear(x_test, a)\n",
        "  \n",
        "plt.figure(1)\n",
        "plt.plot(xi, yi, 'o', label='Experimento')\n",
        "plt.plot(x_test, y_lin, label='Ajuste linear')\n",
        "plt.xlabel(\"x\")\n",
        "plt.ylabel(\"y\")\n",
        "plt.legend()\n",
        "plt.show()"
      ],
      "execution_count": null,
      "outputs": [
        {
          "output_type": "display_data",
          "data": {
            "image/png": "[encoded data removed]",
            "text/plain": [
              "<Figure size 432x288 with 1 Axes>"
            ]
          },
          "metadata": {
            "needs_background": "light"
          }
        }
      ]
    }
  ]
}