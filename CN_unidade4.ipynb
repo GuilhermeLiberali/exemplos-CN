{
  "nbformat": 4,
  "nbformat_minor": 0,
  "metadata": {
    "colab": {
      "name": "CN_unidade4.ipynb",
      "provenance": [],
      "collapsed_sections": [],
      "toc_visible": true,
      "authorship_tag": "ABX9TyOhZ0giZclMP8n9usnAOIZE",
      "include_colab_link": true
    },
    "kernelspec": {
      "name": "python3",
      "display_name": "Python 3"
    },
    "language_info": {
      "name": "python"
    }
  },
  "cells": [
    {
      "cell_type": "markdown",
      "metadata": {
        "id": "view-in-github",
        "colab_type": "text"
      },
      "source": [
        "<a href=\"https://colab.research.google.com/github/pccalegari/exemplos-CN/blob/main/CN_unidade4.ipynb\" target=\"_parent\"><img src=\"https://colab.research.google.com/assets/colab-badge.svg\" alt=\"Open In Colab\"/></a>"
      ]
    },
    {
      "cell_type": "markdown",
      "metadata": {
        "id": "rRH8GXuTqTjd"
      },
      "source": [
        "\n",
        "\n",
        "\n",
        "\n",
        "# Unidade 4 - Aproximação de funções\n",
        "\n",
        "\n"
      ]
    },
    {
      "cell_type": "markdown",
      "metadata": {
        "id": "SUHnaI9tH795"
      },
      "source": [
        "Nesta unidade, vamos estudar métodos para aproximar funções e dados tabelados. Veremos duas maneiras de aproximar funções: a **Interpolação** e o **Método dos Mínimos Quadrados**. A seguir, apresentamos alguns exemplos de resolução em *Python*. Vamos utilizar as bibliotecas [numpy](https://numpy.org/) e [scipy](https://scipy.github.io/devdocs/index.html)."
      ]
    },
    {
      "cell_type": "markdown",
      "metadata": {
        "id": "UseaF7aVI3NX"
      },
      "source": [
        "# Interpolação"
      ]
    },
    {
      "cell_type": "markdown",
      "source": [
        "**Forma de Newton**\n",
        "\n",
        "Algoritmo - Tabela de Diferenças Divididas\n",
        "\n",
        "\n",
        "\n",
        "1.   Dados $x_i$ e $f(x_i)$,  $n+1$ pontos.\n",
        "2.   Para $i=0:n$\n",
        "3.   $\\hspace{1pc}$  $d_{i0}=f(x_i)$\n",
        "4.   Para $k = 1:n$\n",
        "5.   $\\hspace{1pc}$ Para $i=0:n-k$\n",
        "6.   $\\hspace{2pc} d_{ik}=\\dfrac{d_{i+1,k-1}-d_{i,k-1}}{x_{i+k}-x_i}$\n",
        "\n",
        "\n",
        "O polinômio é dado por \n",
        "\n",
        "$$p(x) = f[x_0]+f[x_0,x_1](x-x_0)+f[x_0,x_1,x_2](x-x_0)(x-x_1)+\\ldots+f[x_0,x_1,\\ldots,x_{n-1},x_n](x-x_0)(x-x_1)\\ldots(x-x_{n-1}),$$\n",
        "\n",
        "onde $f[x_0]=f(x_0)$ e para qualquer $k$, $$f[x_0,x_1,\\ldots,x_k,x]=\\dfrac{f[x_0,x_1,\\ldots,x_{k-1},x]-f[x_0,x_1,\\ldots,x_k]}{x-x_k}$$\n",
        "\n",
        "\n",
        "\n",
        "\n"
      ],
      "metadata": {
        "id": "zjFSic6w2KNy"
      }
    },
    {
      "cell_type": "code",
      "source": [
        "import numpy as np\n",
        "import matplotlib.pyplot as plt\n"
      ],
      "metadata": {
        "id": "PJaGnbRG2YzF"
      },
      "execution_count": 1,
      "outputs": []
    },
    {
      "cell_type": "code",
      "source": [
        "def f(x):\n",
        "  return(1/(1+x**2))\n",
        "\n",
        "def dif_div(x,y):\n",
        "  n = len(x)\n",
        "  d = np.zeros((n,n))\n",
        "  c = np.zeros(n)\n",
        "\n",
        "  for i in range(n):\n",
        "    d[i,0] = y[i]\n",
        "  for k in range(1,n):\n",
        "    for i in range(n-k):\n",
        "      d[i,k] = (d[i+1,k-1] - d[i,k-1])/(x[i+k] - x[i])\n",
        "\n",
        "  for i in range(n):\n",
        "    c[i] = d[0,i]\n",
        "\n",
        "  return(c)\n",
        "\n"
      ],
      "metadata": {
        "id": "WOnWPlIu2lBU"
      },
      "execution_count": 70,
      "outputs": []
    },
    {
      "cell_type": "code",
      "source": [
        "N = 11\n",
        "a = -4\n",
        "b = 4\n",
        "h = (b-a)/(N-1)\n",
        "x = np.arange(a, b+h, h)\n",
        "y = f(x)\n",
        "\n",
        "c = dif_div(x, y)\n",
        "print(c)"
      ],
      "metadata": {
        "colab": {
          "base_uri": "https://localhost:8080/"
        },
        "id": "OpTnlHIL3GGS",
        "outputId": "d1d207f7-fb2f-492a-9160-266870288359"
      },
      "execution_count": 104,
      "outputs": [
        {
          "output_type": "stream",
          "name": "stdout",
          "text": [
            "[ 0.05882353  0.03768055  0.02251295  0.01471103  0.00780092 -0.00847029\n",
            " -0.00062481  0.00280052 -0.00156468  0.0005304  -0.0001326 ]\n"
          ]
        }
      ]
    },
    {
      "cell_type": "code",
      "source": [
        "def p(x0, x, c):\n",
        "  n = len(c)\n",
        "  vp = np.zeros(n)\n",
        "  vp[0] = c[0]\n",
        "  ss = 1\n",
        "  px0 = 0\n",
        "  for i in range(1,n):\n",
        "    ss *= (x0 - x[i-1])\n",
        "    vp[i] = c[i]*ss\n",
        "  for i in range(n):\n",
        "    px0 += vp[i] \n",
        "  return px0"
      ],
      "metadata": {
        "id": "6YGkdeZN9FHT"
      },
      "execution_count": 105,
      "outputs": []
    },
    {
      "cell_type": "markdown",
      "metadata": {
        "id": "YXR5d7XdrIdb"
      },
      "source": [
        "\n",
        "\n",
        "**Exemplo** (Fenômeno de Runge)\n",
        "\n",
        "Seja $$f(x)=\\dfrac{1}{1+x^2}, x\\in(-4,4)$$\n",
        "\n",
        "Para $n$ inteiro, $p_n(x)$ é o polinômio interpolador de $f(x)$ nos pontos igualmente espaçados $x_0,x_1,\\ldots,x_n$, dados por $x_i=-4 + i\\cdot h$ e $h = 8/n$. Note que aumentarmos o número de pontos o erro aumenta.\n",
        "\n"
      ]
    },
    {
      "cell_type": "code",
      "source": [
        "x_pol = np.linspace(a, b, 100)\n",
        "y_pol = np.zeros(len(x_pol))\n",
        "f_pol = np.zeros(len(x_pol))\n",
        "for i in range(len(x_pol)):\n",
        "  y_pol[i] = p(x_pol[i], x, c)\n",
        "  f_pol[i] = f(x_pol[i])\n",
        "#print(x_pol)\n",
        "#print(y_pol)\n",
        "\n",
        "plt.figure(1)\n",
        "plt.plot(x, y, 'o')\n",
        "plt.plot(x_pol, y_pol)\n",
        "plt.plot(x_pol, f_pol, '-.')\n",
        "plt.show()"
      ],
      "metadata": {
        "colab": {
          "base_uri": "https://localhost:8080/",
          "height": 265
        },
        "id": "90Ej0Ba6CS77",
        "outputId": "58da4b3c-b3e2-4e0a-ca4d-8d1ab701eeca"
      },
      "execution_count": 108,
      "outputs": [
        {
          "output_type": "display_data",
          "data": {
            "image/png": "[encoded data removed]",
            "text/plain": [
              "<Figure size 432x288 with 1 Axes>"
            ]
          },
          "metadata": {
            "needs_background": "light"
          }
        }
      ]
    },
    {
      "cell_type": "markdown",
      "source": [
        "Uma solução é utilizar a interpolação por partes."
      ],
      "metadata": {
        "id": "lYYIBdLPMytz"
      }
    },
    {
      "cell_type": "code",
      "metadata": {
        "id": "xJuFV9C-qMEE",
        "colab": {
          "base_uri": "https://localhost:8080/",
          "height": 265
        },
        "outputId": "7cec4fda-3b75-4bab-87fd-01454dedc426"
      },
      "source": [
        "import matplotlib.pyplot as plt\n",
        "\n",
        "from scipy import interpolate\n",
        "\n",
        "#xx = np.arange(-5,5,0.1)\n",
        "#m = len(xx)\n",
        "#yy = np.zeros(m)\n",
        "#yy = f(xx)\n",
        "a = -4\n",
        "b = 5\n",
        "x = np.arange(a, b)\n",
        "n = len(x)\n",
        "y = np.zeros(n)\n",
        "y = f(x)\n",
        "\n",
        "p = interpolate.interp1d(x, y)\n",
        "\n",
        "xnew = np.arange(a, b)\n",
        "\n",
        "ynew = p(xnew)   \n",
        "\n",
        "plt.plot(x, y, 'o', xnew, ynew, '-')\n",
        "\n",
        "\n",
        "plt.show()"
      ],
      "execution_count": 57,
      "outputs": [
        {
          "output_type": "display_data",
          "data": {
            "image/png": "[encoded data removed]",
            "text/plain": [
              "<Figure size 432x288 with 1 Axes>"
            ]
          },
          "metadata": {
            "needs_background": "light"
          }
        }
      ]
    }
  ]
}