{
  "nbformat": 4,
  "nbformat_minor": 0,
  "metadata": {
    "colab": {
      "provenance": [],
      "authorship_tag": "ABX9TyPl7c6wvsPRehat1CQD3+Ll",
      "include_colab_link": true
    },
    "kernelspec": {
      "name": "python3",
      "display_name": "Python 3"
    },
    "language_info": {
      "name": "python"
    }
  },
  "cells": [
    {
      "cell_type": "markdown",
      "metadata": {
        "id": "view-in-github",
        "colab_type": "text"
      },
      "source": [
        "<a href=\"https://colab.research.google.com/github/pccalegari/exemplos-CN/blob/main/Unidade4_SistemasNaoLineares.ipynb\" target=\"_parent\"><img src=\"https://colab.research.google.com/assets/colab-badge.svg\" alt=\"Open In Colab\"/></a>"
      ]
    },
    {
      "cell_type": "markdown",
      "source": [
        "# Unidade 3 - Sistemas de equações\n",
        "\n",
        "Vamos estudar métodos para sistemas de equações não lineares. A seguir, apresentamos um exemplo de resolução em *Python*. Vamos utilizar as bibliotecas [numpy](https://numpy.org/) e [scipy](https://scipy.github.io/devdocs/index.html).\n",
        "\n",
        "**Método de Newton**\n",
        "\n",
        "A cada iteração do método:    \n",
        "\n",
        "(a) Avaliar $J({\\bf x})$ e ${\\bf F}({\\bf x})$.\n",
        "\n",
        "(b) Resolver um sistema linear: $J({\\bf x}){\\bf s} = -{\\bf F}({\\bf x}).$\n",
        "\n",
        "(c) Atualizar a solução: ${\\bf x}^{(k+1)}={\\bf x}^{(k)} + s$"
      ],
      "metadata": {
        "id": "tQukZq1DKBvv"
      }
    },
    {
      "cell_type": "code",
      "execution_count": null,
      "metadata": {
        "id": "YSrwRy5UJ7zy"
      },
      "outputs": [],
      "source": []
    }
  ]
}