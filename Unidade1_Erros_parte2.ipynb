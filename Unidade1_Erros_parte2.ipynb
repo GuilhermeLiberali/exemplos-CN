{
  "nbformat": 4,
  "nbformat_minor": 0,
  "metadata": {
    "colab": {
      "provenance": [],
      "include_colab_link": true
    },
    "kernelspec": {
      "name": "python3",
      "display_name": "Python 3"
    },
    "language_info": {
      "name": "python"
    }
  },
  "cells": [
    {
      "cell_type": "markdown",
      "metadata": {
        "id": "view-in-github",
        "colab_type": "text"
      },
      "source": [
        "<a href=\"https://colab.research.google.com/github/pccalegari/exemplos-CN/blob/main/Unidade1_Erros_parte2.ipynb\" target=\"_parent\"><img src=\"https://colab.research.google.com/assets/colab-badge.svg\" alt=\"Open In Colab\"/></a>"
      ]
    },
    {
      "cell_type": "markdown",
      "source": [
        "# Erros - Primeira aula prática\n",
        "\n",
        "Na aula anterior, descrevemos diversos tipos de erros que podem estar inseridos em uma resolução de problema que envolve uma metodologia numérica.\n",
        "\n",
        "**Exemplo 1.** Vamos analisar os efeitos dos erros de arredondamento ao utilizarmos duas metodologias para aproximar as raízes de $ax^2-bx+c=0$, onde $a$ e $b$ são positivos. Considere $a=1$, $b=100.23$ e $c=1.2371$ e utilize 5 algarismos significativos para aproximar as raízes usando as expressões:\n",
        "\n",
        "$$x_1 = \\dfrac{b+\\sqrt{b^2-4ac}}{2a} \\ \\mbox{ e }\\ x_2 = \\dfrac{b-\\sqrt{b^2-4ac}}{2a}$$\n",
        "\n",
        "Compare a aproximação de $x_2$ com a aproximação fornecida pela propriedade $x_1x_2=c/a$ e com as raízes exatas: $x_1=100.2176558678$ e $x_2=0.0123441323$ (calculadas com mais algarismos significativos).\n",
        "\n",
        "*Resolvido e discutido em aula*.\n",
        "\n",
        "----------------------------------------------------------------------------\n",
        "\n",
        "A partir de agora vamos relembrar o conceito de algoritmo e resolver alguns exercícios.\n",
        "\n",
        "**Algoritmo:** pode ser entendido como um procedimento que descreve, sem ambiguidade, uma sequência de passos a ser executada, na resolução de um problema.\n",
        "\n",
        "A  seguir é apresentado um algoritmo que apresenta a precisão de uma máquina, o que depende da quantidade de *bits* utilizada para representar os números reais.\n",
        "\n",
        "**Exemplo 2.** Precisão da máquina.\n",
        "\n",
        "```\n",
        "1.  p = 1\n",
        "2.  c = 1\n",
        "3.  enquanto (c > 0) faça:\n",
        "4.     p = p/2\n",
        "5.     se (1 + p > 1) então:\n",
        "6.        c = c + 1\n",
        "7.     caso contrário\n",
        "8.        c = 0\n",
        "9.     fim se\n",
        "10. fim enquanto\n",
        "11. escreva p\n",
        "```\n",
        "\n",
        "Para ver a diferença entre a variável simples (*float* na linguagem C) e a variável com precisão dupla (*double* na linguagem C), vamos utilizar o módulo *numpy*. Este módulo necessita de instalação (mais detalhes veja [numpy](https://numpy.org/)) e para utilizá-lo:\n",
        "\n",
        "\n",
        "```\n",
        "import numpy as np\n",
        "```\n",
        "\n",
        "Para utilizar a precisão simples vamos usar ``` np.float32() ``` em cada variável real.\n",
        "\n"
      ],
      "metadata": {
        "id": "POitPBohFA1x"
      }
    },
    {
      "cell_type": "code",
      "execution_count": 2,
      "metadata": {
        "id": "UuAjwN1AE8b1",
        "outputId": "0e6ae97a-ac58-4177-9692-a7c6a0c4779f",
        "colab": {
          "base_uri": "https://localhost:8080/"
        }
      },
      "outputs": [
        {
          "output_type": "stream",
          "name": "stdout",
          "text": [
            "5.960464477539063e-08\n"
          ]
        }
      ],
      "source": [
        "import numpy as np\n",
        "\n",
        "p = np.float32(1)\n",
        "c = 1\n",
        "while(c > 0):\n",
        "    p = p/2\n",
        "    if(np.float32(p + 1) > 1):\n",
        "        c = c + 1\n",
        "    else:\n",
        "        c = 0\n",
        "print(p)\n",
        ""
      ]
    },
    {
      "cell_type": "markdown",
      "source": [
        "\n",
        "**Exemplo 3.** Erros de Truncamento\n",
        "\n",
        "Dado $x$, calcular uma aproximação para $e^x$ usando a série de Taylor truncada, com $x_0=0$.\n",
        "\n",
        "$$e^x \\approx 1 + \\sum_{i=1}^{N}\\dfrac{x^i}{i!}=1 + x + \\dfrac{x^2}{2!} + \\dfrac{x^3}{3!}+\\ldots+\\dfrac{x^N}{N!}$$\n",
        "\n",
        "Avalie o erro cometido, com diferentes valores de $N$.\n",
        "\n",
        "*Nota*. A série de Taylor de $f(x)$, com $x = x_0+h$, é dada por\n",
        "\n",
        "$$f(x)=f(x_0)+f'(x_0)h + \\dfrac{f^{''}(x_0)h^2}{2!} + \\dfrac{f^{'''}(x_0)h^3}{3!}+\\ldots$$**negrito**\n",
        "\n",
        "\n",
        "\n"
      ],
      "metadata": {
        "id": "dqkjUhVb34NO"
      }
    },
    {
      "cell_type": "code",
      "source": [
        "import numpy as np\n",
        "\n",
        "N = 10\n",
        "x = 1\n",
        "exponencial = np.exp(x)\n",
        "\n",
        "soma = 1\n",
        "pot = 1\n",
        "fat = 1\n",
        "for i in range(1,N):\n",
        "    pot = pot*x\n",
        "    fat = fat*i\n",
        "    soma += pot/fat\n",
        "\n",
        "print(soma)\n",
        "print(\"Erro absoluto:\", abs(exponencial-soma))\n"
      ],
      "metadata": {
        "id": "S06LAgcHJshq",
        "outputId": "e80ff07a-2fef-455c-bc7a-991e9b19eebb",
        "colab": {
          "base_uri": "https://localhost:8080/"
        }
      },
      "execution_count": 13,
      "outputs": [
        {
          "output_type": "stream",
          "name": "stdout",
          "text": [
            "2.7182815255731922\n",
            "Erro absoluto: 3.0288585284310443e-07\n"
          ]
        }
      ]
    },
    {
      "cell_type": "markdown",
      "source": [
        "**Exemplo 4.** Aproximação da derivada.\n",
        "\n",
        "A partir da Série de Taylor, obtemos uma expressão para aproximar a Derivada de uma função. Este método de aproximação se chama **Diferenças Finitas**.\n",
        "\n",
        "$$f(x+h) = f(x) + f^{'}(x)h+\\dfrac{f^{''}(x)h^2}{2}+\\ldots+\\dfrac{f^{(n)}(x)h^n}{n!}+\\ldots = f(x) + f^{'}(x)h+ O(h^2)\\Longrightarrow f'(x) = \\dfrac{f(x+h) - f(x)}{h} + O(h),$$\n",
        "com $h$ suficientemente pequeno. O erro cometido na aproximação da derivada é $O(h)$.\n",
        "\n",
        "*Verificação Numérica*\n",
        "\n",
        "Grande parte dos métodos numéricos possui uma ordem de aproximação do erro que depende de $h$, com $h$ suficientemente pequeno. Por exemplo, a aproximação da derivada, vista anteriormente, na notação assintótica é $O(h)$, ordem de aproximação do método é $1$. Isso significa, que o erro diminui na ordem que $h$ diminui.\n",
        "\n",
        "Suponha que resolvemos um problema com $h$ e que o método utilizado tem ordem de aproximação $p$, ou seja, o erro diminui na ordem que $h^p$ diminui, $O(h^p)$. Repetimos a resolução com $h/2$ e obteremos um erro $O\\left(\\left(\\frac{h}{2}\\right)^p\\right)$ e continuamos esse processo. Ao analisarmos a razão entre dois erros consecutivos, obtemos:\n",
        "\n",
        "$$\\dfrac{E_h}{E_{\\frac{h}{2}}}=\\dfrac{O(h^p)}{O((\\frac{h}{2})^p)}\\approx\\dfrac{h^p}{\\dfrac{h^p}{2^p}}=2^p.$$\n",
        "\n",
        "Assim, numericamente verificamos o erro analisando a sequência de razões entre os erros cometidos. Esta sequência de razões deve convergir para $2^p$, onde $p$ é a ordem de aproximação do método numérico.\n",
        "\n",
        "Escreva um algoritmo para aproximar a derivada e faça a verificação numérica da ordem de aproximação.\n",
        "\n",
        "Vamos verificar a ordem de aproximação para a aproximação da derivada de $f(x)=\\sin(x)$ em $x=0$, começando com $h=0.5$."
      ],
      "metadata": {
        "id": "i588FYD5KBKq"
      }
    },
    {
      "cell_type": "code",
      "source": [
        "import numpy as np\n",
        "\n",
        "def f(x):\n",
        "    return np.exp(x)\n",
        "\n",
        "def df(x):\n",
        "    return np.exp(x)\n",
        "\n",
        "x = 1\n",
        "h = 0.0625\n",
        "\n",
        "dap = (f(x+h) - f(x))/h\n",
        "\n",
        "print(\"Erro: \", abs(df(x) - dap))"
      ],
      "metadata": {
        "id": "VzBBYGQmKEH_",
        "outputId": "014e004e-6e30-4cb4-8a11-e0367e7373d6",
        "colab": {
          "base_uri": "https://localhost:8080/"
        }
      },
      "execution_count": 22,
      "outputs": [
        {
          "output_type": "stream",
          "name": "stdout",
          "text": [
            "Erro:  0.08674402294441164\n"
          ]
        }
      ]
    },
    {
      "cell_type": "code",
      "source": [
        "print(0.8085326552989938/0.36996268755214023)\n",
        "print(0.36996268755214023/0.17719833521284256)\n",
        "print(0.17719833521284256/0.08674402294441164)\n"
      ],
      "metadata": {
        "id": "E5rxzPZxgjjR",
        "outputId": "eaa3bfe0-1e94-47f9-de4a-f0d6c44a418b",
        "colab": {
          "base_uri": "https://localhost:8080/"
        }
      },
      "execution_count": 23,
      "outputs": [
        {
          "output_type": "stream",
          "name": "stdout",
          "text": [
            "2.1854437825842754\n",
            "2.087845165744689\n",
            "2.04277285279237\n"
          ]
        }
      ]
    },
    {
      "cell_type": "markdown",
      "source": [
        "**Exemplo 5.** Erros.\n",
        "\n",
        "Norma 2: $||v||_2=\\left(\\sum_{i=1}^nv_i^2\\right)^{\\frac{1}{2}}$\n",
        "\n",
        "Norma $\\infty$: $\\displaystyle{||v||_{\\infty}=\\max_{1\\le i\\le n}|v_i|}$\n",
        "\n",
        "Escreva funções que recebam um vetor e calcule a norma $2$ e a norma $\\infty$."
      ],
      "metadata": {
        "id": "10DdCFdQJBQG"
      }
    },
    {
      "cell_type": "code",
      "source": [
        "import numpy as np\n",
        "\n",
        "def norma2(v):\n",
        "    n = len(v)\n",
        "    soma = 0\n",
        "    for i in range(n):\n",
        "        soma += v[i]**2\n",
        "    return np.sqrt(soma)\n",
        "\n",
        "def maximo(v):\n",
        "    n = len(v)\n",
        "    vmax = 0\n",
        "    for i in range(n):\n",
        "        if(abs(v[i]) > vmax):\n",
        "            vmax = abs(v[i])\n",
        "    return vmax\n",
        "\n",
        "v = np.array([1, 1.7, 2.5])\n",
        "\n",
        "print(norma2(v))\n",
        "\n",
        "\n",
        "print(maximo(v))\n",
        "\n"
      ],
      "metadata": {
        "id": "C56BC4lCKJ3u",
        "outputId": "a7ddff48-81fd-494b-83a1-d3d23567ce9b",
        "colab": {
          "base_uri": "https://localhost:8080/"
        }
      },
      "execution_count": 27,
      "outputs": [
        {
          "output_type": "stream",
          "name": "stdout",
          "text": [
            "3.184336665618132\n",
            "2.5\n"
          ]
        }
      ]
    }
  ]
}