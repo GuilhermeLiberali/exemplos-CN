{
  "nbformat": 4,
  "nbformat_minor": 0,
  "metadata": {
    "colab": {
      "name": "CN_unidade5.ipynb",
      "provenance": [],
      "collapsed_sections": [],
      "toc_visible": true,
      "authorship_tag": "ABX9TyPKhMnJAAMbD0tA9l9I7Ro9",
      "include_colab_link": true
    },
    "kernelspec": {
      "name": "python3",
      "display_name": "Python 3"
    },
    "language_info": {
      "name": "python"
    }
  },
  "cells": [
    {
      "cell_type": "markdown",
      "metadata": {
        "id": "view-in-github",
        "colab_type": "text"
      },
      "source": [
        "<a href=\"https://colab.research.google.com/github/pccalegari/exemplos-CN/blob/main/CN_unidade5.ipynb\" target=\"_parent\"><img src=\"https://colab.research.google.com/assets/colab-badge.svg\" alt=\"Open In Colab\"/></a>"
      ]
    },
    {
      "cell_type": "markdown",
      "metadata": {
        "id": "rRH8GXuTqTjd"
      },
      "source": [
        "\n",
        "\n",
        "\n",
        "\n",
        "# Unidade 5 - Integração Numérica e EDOs\n",
        "\n",
        "\n"
      ]
    },
    {
      "cell_type": "markdown",
      "metadata": {
        "id": "SUHnaI9tH795"
      },
      "source": [
        "Nesta unidade, vamos estudar métodos numéricos para aproximar a integral de funções,\n",
        "$$\\int_a^b f(x)dx$$\n",
        "\n",
        "e métodos numéricos para a solução de Equações Diferenciais Ordinárias (EDOs), \n",
        "$$\\dfrac{d}{dt}x(t) = f(t,x)$$\n",
        "onde $f(t,x)$ é um dado do problema. \n",
        "\n",
        "Para o primeiro problema estudaremos as fórmulas do **Trapézio**, **Simpson** e as **Fórmulas Gaussianas**. Para o segundo problema veremos os métodos de **Euler** e **Runge-Kutta** para uma equação e para um sistema de equações diferenciais ordinárias. A seguir, apresentamos alguns exemplos de resolução em *Python*. Vamos utilizar as bibliotecas [numpy](https://numpy.org/) e [scipy](https://scipy.github.io/devdocs/index.html)."
      ]
    },
    {
      "cell_type": "markdown",
      "metadata": {
        "id": "UseaF7aVI3NX"
      },
      "source": [
        "# Integração Numérica"
      ]
    },
    {
      "cell_type": "markdown",
      "source": [
        "**Fórmula dos Trapézios**\n",
        "\n",
        "$$\\int_a^bf(x)dx \\approx \\dfrac{h}{2}[f(a)+f(b)]$$\n",
        "\n",
        "**Algoritmo - Regra do Trapézio com repetição**\n",
        "\n",
        "\n",
        "\n",
        "1.   Dados $h, f(x_i)$, para $i=0:n$.\n",
        "2.   soma = 0\n",
        "3.   Para $i=1:n-1$, faça\n",
        "4.   $\\hspace{1pc}$  soma $=$ soma $+ f(x_i)$\n",
        "5.   $I_{TR}=\\dfrac{h}{2}[2\\cdot$soma $ +f(x_0) + f(x_n)]$\n",
        "\n",
        "**Fórmula de Simpson**\n",
        "\n",
        "$$\\int_a^bf(x)dx \\approx \\dfrac{h}{3}\\left[f(a)+4\\cdot f(x_m)+f(b)\\right]$$\n",
        "\n",
        "**Algoritmo - Regra de Simpson com repetição**\n",
        "\n",
        "\n",
        "\n",
        "1.   Dados $h, f(x_i)$, para $i=0:n$, com $n$ par.\n",
        "2.   soma = 0\n",
        "3.   Para $i=1,3,5,\\ldots,n-1$, faça\n",
        "4.   $\\hspace{1pc}$  soma $=$ soma $ + 2\\cdot f(x_i)+f(x_{i+1})$\n",
        "5.   $I_{SIM}=\\dfrac{h}{3}[2\\cdot$soma $ +f(x_0) - f(x_n)]$\n",
        "\n",
        "\n"
      ],
      "metadata": {
        "id": "zjFSic6w2KNy"
      }
    },
    {
      "cell_type": "code",
      "source": [
        "import numpy as np\n",
        "import matplotlib.pyplot as plt\n"
      ],
      "metadata": {
        "id": "PJaGnbRG2YzF"
      },
      "execution_count": null,
      "outputs": []
    },
    {
      "cell_type": "code",
      "source": [
        "def f(x):\n",
        "  return(1/x)\n",
        "\n",
        "def trapezio(n, a, b):\n",
        "  h = (b-a)/n\n",
        "  x = np.arange(a, b+h, h)\n",
        "\n",
        "  soma = 0\n",
        "  for i in range(1,n):\n",
        "    soma = soma + f(x[i])\n",
        "\n",
        "  T = (h/2.0)*(2*soma + f(x[0]) + f(x[n]))\n",
        "\n",
        "  return(T)\n",
        "\n",
        "def simpson(n, a, b):\n",
        "  h = (b-a)/n\n",
        "  x = np.arange(a, b+h, h)\n",
        "  #m = n//2\n",
        "  somap = 0\n",
        "  somai = 0\n",
        "  for i in range(1,n//2):\n",
        "    print(x[i])\n",
        "    somai = somai + f(x[2*i-1])\n",
        "    somap = somap + f(x[2*i])\n",
        "\n",
        "\n",
        "  S = (h/3.0)*(2*somap + 4*somai + f(x[0]) - f(x[n]))\n",
        "\n",
        "  return(S)\n",
        "\n"
      ],
      "metadata": {
        "id": "WOnWPlIu2lBU"
      },
      "execution_count": null,
      "outputs": []
    },
    {
      "cell_type": "markdown",
      "source": [
        "**Execício:** \n",
        "\n",
        "Corrigir a função **Fórmula de Simpson** no algoritmo acima ou reescrever o algoritmo no formato apresentedo!"
      ],
      "metadata": {
        "id": "RwMBe5h3YMvw"
      }
    },
    {
      "cell_type": "code",
      "source": [
        "n = 4 #número de subintervalos\n",
        "a = 1 # a e b extremos do intervalo de integração\n",
        "b = 2\n",
        "\n",
        "T = trapezio(n, a, b)\n",
        "print(T)\n",
        "\n",
        "S = simpson(n, a, b)\n",
        "print(S)"
      ],
      "metadata": {
        "colab": {
          "base_uri": "https://localhost:8080/"
        },
        "id": "OpTnlHIL3GGS",
        "outputId": "819d2f39-b221-4022-af80-f8a91b513fb4"
      },
      "execution_count": null,
      "outputs": [
        {
          "output_type": "stream",
          "name": "stdout",
          "text": [
            "0.6970238095238095\n",
            "1.25\n",
            "1.5\n",
            "0.6932539682539682\n"
          ]
        }
      ]
    }
  ]
}