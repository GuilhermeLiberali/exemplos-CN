{
  "nbformat": 4,
  "nbformat_minor": 0,
  "metadata": {
    "colab": {
      "name": "CN_unidade5.ipynb",
      "provenance": [],
      "collapsed_sections": [],
      "toc_visible": true,
      "authorship_tag": "ABX9TyNaxyPipjczPr9dCN33QcFM",
      "include_colab_link": true
    },
    "kernelspec": {
      "name": "python3",
      "display_name": "Python 3"
    },
    "language_info": {
      "name": "python"
    }
  },
  "cells": [
    {
      "cell_type": "markdown",
      "metadata": {
        "id": "view-in-github",
        "colab_type": "text"
      },
      "source": [
        "<a href=\"https://colab.research.google.com/github/pccalegari/exemplos-CN/blob/main/CN_unidade5.ipynb\" target=\"_parent\"><img src=\"https://colab.research.google.com/assets/colab-badge.svg\" alt=\"Open In Colab\"/></a>"
      ]
    },
    {
      "cell_type": "markdown",
      "metadata": {
        "id": "rRH8GXuTqTjd"
      },
      "source": [
        "\n",
        "\n",
        "\n",
        "\n",
        "# Unidade 5 - Integração Numérica e EDOs\n",
        "\n",
        "\n"
      ]
    },
    {
      "cell_type": "markdown",
      "metadata": {
        "id": "SUHnaI9tH795"
      },
      "source": [
        "Nesta unidade, vamos estudar métodos numéricos para aproximar a integral de funções,\n",
        "$$\\int_a^b f(x)dx$$\n",
        "\n",
        "e métodos numéricos para a solução de Equações Diferenciais Ordinárias (EDOs), \n",
        "$$\\dfrac{d}{dt}x(t) = f(t,x)$$\n",
        "onde $f(t,x)$ é um dado do problema. \n",
        "\n",
        "Para o primeiro problema estudaremos as fórmulas do **Trapézio**, **Simpson** e as **Fórmulas Gaussianas**. Para o segundo problema veremos os métodos de **Euler** e **Runge-Kutta** para uma equação e para um sistema de equações diferenciais ordinárias. A seguir, apresentamos alguns exemplos de resolução em *Python*. Vamos utilizar as bibliotecas [numpy](https://numpy.org/) e [scipy](https://scipy.github.io/devdocs/index.html)."
      ]
    },
    {
      "cell_type": "markdown",
      "metadata": {
        "id": "UseaF7aVI3NX"
      },
      "source": [
        "# Integração Numérica"
      ]
    },
    {
      "cell_type": "markdown",
      "source": [
        "**Fórmula dos Trapézios**\n",
        "\n",
        "$$\\int_a^bf(x)dx \\approx \\dfrac{h}{2}[f(a)+f(b)]$$\n",
        "\n",
        "**Algoritmo - Regra do Trapézio com repetição**\n",
        "\n",
        "\n",
        "\n",
        "1.   Dados $h, f(x_i)$, para $i=0:n$.\n",
        "2.   soma = 0\n",
        "3.   Para $i=1:n-1$, faça\n",
        "4.   $\\hspace{1pc}$  soma $=$ soma $+ f(x_i)$\n",
        "5.   $I_{TR}=\\dfrac{h}{2}[2\\cdot$soma $ +f(x_0) + f(x_n)]$\n",
        "\n",
        "**Fórmula de Simpson**\n",
        "\n",
        "$$\\int_a^bf(x)dx \\approx \\dfrac{h}{3}\\left[f(a)+4\\cdot f(x_m)+f(b)\\right]$$\n",
        "\n",
        "**Algoritmo - Regra de Simpson com repetição**\n",
        "\n",
        "\n",
        "\n",
        "1.   Dados $h, f(x_i)$, para $i=0:n$, com $n$ par.\n",
        "2.   soma = 0\n",
        "3.   Para $i=1,3,5,\\ldots,n-1$, faça\n",
        "4.   $\\hspace{1pc}$  soma $=$ soma $ + 2\\cdot f(x_i)+f(x_{i+1})$\n",
        "5.   $I_{SIM}=\\dfrac{h}{3}[2\\cdot$soma $ +f(x_0) - f(x_n)]$\n",
        "\n",
        "\n"
      ],
      "metadata": {
        "id": "zjFSic6w2KNy"
      }
    },
    {
      "cell_type": "code",
      "source": [
        "import numpy as np\n",
        "import matplotlib.pyplot as plt\n"
      ],
      "metadata": {
        "id": "PJaGnbRG2YzF"
      },
      "execution_count": 3,
      "outputs": []
    },
    {
      "cell_type": "code",
      "source": [
        "def f(x):\n",
        "  return(1/x)\n",
        "\n",
        "def trapezio(n, a, b):\n",
        "  h = (b-a)/n\n",
        "  x = np.arange(a, b+h, h)\n",
        "\n",
        "  soma = 0\n",
        "  for i in range(1,n):\n",
        "    soma = soma + f(x[i])\n",
        "\n",
        "  T = (h/2.0)*(2*soma + f(x[0]) + f(x[n]))\n",
        "\n",
        "  return(T)\n",
        "\n",
        "def simpson(n, a, b):\n",
        "  h = (b-a)/n\n",
        "  x = np.arange(a, b+h, h)\n",
        "  #m = n//2\n",
        "  somap = 0\n",
        "  somai = 0\n",
        "  for i in range(1,n//2):\n",
        "    print(x[i])\n",
        "    somai = somai + f(x[2*i-1])\n",
        "    somap = somap + f(x[2*i])\n",
        "\n",
        "\n",
        "  S = (h/3.0)*(2*somap + 4*somai + f(x[0]) - f(x[n]))\n",
        "\n",
        "  return(S)\n",
        "\n"
      ],
      "metadata": {
        "id": "WOnWPlIu2lBU"
      },
      "execution_count": 4,
      "outputs": []
    },
    {
      "cell_type": "markdown",
      "source": [
        "**Execício:** \n",
        "\n",
        "Corrigir a função **Fórmula de Simpson** no algoritmo acima ou reescrever o algoritmo no formato apresentado!"
      ],
      "metadata": {
        "id": "RwMBe5h3YMvw"
      }
    },
    {
      "cell_type": "code",
      "source": [
        "n = 4 #número de subintervalos\n",
        "a = 1 # a e b extremos do intervalo de integração\n",
        "b = 2\n",
        "\n",
        "T = trapezio(n, a, b)\n",
        "print(T)\n",
        "\n",
        "S = simpson(n, a, b)\n",
        "print(S)\n"
      ],
      "metadata": {
        "colab": {
          "base_uri": "https://localhost:8080/"
        },
        "id": "OpTnlHIL3GGS",
        "outputId": "03595b4a-7811-4bb7-aafb-e2ff121b37a4"
      },
      "execution_count": 5,
      "outputs": [
        {
          "output_type": "stream",
          "name": "stdout",
          "text": [
            "0.6970238095238095\n",
            "1.25\n",
            "0.4194444444444444\n"
          ]
        }
      ]
    },
    {
      "cell_type": "markdown",
      "source": [
        "# Solução Numérica de EDOs\n"
      ],
      "metadata": {
        "id": "vizRLudcAncw"
      }
    },
    {
      "cell_type": "markdown",
      "source": [
        "**Método de Euler**\n",
        "\n",
        "1.   Dados $y_0, \\Delta t$ e $f(t, y)$.\n",
        "2.   Para $k=0:n$, faça\n",
        "3.   $\\hspace{1pc}$  $y_{k+1}= y_k+ \\Delta t\\cdot f(t_k,y_k)$ \n",
        "\n",
        "**Método RK2**\n",
        "\n",
        "1.   Dados $y_0, \\Delta t$ e $f(t, y)$.\n",
        "2.   Para $i=0:n$, faça\n",
        "3.   $\\hspace{1pc}$ $\\kappa_1=f(t_i,y_i)$\n",
        "4.   $\\hspace{1pc}$ $\\kappa_2=f(t_i+\\Delta t,y_i+\\Delta t\\cdot \\kappa_1)$\n",
        "5.   $\\hspace{1pc}$  $y_{i+1}= y_i+ \\dfrac{\\Delta t}{2}\\left(\\kappa_1+\\kappa_2\\right)$ \n",
        "\n",
        "\n",
        "**Método RK4**\n",
        "\n",
        "1.   Dados $y_0, \\Delta t$ e $f(t, y)$.\n",
        "2.   Para $i=0:n$, faça\n",
        "3. $\\hspace{1pc}$ $\\kappa_1=f(t_i,y_i)$\n",
        "4.   $\\hspace{1pc}$ $\\kappa_2=f\\left(t_i+\\dfrac{\\Delta t}{2},y_i+\\dfrac{\\Delta t}{2}\\kappa_1\\right)$\n",
        "5.   $\\hspace{1pc}$ $\\kappa_3=f\\left(t_i+\\dfrac{\\Delta t}{2},y_i+\\dfrac{\\Delta t}{2}\\kappa_2\\right)$\n",
        "6.  $\\hspace{1pc}$  $\\kappa_4 = f(t_i+\\Delta t, y_i+\\Delta t\\kappa_3)$\n",
        "7. $\\hspace{1pc}$ $y_{i+1}= y_i+ \\dfrac{\\Delta t}{6}\\left(\\kappa_1+2\\kappa_2+2\\kappa_3+\\kappa_4\\right)$ \n"
      ],
      "metadata": {
        "id": "-eIpn4alA1AT"
      }
    },
    {
      "cell_type": "markdown",
      "source": [
        "**Exemplo** \n",
        "\n",
        "$\\dfrac{dx}{dt} = -y(t), \\hspace{1pc} x(0)=1$\n",
        "\n",
        "$\\dfrac{dy}{dt} = x(t), \\hspace{1pc}  y(0)=0$"
      ],
      "metadata": {
        "id": "PJ_In9iY0O--"
      }
    },
    {
      "cell_type": "code",
      "source": [
        "def f(t,x,y):\n",
        "  return (-y)\n",
        "\n",
        "def g(t,x,y):\n",
        "  return(x)\n",
        "\n",
        "def euler(x0, y0, t, dt):\n",
        "  x = np.zeros(N+1)\n",
        "  y = np.zeros(N+1)\n",
        "  x[0] = x0\n",
        "  y[0] = y0\n",
        "  for i in range(N):\n",
        "    k1x = f(t[i],x[i],y[i])\n",
        "    k1y = g(t[i],x[i],y[i])\n",
        "    x[i+1] = x[i] + dt*k1x\n",
        "    y[i+1] = y[i] + dt*k1y\n",
        "\n",
        "  return (x,y)\n",
        "  \n",
        "\n",
        "def RK2(x0, y0, t, dt):\n",
        "  \n",
        "  x = np.zeros(N+1)\n",
        "  y = np.zeros(N+1)\n",
        "  x[0] = x0\n",
        "  y[0] = y0\n",
        "  for i in range(N):\n",
        "    k1x = f(t[i],x[i],y[i])\n",
        "    k1y = g(t[i],x[i],y[i])\n",
        "    k2x = f(t[i]+dt,x[i]+dt*k1x,y[i]+dt*k1y)\n",
        "    k2y = g(t[i]+dt,x[i]+dt*k1x,y[i]+dt*k1y)\n",
        "    x[i+1] = x[i] + 0.5*dt*(k1x + k2x)\n",
        "    y[i+1] = y[i] + 0.5*dt*(k1y + k2y)\n",
        "\n",
        "  return(x,y)\n",
        "    \n",
        "\n"
      ],
      "metadata": {
        "id": "LcHAwkvAYwa_"
      },
      "execution_count": 6,
      "outputs": []
    },
    {
      "cell_type": "code",
      "source": [
        "N = 50 #número de subintervalos\n",
        "t0 = 0 # \n",
        "tN = 6\n",
        "dt = (tN - t0)/N\n",
        "t = np.arange(t0, tN+dt, dt)\n",
        "\n",
        "[x, y] = euler(t0,tN, t, dt)\n",
        "\n",
        "plt.figure(1)\n",
        "plt.plot(x, y, 'o')\n",
        "#plt.xlabel(\"Corrente\")\n",
        "#plt.ylabel(\"Voltagem\")\n",
        "plt.legend()\n",
        "plt.show()\n",
        "\n",
        "[x, y] = RK2(t0,tN,t, dt)\n",
        "\n",
        "plt.figure(2)\n",
        "plt.plot(t, x, 'o', label='x(t)')\n",
        "plt.plot(t, y, label='y(t)')\n",
        "#plt.xlabel(\"Corrente\")\n",
        "#plt.ylabel(\"Voltagem\")\n",
        "plt.legend()\n",
        "plt.show()\n",
        "\n",
        "plt.figure(3)\n",
        "plt.plot(x, y, 'o')\n",
        "#plt.xlabel(\"Corrente\")\n",
        "#plt.ylabel(\"Voltagem\")\n",
        "plt.legend()\n",
        "plt.show()"
      ],
      "metadata": {
        "colab": {
          "base_uri": "https://localhost:8080/",
          "height": 796
        },
        "id": "V3IcJuIfcnio",
        "outputId": "8999a133-6be1-4fb2-c0c8-fbaa8d6297bb"
      },
      "execution_count": 8,
      "outputs": [
        {
          "output_type": "stream",
          "name": "stderr",
          "text": [
            "No handles with labels found to put in legend.\n"
          ]
        },
        {
          "output_type": "display_data",
          "data": {
            "image/png": "[encoded data removed]",
            "text/plain": [
              "<Figure size 432x288 with 1 Axes>"
            ]
          },
          "metadata": {
            "needs_background": "light"
          }
        },
        {
          "output_type": "display_data",
          "data": {
            "image/png": "[encoded data removed]",
            "text/plain": [
              "<Figure size 432x288 with 1 Axes>"
            ]
          },
          "metadata": {
            "needs_background": "light"
          }
        },
        {
          "output_type": "stream",
          "name": "stderr",
          "text": [
            "No handles with labels found to put in legend.\n"
          ]
        },
        {
          "output_type": "display_data",
          "data": {
            "image/png": "[encoded data removed]",
            "text/plain": [
              "<Figure size 432x288 with 1 Axes>"
            ]
          },
          "metadata": {
            "needs_background": "light"
          }
        }
      ]
    }
  ]
}