{
  "nbformat": 4,
  "nbformat_minor": 0,
  "metadata": {
    "colab": {
      "provenance": [],
      "toc_visible": true,
      "authorship_tag": "ABX9TyOxrgZa7edTQK7D2iGuXoDc",
      "include_colab_link": true
    },
    "kernelspec": {
      "name": "python3",
      "display_name": "Python 3"
    },
    "language_info": {
      "name": "python"
    }
  },
  "cells": [
    {
      "cell_type": "markdown",
      "metadata": {
        "id": "view-in-github",
        "colab_type": "text"
      },
      "source": [
        "<a href=\"https://colab.research.google.com/github/pccalegari/exemplos-CN/blob/main/erros-atividades.ipynb\" target=\"_parent\"><img src=\"https://colab.research.google.com/assets/colab-badge.svg\" alt=\"Open In Colab\"/></a>"
      ]
    },
    {
      "cell_type": "markdown",
      "source": [
        "# Atividades Propostas\n",
        "\n",
        "\n",
        "\n",
        "1.   Escreva um programa que dado $n$, determine a soma dos $n$ primeiros números naturais.\n",
        "2.   Escreva um programa que receba dois vetores e calcule a norma do máximo da diferença entre estes vetores.\n",
        "3.   Escreva um programa que determine a precisão da máquina.\n",
        "4.   Escreva um programa, para calcular uma aproximação para $e^x$ pela série de Taylor:\n",
        "\n",
        "$$e^x = 1 + \\sum_{i=1}^{\\infty}\\dfrac{x^n}{n!}$$.\n",
        "\n",
        "(a)   Teste o seu programa com valores de $x$ próximos de zero e distantes de zero, utilizando diferentes valores de $n$.\n",
        "\n",
        "(b) Faça testes com valores de $x$ negativos.\n",
        "\n",
        "(c) Escolha um critério de parada para se interromper o cálculo da série. Justifique a sua escolha.\n",
        "\n"
      ],
      "metadata": {
        "id": "6FCOM7CkefWa"
      }
    }
  ]
}