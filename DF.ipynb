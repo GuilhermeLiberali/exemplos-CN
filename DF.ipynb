{
  "nbformat": 4,
  "nbformat_minor": 0,
  "metadata": {
    "colab": {
      "name": "DF.ipynb",
      "provenance": [],
      "toc_visible": true,
      "authorship_tag": "ABX9TyOmsFEvLBsm6vL1Um8y0Arc",
      "include_colab_link": true
    },
    "kernelspec": {
      "name": "python3",
      "display_name": "Python 3"
    },
    "language_info": {
      "name": "python"
    }
  },
  "cells": [
    {
      "cell_type": "markdown",
      "metadata": {
        "id": "view-in-github",
        "colab_type": "text"
      },
      "source": [
        "<a href=\"https://colab.research.google.com/github/pccalegari/exemplos-CN/blob/main/DF.ipynb\" target=\"_parent\"><img src=\"https://colab.research.google.com/assets/colab-badge.svg\" alt=\"Open In Colab\"/></a>"
      ]
    },
    {
      "cell_type": "markdown",
      "metadata": {
        "id": "uCplRBc4GlO1"
      },
      "source": [
        "# Aproximaçao de Derivadas \n",
        "\n",
        "Equaçoes Diferenciais Ordinárias\n",
        "\n",
        "**Exemplo 1:** Use o método de Euler para  obter uma soluçao aproximada no instante de tempo $t=1$.\n",
        "\n",
        "$$\\begin{array}{l}\n",
        "y'(t) = -y \\tan(t) - \\dfrac{1}{\\cos(t)}, t\\in [0,1]\\\\\n",
        "y(0) = 1\n",
        "\\end{array}$$\n",
        "\n",
        "Soluçao exata: $y(t)=\\cos(t)-\\sin(t)$\n",
        "\n",
        "Exemplo das notas de aula de Tratamento Numérico de Equaçoes Diferenciais Ordinárias (pág. 41).\n",
        "\n",
        "**Exercício:** Altere o seu programa utilizando vetores para armazenar $t$ e $y$ e visualize (por meio de gráficos) a soluçao aproximada e o erro em todos os pontos do itervalo."
      ]
    },
    {
      "cell_type": "code",
      "source": [
        "import matplotlib.pyplot as plt\n",
        "import numpy as np\n",
        "\n",
        "def f(t,y):\n",
        "  return(-y*np.tan(t) - 1.0/np.cos(t))\n",
        "\n",
        "def yexata(t):\n",
        "  return(np.cos(t) - np.sin(t))\n",
        "\n",
        "\n",
        "t0 = 0.0\n",
        "tf = 1.0\n",
        "y0 = 1.0\n",
        "N = 128\n",
        "dt = (tf - t0)/N\n",
        "for i in range(N):\n",
        "  yk = y0 + dt*f(t0,y0)\n",
        "  tk = t0 + dt\n",
        "  y0 = yk\n",
        "  t0 = tk\n",
        "  \n",
        "print(tk, yk, np.abs( yk - yexata(tk)))\n",
        "  "
      ],
      "metadata": {
        "colab": {
          "base_uri": "https://localhost:8080/"
        },
        "id": "YIUnyIyTNIXA",
        "outputId": "de25c1d6-90c0-4d19-b9c8-e150cca1d9e6"
      },
      "execution_count": null,
      "outputs": [
        {
          "output_type": "stream",
          "name": "stdout",
          "text": [
            "1.0 -0.3003499010490769 0.000818777890679856\n"
          ]
        }
      ]
    },
    {
      "cell_type": "markdown",
      "source": [
        "Método de Diferenças Finitas\n",
        "\n",
        "**Exemplo 2:** Use os métodos de Diferenças Finitas para  aproximar as derivadas $f'(x)$ e $f''(x)$ da funçao $f(x) = 10\\cos(x)$.\n",
        "\n"
      ],
      "metadata": {
        "id": "iMYWZj9-ZT9g"
      }
    }
  ]
}