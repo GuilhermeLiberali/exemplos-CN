{
  "nbformat": 4,
  "nbformat_minor": 0,
  "metadata": {
    "colab": {
      "provenance": [],
      "include_colab_link": true
    },
    "kernelspec": {
      "name": "python3",
      "display_name": "Python 3"
    },
    "language_info": {
      "name": "python"
    }
  },
  "cells": [
    {
      "cell_type": "markdown",
      "metadata": {
        "id": "view-in-github",
        "colab_type": "text"
      },
      "source": [
        "<a href=\"https://colab.research.google.com/github/pccalegari/exemplos-CN/blob/main/unidade2_zeros.ipynb\" target=\"_parent\"><img src=\"https://colab.research.google.com/assets/colab-badge.svg\" alt=\"Open In Colab\"/></a>"
      ]
    },
    {
      "cell_type": "markdown",
      "metadata": {
        "id": "rRH8GXuTqTjd"
      },
      "source": [
        "\n",
        "\n",
        "\n",
        "\n",
        "# Unidade 2 - Zeros de funções\n",
        "\n",
        "\n"
      ]
    },
    {
      "cell_type": "markdown",
      "metadata": {
        "id": "SUHnaI9tH795"
      },
      "source": [
        "Nesta unidade, vamos estudar métodos iterativos para aproximar raízes de funções. A seguir, apresentamos alguns exemplos discutidos durante a aula."
      ]
    },
    {
      "cell_type": "markdown",
      "metadata": {
        "id": "LOxXZZWI_hg0"
      },
      "source": [
        "# Método da Bisecção\n",
        "\n",
        "Dados $f(x)$, $a$ e $b$ tais que $f(a)\\cdot f(b) < 0$, tol\n",
        "\n",
        "Algoritmo:\n",
        "\n",
        "1. $it = 0$\n",
        "2. $itmax = 100$\n",
        "3. enquanto ($\\dfrac{|b-a|}{2} > tol$ e $it < itmax$):\n",
        "4. $\\hspace{1pc}$ $\\displaystyle{x = \\dfrac{b+a}{2}}$\n",
        "5. $\\hspace{1pc}$  se ($f(a)\\cdot f(x) < 0$)\n",
        "6. $\\hspace{2pc}$  $b = x$\n",
        "7. $\\hspace{1pc}$  caso contrário:\n",
        "8. $\\hspace{2pc}$  $a = x$\n",
        "9. $\\hspace{1pc}$  $it = it + 1$\n",
        "\n"
      ]
    },
    {
      "cell_type": "markdown",
      "metadata": {
        "id": "q0ae0kRwHSnz"
      },
      "source": [
        "#Método da Falsa Posição\n",
        "\n",
        "No método da falsa posição, tomamos a intersecção da reta que passa pelos pontos $(a,f(a))$ e $(b,f(b))$ com o eixo $x$ como uma aproximação para o zero de $f(x)$.\n",
        "\n",
        "Algoritmo:\n",
        "\n",
        "Dados $f(x)$, $a$, $b$ e tol\n",
        "\n",
        "1. $it = 0$\n",
        "2. $itmax = 100$\n",
        "3. $x = a$\n",
        "4. enquanto ($|f(x)| > tol$ e $it < itmax$):\n",
        "5. $\\hspace{1pc}$ $\\displaystyle{x = \\dfrac{a\\cdot f(b) - b\\cdot f(a)}{f(b)-f(a)}}$\n",
        "5. $\\hspace{1pc}$  se ($f(a)\\cdot f(x) < 0$)\n",
        "6. $\\hspace{2pc}$  $b = x$\n",
        "7. $\\hspace{1pc}$  caso contrário:\n",
        "8. $\\hspace{2pc}$  $a = x$\n",
        "9. $\\hspace{1pc}$  $it = it + 1$\n",
        "\n",
        "Para testar os algoritmos da Bisecção e Falsa Posição, aproxime $\\sqrt{2}$.\n"
      ]
    },
    {
      "cell_type": "markdown",
      "metadata": {
        "id": "Yw-M3Xfc_gm7"
      },
      "source": [
        "#Método do Ponto Fixo\n",
        "\n",
        "**Exemplo 1:**\n",
        "\n",
        "Considere $f(x)=x^2+0.96x-2.08$. A função $f(x)$ possui uma raiz isolada no intervalo $[0,2]$.\n",
        "\n",
        "De fato, $f(x)$ troca de sinal, $f(0)=-2.08$ e $f(2)=3.84$. Além disso, $f'(x)>0,\\forall x\\in [0,2]$, ou seja, $f(x)$ é crescente em $[0,2]$. Portanto, existe uma única raiz no intervalo $[0,2]$.\n",
        "\n",
        " Considere as seguintes funções de ponto fixo:\n",
        "\n",
        "$$\\begin{array}{ll}\n",
        "\\displaystyle{\\phi_1(x)=\\dfrac{2.08-x^2}{0.96}} & \\displaystyle{\\phi_2(x)=\\dfrac{2.08-0.96x}{x}} \\\\\n",
        "\\displaystyle{\\phi_3(x)=\\sqrt{2.08-0.96x}} & \\displaystyle{\\phi_4(x)=\\dfrac{2.08}{x+0.96}} \\\\\n",
        "\\displaystyle{\\phi_5(x)=\\dfrac{2.08+x^2}{2x+0.96}} & \\displaystyle{\\phi_6(x)=x^2+1.96x-2.08}\n",
        "\\end{array}$$\n",
        "\n",
        "Vamos considerar $x_0=1.5$. Experimente outros valores para $x_0$."
      ]
    },
    {
      "cell_type": "markdown",
      "metadata": {
        "id": "YLptKFgMCISg"
      },
      "source": [
        "**Exemplo 2:**\n",
        "\n",
        "Determinar o zero de $f(x)=2x-\\cos(x)$."
      ]
    },
    {
      "cell_type": "markdown",
      "source": [
        "#Método de Newton\n",
        "\n",
        "A função de iteração do método de Newton é dada por:\n",
        "\n",
        "$$x_{n+1}=x_n - \\dfrac{f(x_n)}{f'(x_n)}$$\n",
        "\n",
        "Utilize o método de Newton para resolver o exemplo (2)."
      ],
      "metadata": {
        "id": "uLe1gvS914l3"
      }
    }
  ]
}