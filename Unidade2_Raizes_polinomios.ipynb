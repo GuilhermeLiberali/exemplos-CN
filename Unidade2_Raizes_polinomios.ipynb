{
  "nbformat": 4,
  "nbformat_minor": 0,
  "metadata": {
    "colab": {
      "provenance": [],
      "authorship_tag": "ABX9TyPuaPIeNNZTlw14Hb2+ZTn5",
      "include_colab_link": true
    },
    "kernelspec": {
      "name": "python3",
      "display_name": "Python 3"
    },
    "language_info": {
      "name": "python"
    }
  },
  "cells": [
    {
      "cell_type": "markdown",
      "metadata": {
        "id": "view-in-github",
        "colab_type": "text"
      },
      "source": [
        "<a href=\"https://colab.research.google.com/github/pccalegari/exemplos-CN/blob/main/Unidade2_Raizes_polinomios.ipynb\" target=\"_parent\"><img src=\"https://colab.research.google.com/assets/colab-badge.svg\" alt=\"Open In Colab\"/></a>"
      ]
    },
    {
      "cell_type": "markdown",
      "source": [
        "# Equações Algébricas\n",
        "\n",
        "**Funções com derivadas nulas**\n",
        "\n",
        "O método de Newton poderá ter problemas em uma vizinhança de uma raiz da derivada de $f(x)$. Considere a função $f(x) = e^x - x - 1$ que tem $\\alpha = 0$ como raiz. Note que $\\alpha = 0$ também anula $f'(x) = e^x - 1$.\n",
        "\n",
        "Pelo método de Newton, a sequência de aproximações é dada por\n",
        "\n",
        "$$x_{n+1} = x_n - \\dfrac{f(x_n)}{f'(x_n)}.$$\n",
        "\n",
        "Vamos ver algumas estratégias para contornar essa dificuldade, quando $\\displaystyle{\\lim_{n\\longrightarrow\\infty} f'(x_n) = 0}$.\n",
        "\n",
        "(a) Consideramos a função $\\displaystyle{g(x) =\\frac{f(x)}{f'(x)}}$. Se $\\alpha$ anula $f(x)$ também anula a função $g(x)$. Dessa forma, usando o método de Newton, vamos determinar a raiz de $g(x)$,\n",
        "\n",
        "$$x_{n+1}=x_n-\\frac{g(x_n)}{g'(x_n)} = x_n-\\frac{\\frac{f(x_n)}{f'(x_n)}}{\\frac{f'(x_n)^2 - f(x_n)f''(x_n)}{f'(x_n)^2}}.$$\n",
        "\n",
        "Assim,\n",
        "$$x_{n+1}=x_n-\\frac{f(x_n)f'(x_n)}{f'(x_n)^2 - f(x_n)f''(x_n)}.$$\n",
        "\n",
        "*Exemplo  1*.\n",
        "Determinar uma aproximação para a raiz de $f(x) = e^x-x-1$, partindo de $x_0=1$."
      ],
      "metadata": {
        "id": "POitPBohFA1x"
      }
    },
    {
      "cell_type": "code",
      "source": [],
      "metadata": {
        "id": "QgCS7rH9Bb_D"
      },
      "execution_count": 2,
      "outputs": []
    },
    {
      "cell_type": "code",
      "source": [],
      "metadata": {
        "id": "-_3iZ-4jlKZi"
      },
      "execution_count": null,
      "outputs": []
    },
    {
      "cell_type": "markdown",
      "source": [
        "\n",
        "(b) Aplicar a Regra de L'Hospital:\n",
        "*Sejam $f_1(x)$ e $f_2(x)$ contínuas e deriváveis em um intervalo $I$ com $f_2'(x)\\neq 0, \\forall x\\in I$ e seja $a\\in I$ tal que $f_1(a)=f_2(a)=0$. Supondo que exista* $\\displaystyle{\\lim_{x\\longrightarrow a}\\frac{f_1'(x)}{f_2'(x)}}$ *então*\n",
        "$$\\lim_{x\\longrightarrow a}\\frac{f_1(x)}{f_2(x)} = \\lim_{x\\longrightarrow a}\\frac{f_1'(x)}{f_2'(x)}.$$\n",
        "\n",
        "No nosso caso teremos, $\\displaystyle{\\lim_{n\\longrightarrow \\infty}\\frac{f(x_n)}{f'(x_n)} = \\lim_{n\\longrightarrow \\infty}\\frac{f'(x_n)}{f''(x_n)}}$"
      ],
      "metadata": {
        "id": "7dK18Ycx6RH8"
      }
    },
    {
      "cell_type": "code",
      "source": [],
      "metadata": {
        "id": "hGnDj91ZQAR4"
      },
      "execution_count": null,
      "outputs": []
    },
    {
      "cell_type": "markdown",
      "source": [
        "**Aproximação de raízes de polinômios**\n",
        "\n",
        "Considere um polinômio de grau $m$ dado por,\n",
        "$$p_m(x) = a_mx^m +a_{m-1}x^{m-1}+\\ldots+a_2x^2+a_1x+a_0,$$\n",
        "com $a_m,a_{m-1},\\ldots,a_2,a_1,a_0\\in\\mathbb{R}$ e $a_m\\neq 0$. Para utilizar o método de Newton, precisamos avaliar dois polinômios $p_m(x)$ e $p'_m(x)$. A avaliação de um polinômio pode ser feita da seguinte forma. Considere,\n",
        "$p_4(x) = a_4x^4+a_3x^3+a_2x^2+a_1x+a_0$, para avaliar este polinômio neste formato, serão realizadas 14 operações.\n",
        "Se reescrevermos o polinômiono formato, $p_4(x) = (((a_4x+a_3)x+a_2)x+a_1)x+a_0$, reduzimos o número de operações para 8.\n",
        "\n",
        "O **Método de Horner** para avaliar polinômios é baseado no seguinte resultado, dado pelo Teorema 2.19 [1].Defina\n",
        "\n",
        "$$\\begin{array}{ll}\n",
        "  b_n = a_n & \\\\\n",
        "  b_k = a_k + b_{k+1}x_0 & \\mbox{ para } k = n - 1,\\ldots 0.\\\\\n",
        "\\end{array}$$\n",
        "Então, $b_0=p(x_0)$.\n",
        "\n",
        "Além disso, se\n",
        "$$q(x) = b_nx^{n-1} + b_{n-1}x^{n-2}+\\ldots + b_2x+ b_1,$$\n",
        "então, podemos reescrever,\n",
        "$$p(x) = (x - x_0)q(x) + b_0.$$\n",
        "\n",
        "Derivando $p(x)$ e usando a regra do produto,  obtemos,\n",
        "$$p'(x) = q(x) + (x-x_0)q'(x).$$\n",
        "\n",
        "Dessa forma, $p'(x_0) = q(x_0)$.\n",
        "\n",
        "Assim o método de Newton em conjunto com o método de Horner é dado por:\n",
        "\n",
        "$$x_{n+1} = x_n - \\dfrac{p(x_n)}{q(x_n)}$$\n",
        "\n",
        "*Algoritmo de Horner*: Para avaliar um polinômio $p(x)$ e sua derivada em $p'(x)$ em $x_0$.\n",
        "\n",
        "Entrada: grau $n$, os coeficientes $a_0, a_1, \\ldots, a_n$ e $x_0k$.\n",
        "\n",
        "Saída: $y = p(x_0)$ e $z = p'(x_0)$.\n",
        "\n",
        "```\n",
        "1.  y = a_n e z = a_n\n",
        "2.  Para j = n - 1, n-2, ..., 1 faça\n",
        "3.     y = x_0y + a_j\n",
        "4.     z = x_0z + y\n",
        "5.  fim para\n",
        "6.  y = x_0y + a_0\n",
        "```\n",
        "[1] Richard L. Burden  and Douglas  Faires (2011) *Numerical Analysis*, 9$^{th}$ Edition, Brooks/Cole, Cengage Learning.\n",
        "\n",
        "\n",
        "*Exemplo 1.* Vamos realizar duas iterações do método de Newton para aproximar uma raiz do polinômio $p(x) = 2x^4-3x^2+3x-4$ partindo de $x_0=-2$ e usando o método de Horner para avaliar $p(x)$ e $p'(x)$."
      ],
      "metadata": {
        "id": "dqkjUhVb34NO"
      }
    },
    {
      "cell_type": "code",
      "source": [
        "\n"
      ],
      "metadata": {
        "id": "w9oR7zMa5KfR"
      },
      "execution_count": null,
      "outputs": []
    }
  ]
}