{
  "nbformat": 4,
  "nbformat_minor": 0,
  "metadata": {
    "colab": {
      "name": " unidade2.ipynb",
      "provenance": [],
      "collapsed_sections": [],
      "toc_visible": true,
      "include_colab_link": true
    },
    "kernelspec": {
      "name": "python3",
      "display_name": "Python 3"
    },
    "language_info": {
      "name": "python"
    }
  },
  "cells": [
    {
      "cell_type": "markdown",
      "metadata": {
        "id": "view-in-github",
        "colab_type": "text"
      },
      "source": [
        "<a href=\"https://colab.research.google.com/github/pccalegari/exemplos-CN/blob/main/unidade2.ipynb\" target=\"_parent\"><img src=\"https://colab.research.google.com/assets/colab-badge.svg\" alt=\"Open In Colab\"/></a>"
      ]
    },
    {
      "cell_type": "markdown",
      "metadata": {
        "id": "rRH8GXuTqTjd"
      },
      "source": [
        "\n",
        "\n",
        "\n",
        "\n",
        "# Unidade 2 - Zeros de funções\n",
        "\n",
        "\n"
      ]
    },
    {
      "cell_type": "markdown",
      "metadata": {
        "id": "SUHnaI9tH795"
      },
      "source": [
        "Nesta unidade, vamos estudar métodos iterativos para aproximar raízes de funções. A seguir, apresentamos alguns exemplos discutidos durante a aula."
      ]
    },
    {
      "cell_type": "markdown",
      "metadata": {
        "id": "UseaF7aVI3NX"
      },
      "source": [
        "# Exemplo 1"
      ]
    },
    {
      "cell_type": "markdown",
      "metadata": {
        "id": "YXR5d7XdrIdb"
      },
      "source": [
        "Considere $f(x)=x^3-2x-5$.\n",
        "\n"
      ]
    },
    {
      "cell_type": "code",
      "metadata": {
        "id": "xJuFV9C-qMEE",
        "colab": {
          "base_uri": "https://localhost:8080/",
          "height": 282
        },
        "outputId": "6dd305e3-061c-4e1e-fcf6-ebfbd068c75c"
      },
      "source": [
        "import numpy as np\n",
        "import matplotlib.pyplot as plt\n",
        "\n",
        "x = np.linspace(0,3,100)\n",
        "y = np.zeros(100)\n",
        "plt.figure(1)\n",
        "plt.plot(x,x**3-2*x-5,label='f')\n",
        "plt.plot(x,y,label='y=0')\n",
        "plt.plot(x,3*x**2-2,label='g')\n",
        "\n",
        "#print(1.5*1.5*1.3-2*1.5-5)\n"
      ],
      "execution_count": null,
      "outputs": [
        {
          "output_type": "execute_result",
          "data": {
            "text/plain": [
              "[<matplotlib.lines.Line2D at 0x7effa0bf2350>]"
            ]
          },
          "metadata": {},
          "execution_count": 19
        },
        {
          "output_type": "display_data",
          "data": {
            "image/png": "[encoded data removed]",
            "text/plain": [
              "<Figure size 432x288 with 1 Axes>"
            ]
          },
          "metadata": {
            "needs_background": "light"
          }
        }
      ]
    },
    {
      "cell_type": "markdown",
      "metadata": {
        "id": "P9Ve8gDTHl29"
      },
      "source": [
        "# Exemplo 2"
      ]
    },
    {
      "cell_type": "markdown",
      "metadata": {
        "id": "Yw-M3Xfc_gm7"
      },
      "source": [
        "Considere $f(x)=x^2+0.96x-2.08$. A função $f(x)$ possui uma raiz isolada no intervalo $[0,2]$. \n",
        "\n",
        "De fato, $f(x)$ troca de sinal, $f(0)=-2.08$ e $f(2)=3.84$. Além disso, $f'(x)>0,\\forall x\\in [0,2]$, ou seja, $f(x)$ é crescente em $[0,2]$. Portanto, existe uma única raiz no intervalo $[0,2]$.\n",
        "\n",
        " Considere as seguintes funções de ponto fixo:\n",
        "\n",
        "$$\\begin{array}{ll}\n",
        "\\displaystyle{\\phi_1(x)=\\dfrac{2.08-x^2}{0.96}} & \\displaystyle{\\phi_2(x)=\\dfrac{2.08-0.96x}{x}} \\\\ \n",
        "\\displaystyle{\\phi_3(x)=\\sqrt{2.08-0.96x}} & \\displaystyle{\\phi_4(x)=\\dfrac{2.08}{x+0.96}} \\\\ \n",
        "\\displaystyle{\\phi_5(x)=\\dfrac{2.08+x^2}{2x+0.96}} & \\displaystyle{\\phi_6(x)=x^2+1.96x-2.08}\n",
        "\\end{array}$$\n",
        "\n",
        "Vamos considerar $x_0=1.5$."
      ]
    },
    {
      "cell_type": "code",
      "metadata": {
        "id": "JN_-9ujUNeAD"
      },
      "source": [
        "import numpy as np\n",
        "import matplotlib.pyplot as plt\n",
        "\n",
        "def f(x):\n",
        "  return(x**2 + 0.96*x - 2.08)\n",
        "\n",
        "def phi1(x):\n",
        "  return((2.08 - x**2)/0.96)\n",
        "\n",
        "def phi2(x):\n",
        "  return((2.08-0.96*x)/x)\n",
        "\n",
        "def phi3(x):\n",
        "  return(np.sqrt(2.08-0.96*x))\n",
        "\n",
        "def phi4(x):\n",
        "  return((2.08)/(x+0.96))\n",
        "\n",
        "def phi5(x):\n",
        "  return((2.08+x**2)/(2*x+0.96))\n",
        "\n",
        "def phi6(x):\n",
        "  return(x**2+1.96*x-2.08)"
      ],
      "execution_count": null,
      "outputs": []
    },
    {
      "cell_type": "code",
      "metadata": {
        "id": "vxBp4dZS_PsP",
        "colab": {
          "base_uri": "https://localhost:8080/",
          "height": 798
        },
        "outputId": "3b266ca0-b595-4847-a5bf-a98b04d57828"
      },
      "source": [
        "x0 = 1.5\n",
        "i = 0\n",
        "imax = 100\n",
        "tol = 1.0e-6\n",
        "d = 1.0\n",
        "x = np.linspace(0,2,100)\n",
        "y = np.array(f(x))\n",
        "z = np.array(phi1(x))\n",
        "\n",
        "plt.figure(1)\n",
        "plt.plot(x,x)\n",
        "plt.plot(x,z)\n",
        "\n",
        "while(d > tol and i < imax):\n",
        "  x = phi1(x0)\n",
        "  d = abs(f(x))\n",
        "  x0 = x\n",
        "  i += 1\n",
        "  print(\"i= \",i,\" xap = \",x,\" delta = \",d)\n",
        "\n"
      ],
      "execution_count": null,
      "outputs": [
        {
          "output_type": "stream",
          "name": "stdout",
          "text": [
            "i=  1  xap =  -0.17708333333333326  delta =  2.2186414930555554\n",
            "i=  2  xap =  2.1340015552662037  delta =  4.522604130934131\n",
            "i=  3  xap =  -2.57704441445685  delta =  2.087195276204673\n",
            "i=  4  xap =  -4.751206160503385  delta =  15.932802065522063\n",
            "i=  5  xap =  -21.347874978755538  delta =  433.15780612897146\n",
            "i=  6  xap =  -472.55392302976753  delta =  222851.4784047149\n",
            "i=  7  xap =  -232609.5105946078  delta =  54106961111.85278\n",
            "i=  8  xap =  -56361650434.35725  delta =  3.176635639630575e+21\n",
            "i=  9  xap =  -3.3089954580048773e+21  delta =  1.0949450941096908e+43\n",
            "i=  10  xap =  -1.1405678063642613e+43  delta =  1.300894920914583e+86\n",
            "i=  11  xap =  -1.3550988759526906e+86  delta =  1.8362929636082458e+172\n"
          ]
        },
        {
          "output_type": "error",
          "ename": "OverflowError",
          "evalue": "ignored",
          "traceback": [
            "\u001b[0;31m---------------------------------------------------------------------------\u001b[0m",
            "\u001b[0;31mOverflowError\u001b[0m                             Traceback (most recent call last)",
            "\u001b[0;32m<ipython-input-16-129a0bbb620b>\u001b[0m in \u001b[0;36m<module>\u001b[0;34m()\u001b[0m\n\u001b[1;32m     14\u001b[0m \u001b[0;32mwhile\u001b[0m\u001b[0;34m(\u001b[0m\u001b[0md\u001b[0m \u001b[0;34m>\u001b[0m \u001b[0mtol\u001b[0m \u001b[0;32mand\u001b[0m \u001b[0mi\u001b[0m \u001b[0;34m<\u001b[0m \u001b[0mimax\u001b[0m\u001b[0;34m)\u001b[0m\u001b[0;34m:\u001b[0m\u001b[0;34m\u001b[0m\u001b[0;34m\u001b[0m\u001b[0m\n\u001b[1;32m     15\u001b[0m   \u001b[0mx\u001b[0m \u001b[0;34m=\u001b[0m \u001b[0mphi1\u001b[0m\u001b[0;34m(\u001b[0m\u001b[0mx0\u001b[0m\u001b[0;34m)\u001b[0m\u001b[0;34m\u001b[0m\u001b[0;34m\u001b[0m\u001b[0m\n\u001b[0;32m---> 16\u001b[0;31m   \u001b[0md\u001b[0m \u001b[0;34m=\u001b[0m \u001b[0mabs\u001b[0m\u001b[0;34m(\u001b[0m\u001b[0mf\u001b[0m\u001b[0;34m(\u001b[0m\u001b[0mx\u001b[0m\u001b[0;34m)\u001b[0m\u001b[0;34m)\u001b[0m\u001b[0;34m\u001b[0m\u001b[0;34m\u001b[0m\u001b[0m\n\u001b[0m\u001b[1;32m     17\u001b[0m   \u001b[0mx0\u001b[0m \u001b[0;34m=\u001b[0m \u001b[0mx\u001b[0m\u001b[0;34m\u001b[0m\u001b[0;34m\u001b[0m\u001b[0m\n\u001b[1;32m     18\u001b[0m   \u001b[0mi\u001b[0m \u001b[0;34m+=\u001b[0m \u001b[0;36m1\u001b[0m\u001b[0;34m\u001b[0m\u001b[0;34m\u001b[0m\u001b[0m\n",
            "\u001b[0;32m<ipython-input-15-1050c29df6d6>\u001b[0m in \u001b[0;36mf\u001b[0;34m(x)\u001b[0m\n\u001b[1;32m      3\u001b[0m \u001b[0;34m\u001b[0m\u001b[0m\n\u001b[1;32m      4\u001b[0m \u001b[0;32mdef\u001b[0m \u001b[0mf\u001b[0m\u001b[0;34m(\u001b[0m\u001b[0mx\u001b[0m\u001b[0;34m)\u001b[0m\u001b[0;34m:\u001b[0m\u001b[0;34m\u001b[0m\u001b[0;34m\u001b[0m\u001b[0m\n\u001b[0;32m----> 5\u001b[0;31m   \u001b[0;32mreturn\u001b[0m\u001b[0;34m(\u001b[0m\u001b[0mx\u001b[0m\u001b[0;34m**\u001b[0m\u001b[0;36m2\u001b[0m \u001b[0;34m+\u001b[0m \u001b[0;36m0.96\u001b[0m\u001b[0;34m*\u001b[0m\u001b[0mx\u001b[0m \u001b[0;34m-\u001b[0m \u001b[0;36m2.08\u001b[0m\u001b[0;34m)\u001b[0m\u001b[0;34m\u001b[0m\u001b[0;34m\u001b[0m\u001b[0m\n\u001b[0m\u001b[1;32m      6\u001b[0m \u001b[0;34m\u001b[0m\u001b[0m\n\u001b[1;32m      7\u001b[0m \u001b[0;32mdef\u001b[0m \u001b[0mphi1\u001b[0m\u001b[0;34m(\u001b[0m\u001b[0mx\u001b[0m\u001b[0;34m)\u001b[0m\u001b[0;34m:\u001b[0m\u001b[0;34m\u001b[0m\u001b[0;34m\u001b[0m\u001b[0m\n",
            "\u001b[0;31mOverflowError\u001b[0m: (34, 'Numerical result out of range')"
          ]
        },
        {
          "output_type": "display_data",
          "data": {
            "image/png": "[encoded data removed]",
            "text/plain": [
              "<Figure size 432x288 with 1 Axes>"
            ]
          },
          "metadata": {
            "needs_background": "light"
          }
        }
      ]
    },
    {
      "cell_type": "markdown",
      "metadata": {
        "id": "YLptKFgMCISg"
      },
      "source": [
        "# Exemplo 3 \n",
        "\n",
        "$f(x)=2x\\cos(x)$"
      ]
    },
    {
      "cell_type": "code",
      "metadata": {
        "id": "5K1qRzwtCVLX"
      },
      "source": [
        "def f3(x):\n",
        "  return(2*x-np.cos(x))\n",
        "\n",
        "def phi3e(x):\n",
        "  return(np.cos(x)/2)"
      ],
      "execution_count": null,
      "outputs": []
    },
    {
      "cell_type": "code",
      "metadata": {
        "colab": {
          "base_uri": "https://localhost:8080/"
        },
        "id": "7I3MA_KdCrr7",
        "outputId": "51dfc576-fbe2-4a1a-8f3d-02dfe6c07940"
      },
      "source": [
        "i = 0\n",
        "x = 0\n",
        "tol = 1.e-8\n",
        "imax = 100\n",
        "while(abs(f3(x)) > tol and i < imax):\n",
        "  x = phi3e(x)\n",
        "  i += 1\n",
        "  print(i,x,abs(f3(x)))"
      ],
      "execution_count": null,
      "outputs": [
        {
          "output_type": "stream",
          "name": "stdout",
          "text": [
            "1 0.5 0.12241743810962724\n",
            "2 0.4387912809451864 0.02768328143004639\n",
            "3 0.4526329216602096 0.00596709089309988\n",
            "4 0.44964937621365964 0.0013008038355805107\n",
            "5 0.4502997781314499 0.0002828875235380002\n",
            "6 0.4501583343696809 6.155233292448603e-05\n",
            "7 0.45018911053614313 1.3391385731087446e-05\n",
            "8 0.4501824148432776 2.91351555825603e-06\n",
            "9 0.4501838716010567 6.338796498805976e-07\n",
            "10 0.4501835546612318 1.3791032738019737e-07\n",
            "11 0.45018362361639547 3.000451831436379e-08\n",
            "12 0.4501836086141363 6.527946072587554e-09\n"
          ]
        }
      ]
    },
    {
      "cell_type": "markdown",
      "metadata": {
        "id": "LOxXZZWI_hg0"
      },
      "source": [
        "# Método da Bisecção\n",
        "\n",
        "Dados $f(x)$, $a$ e $b$ tais que $f(a)\\cdot f(b) < 0$, tol\n",
        "\n",
        "Algoritmo:\n",
        "\n",
        "1. $it = 0$\n",
        "2. $itmax = 100$\n",
        "3. enquanto ($\\dfrac{|b-a|}{2} > tol$ e $it < itmax$): \n",
        "4. $\\hspace{1pc}$ $\\displaystyle{x = \\dfrac{b+a}{2}}$\n",
        "5. $\\hspace{1pc}$  se ($f(a)\\cdot f(x) < 0$)\n",
        "6. $\\hspace{2pc}$  $b = x$\n",
        "7. $\\hspace{1pc}$  caso contrário:\n",
        "8. $\\hspace{2pc}$  $a = x$\n",
        "9. $\\hspace{1pc}$  $it = it + 1$ \n",
        "\n"
      ]
    },
    {
      "cell_type": "markdown",
      "metadata": {
        "id": "q0ae0kRwHSnz"
      },
      "source": [
        "#Método da Falsa Posição\n",
        "\n",
        "No método da falsa posição, tomamos a intersecção da reta que passa pelos pontos $(a,f(a))$ e $(b,f(b))$ com o eixo $x$ como uma aproximação para o zero de $f(x)$.\n",
        "\n",
        "Algoritmo:\n",
        "\n",
        "Dados $f(x)$, $a$, $b$ e tol\n",
        "\n",
        "1. $it = 0$\n",
        "2. $itmax = 100$\n",
        "3. $x = a$\n",
        "4. enquanto ($|f(x)| > tol$ e $it < itmax$):\n",
        "5. $\\hspace{1pc}$ $\\displaystyle{x = \\dfrac{a\\cdot f(b) - b\\cdot f(a)}{f(b)-f(a)}}$\n",
        "5. $\\hspace{1pc}$  se ($f(a)\\cdot f(x) < 0$)\n",
        "6. $\\hspace{2pc}$  $b = x$\n",
        "7. $\\hspace{1pc}$  caso contrário:\n",
        "8. $\\hspace{2pc}$  $a = x$\n",
        "9. $\\hspace{1pc}$  $it = it + 1$\n"
      ]
    },
    {
      "cell_type": "markdown",
      "metadata": {
        "id": "6dgbITxGDpkM"
      },
      "source": [
        "#Método de Newton\n",
        "\n",
        "No método de Newton, linearizamos o problema. Em uma certa vizinhança, a aproximação linear pode ser obtida pelos primeiros termos da expansão em série de Taylor da função em questão. Assim a função de iteração é dada por:\n",
        "\n",
        "$$x_{n+1}=x_n-\\dfrac{f(x_n)}{f'(x_n)}$$\n",
        "\n",
        "Algoritmo:\n",
        "\n",
        "Dados $f(x)$, $x_0$ e tol\n",
        "\n",
        "1. $it = 0$\n",
        "2. $itmax = 100$\n",
        "3. $x = x_0$\n",
        "4. enquanto ($|f(x)| > tol$ e $it < itmax$):\n",
        "5. $\\hspace{1pc}$ $\\displaystyle{x = x - \\dfrac{f(x)}{f'(x)}}$\n",
        "6. $\\hspace{1pc}$  $it = it + 1$\n"
      ]
    },
    {
      "cell_type": "markdown",
      "metadata": {
        "id": "H04f2vTHFKtv"
      },
      "source": [
        "#Método da Secantes\n",
        "\n",
        "O método das Secantes é uma alternativa ao método de Newton. A ideia é evitar o cálculo de derivadas, substituindo-a (a inclinação da reta tangente) pela inclinação da reta secante. Assim a função de iteração é dada por:\n",
        "\n",
        "$$x_{n+1}=\\dfrac{x_{n-1}f(x_n) -x_nf(x_{n-1})}{f(x_n)-f(x_{n-1})}$$\n",
        "\n",
        "Algoritmo:\n",
        "\n",
        "Dados $f(x)$, $x_0$, $x_1$ e tol\n",
        "\n",
        "1. $it = 0$\n",
        "2. $itmax = 100$\n",
        "3. $x = x_1$\n",
        "4. enquanto ($|f(x)| > tol$ e $it < itmax$):\n",
        "5. $\\hspace{1pc}$ $\\displaystyle{x = \\dfrac{x_0f(x_1)-x_1f(x_0)}{f(x_1)-f(x_0)}}$\n",
        "6. $\\hspace{1pc}$  $x_0 = x_1$\n",
        "7. $\\hspace{1pc}$ $x_1 = x$\n",
        "8. $\\hspace{1pc}$ $it = it + 1$"
      ]
    },
    {
      "cell_type": "code",
      "metadata": {
        "id": "gvIzl_yCDTIr"
      },
      "source": [
        "def f(x):\n",
        "  return(x*x - 2)\n",
        "\n",
        "def biseccao(a,b,tol):\n",
        "  it = 0\n",
        "  itmax = 100\n",
        "  while(abs(b-a)/2 > tol and it < itmax):\n",
        "    x = (a+b)/2\n",
        "    if(f(a)*f(x) < 0):\n",
        "      b = x\n",
        "    else:\n",
        "      a = x\n",
        "    it += 1\n",
        "  print(it, x)\n",
        "  return(x)"
      ],
      "execution_count": 5,
      "outputs": []
    },
    {
      "cell_type": "code",
      "metadata": {
        "id": "GasZ_UfMMwtH"
      },
      "source": [
        "def falsaposicao(a,b,tol):\n",
        "  it = 0\n",
        "  itmax = 100\n",
        "  x = a\n",
        "  while(abs(f(x)) > tol and it < itmax):\n",
        "    x = (a*f(b) - b*f(a))/(f(b) - f(a))\n",
        "    if(f(a)*f(x) < 0):\n",
        "      b = x\n",
        "    else:\n",
        "      a = x\n",
        "    it += 1\n",
        "  print(it,x)\n",
        "  return(x)"
      ],
      "execution_count": 6,
      "outputs": []
    },
    {
      "cell_type": "code",
      "metadata": {
        "id": "e5j5Pcl7-wiW"
      },
      "source": [
        "def df(x):\n",
        "  return(2*x)\n",
        "\n",
        "\n",
        "def newton(x0, tol):\n",
        "  it = 0\n",
        "  itmax = 100\n",
        "  x = x0\n",
        "  while(abs(f(x)) > tol and it < itmax):\n",
        "    x = x - f(x)/df(x)\n",
        "    it += 1\n",
        "\n",
        "  print(\"numero de iteracoes = \", it)\n",
        "  return(x)\n",
        "\n",
        "def secante(x0, x1, tol):\n",
        "  it = 0\n",
        "  itmax = 100\n",
        "  x = x1\n",
        "  while(abs(f(x)) > tol and it < itmax):\n",
        "    x = (x0*f(x1) - x1*f(x0))/(f(x1) - f(x0))\n",
        "    x0 = x1\n",
        "    x1 = x\n",
        "    it += 1\n",
        "\n",
        "  print(\"numero de iteracoes = \", it)\n",
        "  return(x)"
      ],
      "execution_count": 7,
      "outputs": []
    },
    {
      "cell_type": "code",
      "metadata": {
        "colab": {
          "base_uri": "https://localhost:8080/"
        },
        "id": "_ddYScnNFFxF",
        "outputId": "44698a9e-5bd4-4576-9ee2-f66db3a3a40d"
      },
      "source": [
        "import numpy as np\n",
        "\n",
        "a = 0\n",
        "b = 2\n",
        "x0 = 1\n",
        "x1 = 2\n",
        "tol = 1e-4\n",
        "\n",
        "x = falsaposicao(a,b,tol)\n",
        "print(\"Falsa Posição:\", x, abs(x - np.sqrt(2)))\n",
        "\n",
        "y = biseccao(a,b,tol)\n",
        "print(\"Bisecção:\", y, abs(y - np.sqrt(2)))\n",
        "\n",
        "z = newton(x0, tol)\n",
        "print(\"Newton:\", z, abs(z-np.sqrt(2)))\n",
        "\n",
        "w = secante(x0, x1, tol)\n",
        "print(\"Secante: \", w, abs(w-np.sqrt(2)))\n",
        "\n"
      ],
      "execution_count": 8,
      "outputs": [
        {
          "output_type": "stream",
          "name": "stdout",
          "text": [
            "7 1.4142011834319526\n",
            "Falsa Posição: 1.4142011834319526 1.2378941142587863e-05\n",
            "14 1.4141845703125\n",
            "Bisecção: 1.4141845703125 2.8992060595145475e-05\n",
            "numero de iteracoes =  3\n",
            "Newton: 1.4142156862745099 2.1239014147411694e-06\n",
            "numero de iteracoes =  4\n",
            "Secante:  1.41421143847487 2.1238982250704197e-06\n"
          ]
        }
      ]
    }
  ]
}