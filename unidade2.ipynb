{
  "nbformat": 4,
  "nbformat_minor": 0,
  "metadata": {
    "colab": {
      "name": "unidade2.ipynb",
      "provenance": [],
      "collapsed_sections": [],
      "toc_visible": true,
      "include_colab_link": true
    },
    "kernelspec": {
      "name": "python3",
      "display_name": "Python 3"
    },
    "language_info": {
      "name": "python"
    }
  },
  "cells": [
    {
      "cell_type": "markdown",
      "metadata": {
        "id": "view-in-github",
        "colab_type": "text"
      },
      "source": [
        "<a href=\"https://colab.research.google.com/github/pccalegari/exemplos-CN/blob/main/unidade2.ipynb\" target=\"_parent\"><img src=\"https://colab.research.google.com/assets/colab-badge.svg\" alt=\"Open In Colab\"/></a>"
      ]
    },
    {
      "cell_type": "markdown",
      "metadata": {
        "id": "rRH8GXuTqTjd"
      },
      "source": [
        "\n",
        "\n",
        "\n",
        "\n",
        "# Unidade 2 - Zeros de funções\n",
        "\n",
        "\n"
      ]
    },
    {
      "cell_type": "markdown",
      "metadata": {
        "id": "SUHnaI9tH795"
      },
      "source": [
        "Nesta unidade, vamos estudar métodos iterativos para aproximar raízes de funções. A seguir, apresentamos alguns exemplos discutidos durante a aula."
      ]
    },
    {
      "cell_type": "markdown",
      "metadata": {
        "id": "UseaF7aVI3NX"
      },
      "source": [
        "# Exemplo 1"
      ]
    },
    {
      "cell_type": "markdown",
      "metadata": {
        "id": "YXR5d7XdrIdb"
      },
      "source": [
        "Considere $f(x)=x^3-2x-5$.\n",
        "\n"
      ]
    },
    {
      "cell_type": "code",
      "metadata": {
        "id": "xJuFV9C-qMEE",
        "colab": {
          "base_uri": "https://localhost:8080/",
          "height": 282
        },
        "outputId": "6dd305e3-061c-4e1e-fcf6-ebfbd068c75c"
      },
      "source": [
        "import numpy as np\n",
        "import matplotlib.pyplot as plt\n",
        "\n",
        "x = np.linspace(0,3,100)\n",
        "y = np.zeros(100)\n",
        "plt.figure(1)\n",
        "plt.plot(x,x**3-2*x-5,label='f')\n",
        "plt.plot(x,y,label='y=0')\n",
        "plt.plot(x,3*x**2-2,label='g')\n",
        "\n",
        "#print(1.5*1.5*1.3-2*1.5-5)\n"
      ],
      "execution_count": null,
      "outputs": [
        {
          "output_type": "execute_result",
          "data": {
            "text/plain": [
              "[<matplotlib.lines.Line2D at 0x7effa0bf2350>]"
            ]
          },
          "metadata": {},
          "execution_count": 19
        },
        {
          "output_type": "display_data",
          "data": {
            "image/png": "[encoded data removed]",
            "text/plain": [
              "<Figure size 432x288 with 1 Axes>"
            ]
          },
          "metadata": {
            "needs_background": "light"
          }
        }
      ]
    },
    {
      "cell_type": "markdown",
      "metadata": {
        "id": "P9Ve8gDTHl29"
      },
      "source": [
        "# Exemplo 2"
      ]
    },
    {
      "cell_type": "markdown",
      "metadata": {
        "id": "Yw-M3Xfc_gm7"
      },
      "source": [
        "Considere $f(x)=x^2+0.96x-2.08$. A função $f(x)$ possui uma raiz isolada no intervalo $[0,2]$. \n",
        "\n",
        "De fato, $f(x)$ troca de sinal, $f(0)=-2.08$ e $f(2)=3.84$. Além disso, $f'(x)>0,\\forall x\\in [0,2]$, ou seja, $f(x)$ é crescente em $[0,2]$. Portanto, existe uma única raiz no intervalo $[0,2]$.\n",
        "\n",
        " Considere as seguintes funções de ponto fixo:\n",
        "\n",
        "$$\\begin{array}{ll}\n",
        "\\displaystyle{\\phi_1(x)=\\dfrac{2.08-x^2}{0.96}} & \\displaystyle{\\phi_2(x)=\\dfrac{2.08-0.96x}{x}} \\\\ \n",
        "\\displaystyle{\\phi_3(x)=\\sqrt{2.08-0.96x}} & \\displaystyle{\\phi_4(x)=\\dfrac{2.08}{x+0.96}} \\\\ \n",
        "\\displaystyle{\\phi_5(x)=\\dfrac{2.08+x^2}{2x+0.96}} & \\displaystyle{\\phi_6(x)=x^2+1.96x-2.08}\n",
        "\\end{array}$$\n",
        "\n",
        "Vamos considerar $x_0=1.5$."
      ]
    },
    {
      "cell_type": "code",
      "metadata": {
        "id": "JN_-9ujUNeAD"
      },
      "source": [
        "import numpy as np\n",
        "import matplotlib.pyplot as plt\n",
        "\n",
        "def f(x):\n",
        "  return(x**2 + 0.96*x - 2.08)\n",
        "\n",
        "def phi1(x):\n",
        "  return((2.08 - x**2)/0.96)\n",
        "\n",
        "def phi2(x):\n",
        "  return((2.08-0.96*x)/x)\n",
        "\n",
        "def phi3(x):\n",
        "  return(np.sqrt(2.08-0.96*x))\n",
        "\n",
        "def phi4(x):\n",
        "  return((2.08)/(x+0.96))\n",
        "\n",
        "def phi5(x):\n",
        "  return((2.08+x**2)/(2*x+0.96))\n",
        "\n",
        "def phi6(x):\n",
        "  return(x**2+1.96*x-2.08)"
      ],
      "execution_count": null,
      "outputs": []
    },
    {
      "cell_type": "code",
      "metadata": {
        "id": "vxBp4dZS_PsP",
        "colab": {
          "base_uri": "https://localhost:8080/",
          "height": 595
        },
        "outputId": "3c4cdf31-70fa-44d1-8a47-1379f9931d57"
      },
      "source": [
        "x0 = 1.5\n",
        "i = 0\n",
        "imax = 100\n",
        "tol = 1.0e-6\n",
        "d = 1.0\n",
        "x = np.linspace(0,2,100)\n",
        "y = np.array(f(x))\n",
        "z = np.array(phi3(x))\n",
        "\n",
        "plt.figure(1)\n",
        "plt.plot(x,x)\n",
        "plt.plot(x,z)\n",
        "\n",
        "while(d > tol and i < imax):\n",
        "  x = phi3(x0)\n",
        "  d = abs(f(x))\n",
        "  x0 = x\n",
        "  i += 1\n",
        "  print(\"i= \",i,\" xap = \",x,\" delta = \",d)\n",
        "\n"
      ],
      "execution_count": null,
      "outputs": [
        {
          "output_type": "stream",
          "name": "stdout",
          "text": [
            "i=  1  xap =  0.8  delta =  0.6719999999999999\n",
            "i=  2  xap =  1.1454256850621083  delta =  0.3316086576596238\n",
            "i=  3  xap =  0.9901471316629544  delta =  0.1490674112631878\n",
            "i=  4  xap =  1.0627599698913974  delta =  0.06970832469930555\n",
            "i=  5  xap =  1.029441804525277  delta =  0.03198543875147575\n",
            "i=  6  xap =  1.0448616500071837  delta =  0.01480305166263074\n",
            "i=  7  xap =  1.0377537357162843  delta =  0.006823597719263663\n",
            "i=  8  xap =  1.041036221133716  delta =  0.003151186000734718\n",
            "i=  9  xap =  1.0395216340758053  delta =  0.0014540035755947756\n",
            "i=  10  xap =  1.040220760842249  delta =  0.0006711616957861821\n",
            "i=  11  xap =  1.0398981053889083  delta =  0.0003097492352073239\n",
            "i=  12  xap =  1.0400470272187927  delta =  0.0001429649566890845\n",
            "i=  13  xap =  1.0399782949032923  delta =  6.598302288018942e-05\n",
            "i=  14  xap =  1.0400100176886948  delta =  3.0453873986147073e-05\n",
            "i=  15  xap =  1.039995376441094  delta =  1.4055597696849276e-05\n",
            "i=  16  xap =  1.040002133948075  delta =  6.487206701599746e-06\n",
            "i=  17  xap =  1.0399990151004221  delta =  2.994093746711002e-06\n",
            "i=  18  xap =  1.0400004545689367  delta =  1.3818897741657565e-06\n",
            "i=  19  xap =  1.039999790198931  delta =  6.377952055380831e-07\n"
          ]
        },
        {
          "output_type": "display_data",
          "data": {
            "text/plain": [
              "<Figure size 432x288 with 1 Axes>"
            ],
            "image/png": "[encoded data removed]"
          },
          "metadata": {
            "needs_background": "light"
          }
        }
      ]
    },
    {
      "cell_type": "markdown",
      "metadata": {
        "id": "YLptKFgMCISg"
      },
      "source": [
        "# Exemplo 3 \n",
        "\n",
        "$f(x)=2x-\\cos(x)$"
      ]
    },
    {
      "cell_type": "code",
      "metadata": {
        "id": "5K1qRzwtCVLX"
      },
      "source": [
        "def f3(x):\n",
        "  return(2*x-np.cos(x))\n",
        "\n",
        "def phi3e(x):\n",
        "  return(np.cos(x)/2)"
      ],
      "execution_count": null,
      "outputs": []
    },
    {
      "cell_type": "code",
      "metadata": {
        "colab": {
          "base_uri": "https://localhost:8080/"
        },
        "id": "7I3MA_KdCrr7",
        "outputId": "fe233261-c091-45c2-d470-15961a5e6b0c"
      },
      "source": [
        "i = 0\n",
        "x = 0\n",
        "tol = 1.e-4\n",
        "imax = 100\n",
        "while(abs(f3(x)) > tol and i < imax):\n",
        "  x = phi3e(x)\n",
        "  i += 1\n",
        "  print(i,x,abs(f3(x)))"
      ],
      "execution_count": null,
      "outputs": [
        {
          "output_type": "stream",
          "name": "stdout",
          "text": [
            "1 0.5 0.12241743810962724\n",
            "2 0.4387912809451864 0.02768328143004639\n",
            "3 0.4526329216602096 0.00596709089309988\n",
            "4 0.44964937621365964 0.0013008038355805107\n",
            "5 0.4502997781314499 0.0002828875235380002\n",
            "6 0.4501583343696809 6.155233292448603e-05\n"
          ]
        }
      ]
    },
    {
      "cell_type": "code",
      "metadata": {
        "id": "UV7TCTqxMIQR"
      },
      "source": [],
      "execution_count": null,
      "outputs": []
    },
    {
      "cell_type": "markdown",
      "metadata": {
        "id": "LOxXZZWI_hg0"
      },
      "source": [
        "# Método da Bisecção\n",
        "\n",
        "Dados $f(x)$, $a$ e $b$ tais que $f(a)\\cdot f(b) < 0$, tol\n",
        "\n",
        "Algoritmo:\n",
        "\n",
        "1. $it = 0$\n",
        "2. $itmax = 100$\n",
        "3. enquanto ($\\dfrac{|b-a|}{2} > tol$ e $it < itmax$): \n",
        "4. $\\hspace{1pc}$ $\\displaystyle{x = \\dfrac{b+a}{2}}$\n",
        "5. $\\hspace{1pc}$  se ($f(a)\\cdot f(x) < 0$)\n",
        "6. $\\hspace{2pc}$  $b = x$\n",
        "7. $\\hspace{1pc}$  caso contrário:\n",
        "8. $\\hspace{2pc}$  $a = x$\n",
        "9. $\\hspace{1pc}$  $it = it + 1$ \n",
        "\n"
      ]
    },
    {
      "cell_type": "markdown",
      "metadata": {
        "id": "q0ae0kRwHSnz"
      },
      "source": [
        "#Método da Falsa Posição\n",
        "\n",
        "No método da falsa posição, tomamos a intersecção da reta que passa pelos pontos $(a,f(a))$ e $(b,f(b))$ com o eixo $x$ como uma aproximação para o zero de $f(x)$.\n",
        "\n",
        "Algoritmo:\n",
        "\n",
        "Dados $f(x)$, $a$, $b$ e tol\n",
        "\n",
        "1. $it = 0$\n",
        "2. $itmax = 100$\n",
        "3. $x = a$\n",
        "4. enquanto ($|f(x)| > tol$ e $it < itmax$):\n",
        "5. $\\hspace{1pc}$ $\\displaystyle{x = \\dfrac{a\\cdot f(b) - b\\cdot f(a)}{f(b)-f(a)}}$\n",
        "5. $\\hspace{1pc}$  se ($f(a)\\cdot f(x) < 0$)\n",
        "6. $\\hspace{2pc}$  $b = x$\n",
        "7. $\\hspace{1pc}$  caso contrário:\n",
        "8. $\\hspace{2pc}$  $a = x$\n",
        "9. $\\hspace{1pc}$  $it = it + 1$\n"
      ]
    },
    {
      "cell_type": "code",
      "metadata": {
        "id": "gvIzl_yCDTIr"
      },
      "source": [
        "def f(x):\n",
        "  return(x*x - 2)\n",
        "\n",
        "def biseccao(a,b,tol):\n",
        "  it = 0\n",
        "  itmax = 100\n",
        "  while(abs(b-a)/2 > tol and it < itmax):\n",
        "    x = (a+b)/2\n",
        "    if(f(a)*f(x) < 0):\n",
        "      b = x\n",
        "    else:\n",
        "      a = x\n",
        "    it += 1\n",
        "    print(it, x)\n",
        "  return(x)"
      ],
      "execution_count": null,
      "outputs": []
    },
    {
      "cell_type": "code",
      "metadata": {
        "id": "GasZ_UfMMwtH"
      },
      "source": [
        "def falsaposicao(a,b,tol):\n",
        "  it = 0\n",
        "  itmax = 100\n",
        "  x = a\n",
        "  while(abs(f(x)) > tol and it < itmax):\n",
        "    x = (a*f(b) - b*f(a))/(f(b) - f(a))\n",
        "    if(f(a)*f(x) < 0):\n",
        "      b = x\n",
        "    else:\n",
        "      a = x\n",
        "    it += 1\n",
        "    print(it,x)\n",
        "  return(x)"
      ],
      "execution_count": null,
      "outputs": []
    },
    {
      "cell_type": "code",
      "metadata": {
        "colab": {
          "base_uri": "https://localhost:8080/"
        },
        "id": "_ddYScnNFFxF",
        "outputId": "94759168-043b-4d94-db40-b5155f739bd1"
      },
      "source": [
        "a = 0\n",
        "b = 2\n",
        "tol = 1e-4\n",
        "print(\"Falsa Posição\")\n",
        "x = falsaposicao(a,b,tol)\n",
        "print(\"Bisecção\")\n",
        "y = biseccao(a,b,tol)\n",
        "\n"
      ],
      "execution_count": null,
      "outputs": [
        {
          "output_type": "stream",
          "name": "stdout",
          "text": [
            "Falsa Posição\n",
            "1 1.0\n",
            "2 1.3333333333333333\n",
            "3 1.4\n",
            "4 1.411764705882353\n",
            "5 1.4137931034482758\n",
            "6 1.414141414141414\n",
            "7 1.4142011834319526\n",
            "Bisecção\n",
            "1 1.0\n",
            "2 1.5\n",
            "3 1.25\n",
            "4 1.375\n",
            "5 1.4375\n",
            "6 1.40625\n",
            "7 1.421875\n",
            "8 1.4140625\n",
            "9 1.41796875\n",
            "10 1.416015625\n",
            "11 1.4150390625\n",
            "12 1.41455078125\n",
            "13 1.414306640625\n",
            "14 1.4141845703125\n"
          ]
        }
      ]
    }
  ]
}