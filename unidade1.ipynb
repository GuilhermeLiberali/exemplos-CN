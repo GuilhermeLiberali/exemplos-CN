{
  "nbformat": 4,
  "nbformat_minor": 0,
  "metadata": {
    "colab": {
      "name": "unidade1.ipynb",
      "provenance": [],
      "collapsed_sections": [],
      "toc_visible": true,
      "authorship_tag": "ABX9TyMyY+YV12S7dZt5Xl+eBezO",
      "include_colab_link": true
    },
    "kernelspec": {
      "name": "python3",
      "display_name": "Python 3"
    },
    "language_info": {
      "name": "python"
    }
  },
  "cells": [
    {
      "cell_type": "markdown",
      "metadata": {
        "id": "view-in-github",
        "colab_type": "text"
      },
      "source": [
        "<a href=\"https://colab.research.google.com/github/pccalegari/exemplos-CN/blob/main/unidade1.ipynb\" target=\"_parent\"><img src=\"https://colab.research.google.com/assets/colab-badge.svg\" alt=\"Open In Colab\"/></a>"
      ]
    },
    {
      "cell_type": "markdown",
      "metadata": {
        "id": "rRH8GXuTqTjd"
      },
      "source": [
        "\n",
        "\n",
        "\n",
        "\n",
        "# Unidade 1 - Introdução: Algoritmos e erros\n",
        "\n",
        "\n"
      ]
    },
    {
      "cell_type": "markdown",
      "metadata": {
        "id": "SUHnaI9tH795"
      },
      "source": [
        "Nesta unidade, vamos discutir os tipos de erros cometidos em simulações numéricas. Além disso, vamos estudar a representação e a aritmética de ponto flutuante e calcular os erros cometidos. A seguir, apresentamos alguns exemplos discutidos durante a aula."
      ]
    },
    {
      "cell_type": "markdown",
      "metadata": {
        "id": "UseaF7aVI3NX"
      },
      "source": [
        "# Exemplo 1"
      ]
    },
    {
      "cell_type": "markdown",
      "metadata": {
        "id": "YXR5d7XdrIdb"
      },
      "source": [
        "Dado $n$, determnar a soma dos $n$ primeiros números naturais.\n",
        "\n",
        "Solução: \n",
        "\n",
        "Entrada: $n$\n",
        "Saída: $$S = \\sum_{i=1}^n i$$\n",
        "\n",
        "\n"
      ]
    },
    {
      "cell_type": "markdown",
      "metadata": {
        "id": "HnUDC1oV6oJR"
      },
      "source": [
        "Solução usando comando de repetição."
      ]
    },
    {
      "cell_type": "code",
      "metadata": {
        "id": "xJuFV9C-qMEE",
        "colab": {
          "base_uri": "https://localhost:8080/"
        },
        "outputId": "0ebb92f6-1dbf-4f4f-aeb6-e3cc26a62283"
      },
      "source": [
        "print(\"Digite o valor de n\")\n",
        "n = int(input())\n",
        "s = 0\n",
        "for i in range(n+1):\n",
        "  s += i\n",
        "print(\"O valor da soma é\", s)"
      ],
      "execution_count": null,
      "outputs": [
        {
          "output_type": "stream",
          "name": "stdout",
          "text": [
            "Digite o valor de n\n",
            "7\n",
            "O valor da soma é 28\n"
          ]
        }
      ]
    },
    {
      "cell_type": "markdown",
      "metadata": {
        "id": "cO25tq7l6wEw"
      },
      "source": [
        "Solução direta usando fórmula. Vamos escrever $S = 1 + 2 + \\ldots + n$ e somando as duas parcela abaixo, \n",
        "$$\\begin{array}{l}\n",
        "S  = 1 + 2 + \\ldots + n\\\\\n",
        "S = n + n-1 + \\ldots + 1\n",
        "\\end{array}$$\n",
        "obtemos:\n",
        "$$\n",
        "2S = n(n+1)$$\n",
        "Portanto, \n",
        "$$S = n(n+1)/2$$"
      ]
    },
    {
      "cell_type": "code",
      "metadata": {
        "id": "hEH00V7v8ow0",
        "colab": {
          "base_uri": "https://localhost:8080/"
        },
        "outputId": "11925b53-c441-4009-c1a5-bc0bdb737fa1"
      },
      "source": [
        "n = int(input())\n",
        "S = n*(n+1)/2\n",
        "print(S)"
      ],
      "execution_count": null,
      "outputs": [
        {
          "output_type": "stream",
          "name": "stdout",
          "text": [
            "7\n",
            "28.0\n"
          ]
        }
      ]
    },
    {
      "cell_type": "markdown",
      "metadata": {
        "id": "P9Ve8gDTHl29"
      },
      "source": [
        "# Exemplo 2"
      ]
    },
    {
      "cell_type": "markdown",
      "metadata": {
        "id": "Yw-M3Xfc_gm7"
      },
      "source": [
        " Dado $n$, determinar a soma de $n$ números reais."
      ]
    },
    {
      "cell_type": "code",
      "metadata": {
        "id": "vxBp4dZS_PsP",
        "colab": {
          "base_uri": "https://localhost:8080/"
        },
        "outputId": "ed0fec82-6a4c-4029-9109-4bd32f03eca5"
      },
      "source": [
        "print(\"Digite o valor de n\")\n",
        "n = int(input())\n",
        "s = 0.0\n",
        "for i in range(n):\n",
        "  print(\"Digite um número real\")\n",
        "  r =   (input())\n",
        "  s += r\n",
        "print(\"O valor da soma é\", s)"
      ],
      "execution_count": null,
      "outputs": [
        {
          "output_type": "stream",
          "name": "stdout",
          "text": [
            "Digite o valor de n\n",
            "3\n",
            "Digite um número real\n",
            "1.23\n",
            "Digite um número real\n",
            "3.14\n",
            "Digite um número real\n",
            "2.7\n",
            "O valor da soma é 7.07\n"
          ]
        }
      ]
    },
    {
      "cell_type": "markdown",
      "metadata": {
        "id": "p_3ZGc_5Hq-d"
      },
      "source": [
        "# Exemplo 3"
      ]
    },
    {
      "cell_type": "markdown",
      "metadata": {
        "id": "8mCDAN1AIRux"
      },
      "source": [
        " Calcular o valor $e^{0.5}$.\n",
        "\n",
        "Solução: Usando série de Taylor, temos\n",
        "    $$f(x+x_0)=f(x_0)+\\sum_{k=1}^{\\infty}\\dfrac{f^k(x_0)}{k!}(x+x_0)^k,$$\n",
        "    então, para valores de $x$ em uma vizinhança de $x_0=0$ temos \n",
        "    $$e^x=1 + \\sum_{k=1}^{\\infty}\\dfrac{x^k}{k!}.$$\n",
        "\n",
        "Para obter uma solução precisamos \"truncar\" a série, fixando o valor máximo de $k$, ou seja,\n",
        "$$e^x\\approx 1 + \\sum_{k=1}^{n}\\dfrac{x^k}{k!}.$$"
      ]
    },
    {
      "cell_type": "code",
      "metadata": {
        "id": "L_XWMBvJJM_3",
        "colab": {
          "base_uri": "https://localhost:8080/"
        },
        "outputId": "3616c93f-a6d7-4d43-97f5-7315641121b6"
      },
      "source": [
        "import numpy as np\n",
        "import matplotlib.pyplot as plt\n",
        "\n",
        "\n",
        "print(\"Digite o valor de x, para o cálculo de e^x:\")\n",
        "x = float(input())\n",
        "\n",
        "print(\"Digite o número de termo da série, para o cálculo da exponencial\")\n",
        "n = int(input())\n",
        "\n",
        "s = 1\n",
        "i = 1\n",
        "f = 1\n",
        "er = []\n",
        "while(i < n+1):\n",
        "  f *= i # f = f*i\n",
        "  s += (x**i)/f # s = s + (x**i)/f\n",
        "  print(\"Python: e^x = \",np.exp(x))\n",
        "  print(\"Truncado: e^x = \", s)\n",
        "  er.append(abs(np.exp(x) - s)/abs(np.exp(x)))\n",
        "  i += 1\n",
        "\n",
        "#print(\"Erro: |e_p - e_t| = \", abs(np.exp(x) - s))\n",
        "\n",
        "#print(\"Erro relativo: |e_p - e_t|/|e_p| = \", abs(np.exp(x) - s)/abs(np.exp(x)))\n",
        "\n"
      ],
      "execution_count": null,
      "outputs": [
        {
          "output_type": "stream",
          "name": "stdout",
          "text": [
            "Digite o valor de x, para o cálculo de e^x:\n",
            "0.5\n",
            "Digite o número de termo da série, para o cálculo da exponencial\n",
            "5\n",
            "Python: e^x =  1.6487212707001282\n",
            "Truncado: e^x =  1.5\n",
            "Python: e^x =  1.6487212707001282\n",
            "Truncado: e^x =  1.625\n",
            "Python: e^x =  1.6487212707001282\n",
            "Truncado: e^x =  1.6458333333333333\n",
            "Python: e^x =  1.6487212707001282\n",
            "Truncado: e^x =  1.6484375\n",
            "Python: e^x =  1.6487212707001282\n",
            "Truncado: e^x =  1.6486979166666667\n"
          ]
        }
      ]
    },
    {
      "cell_type": "markdown",
      "metadata": {
        "id": "DOtu6JT2yecO"
      },
      "source": [
        "Gráfico do erro"
      ]
    },
    {
      "cell_type": "code",
      "metadata": {
        "id": "mGYjxiAfylKY",
        "colab": {
          "base_uri": "https://localhost:8080/",
          "height": 530
        },
        "outputId": "25119d89-1360-4e3e-f01a-a6b5cbe4c501"
      },
      "source": [
        "plt.figure(1)\n",
        "plt.semilogy(er)\n",
        "\n",
        "plt.figure(2)\n",
        "plt.plot(er)"
      ],
      "execution_count": null,
      "outputs": [
        {
          "output_type": "execute_result",
          "data": {
            "text/plain": [
              "[<matplotlib.lines.Line2D at 0x7fb83dd44290>]"
            ]
          },
          "metadata": {},
          "execution_count": 8
        },
        {
          "output_type": "display_data",
          "data": {
            "image/png": "[encoded data removed]",
            "text/plain": [
              "<Figure size 432x288 with 1 Axes>"
            ]
          },
          "metadata": {
            "needs_background": "light"
          }
        },
        {
          "output_type": "display_data",
          "data": {
            "image/png": "[encoded data removed]",
            "text/plain": [
              "<Figure size 432x288 with 1 Axes>"
            ]
          },
          "metadata": {
            "needs_background": "light"
          }
        }
      ]
    },
    {
      "cell_type": "markdown",
      "metadata": {
        "id": "h-XvU0puJnZV"
      },
      "source": [
        "# Exemplo 4"
      ]
    },
    {
      "cell_type": "markdown",
      "metadata": {
        "id": "jY8k5r_SMvi5"
      },
      "source": [
        "Representação de números na base binária:\n",
        "\n",
        "$$23 = 1\\times 2^4 + 0\\times 2^3 + 1\\times 2^2 + 1\\times 2^1 + 1\\times 2^0$$\n",
        "\n",
        "Algoritmo:\n",
        "\n",
        "entrada: $n$ (base decimal)\n",
        "\n",
        "saída: $b$ (base binária)\n",
        "\n",
        "\n",
        "\n"
      ]
    },
    {
      "cell_type": "code",
      "metadata": {
        "id": "60TUaQ8qWYoU",
        "colab": {
          "base_uri": "https://localhost:8080/"
        },
        "outputId": "0ea98ab5-2048-4393-a2d8-f91ee1811e52"
      },
      "source": [
        "n = int(input())\n",
        "b = 0\n",
        "i = 0\n",
        "q = 1\n",
        "\n",
        "while(q > 0):\n",
        "  q = n//2\n",
        "  r = n%2\n",
        "  b = b + r*(10**i)\n",
        "  i = i + 1\n",
        "  n = q\n",
        "print(b)"
      ],
      "execution_count": null,
      "outputs": [
        {
          "output_type": "stream",
          "name": "stdout",
          "text": [
            "3\n",
            "11\n"
          ]
        }
      ]
    },
    {
      "cell_type": "markdown",
      "metadata": {
        "id": "IE2C1pl7Jn2R"
      },
      "source": [
        "\n",
        "\n",
        "# Exemplo 5"
      ]
    },
    {
      "cell_type": "markdown",
      "metadata": {
        "id": "4LA_ifMwMwc5"
      },
      "source": [
        "Algoritmo: precisão da máquina"
      ]
    },
    {
      "cell_type": "code",
      "metadata": {
        "id": "bAigxYj3KWph"
      },
      "source": [
        "eps = 1\n",
        "while(eps +1 > 1):\n",
        "  eps = eps/2\n",
        "print(\"precisão:\", eps)\n"
      ],
      "execution_count": null,
      "outputs": []
    },
    {
      "cell_type": "markdown",
      "metadata": {
        "id": "2J1Fhr2KJoEB"
      },
      "source": [
        "# Exemplo 6"
      ]
    },
    {
      "cell_type": "markdown",
      "metadata": {
        "id": "cCf6CdVbMxRb"
      },
      "source": [
        "Erros de cancelamento: aritmética de ponto flutuante."
      ]
    },
    {
      "cell_type": "code",
      "metadata": {
        "id": "9FYf20bnKgfT"
      },
      "source": [
        "import numpy as np\n",
        "import numpy.linalg as la\n",
        "\n",
        "x = 1.13245\n",
        "y = 1.13244\n",
        "\n",
        "dif = abs(x-y)\n",
        "\n",
        "x_sp = np.float32(x)\n",
        "y_sp = np.float32(y)\n",
        "\n",
        "dif_sp = abs(x_fp - y_fp)\n",
        "\n",
        "x_dp = np.float64(x)\n",
        "y_dp = np.float64(y)\n",
        "dif_dp = abs(x_dp - y_dp)\n",
        "\n",
        "print(\"|x - y|=\",dif,\"|x-y|_sp=\",dif_sp,\"|x-y|_dp=\",dif_dp)\n",
        "\n",
        "z = np.array([1,2,5,4,3])\n",
        "n2z = la.norm(z, 2)\n",
        "nmax = la.norm(z, np.inf)\n",
        "\n",
        "print(\"||z||_2=\",n2z,\" \",\"||z||_max=\",nmax)\n"
      ],
      "execution_count": null,
      "outputs": []
    }
  ]
}